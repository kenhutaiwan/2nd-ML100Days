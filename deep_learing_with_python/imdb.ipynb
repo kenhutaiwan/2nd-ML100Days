{
 "cells": [
  {
   "cell_type": "markdown",
   "metadata": {},
   "source": [
    "# IMDB movie reviews classification"
   ]
  },
  {
   "cell_type": "code",
   "execution_count": 2,
   "metadata": {},
   "outputs": [],
   "source": [
    "# 預防錯誤： OMP: Error #15: Initializing libiomp5.dylib, but found libiomp5.dylib already initialized.\n",
    "import os\n",
    "\n",
    "os.environ['KMP_DUPLICATE_LIB_OK'] = 'True'"
   ]
  },
  {
   "cell_type": "code",
   "execution_count": 3,
   "metadata": {},
   "outputs": [
    {
     "name": "stderr",
     "output_type": "stream",
     "text": [
      "Using TensorFlow backend.\n"
     ]
    }
   ],
   "source": [
    "# loading the imdb dataset\n",
    "\n",
    "from keras.datasets import imdb\n",
    "\n",
    "# train_data: nparray of lists , train_label: ndarray of int64\n",
    "(train_data, train_labels), (test_data, test_labels) = imdb.load_data( num_words=10000)"
   ]
  },
  {
   "cell_type": "code",
   "execution_count": 4,
   "metadata": {},
   "outputs": [
    {
     "name": "stdout",
     "output_type": "stream",
     "text": [
      "? this film was just brilliant casting location scenery story direction everyone's really suited the part they played and you could just imagine being there robert ? is an amazing actor and now the same being director ? father came from the same scottish island as myself so i loved the fact there was a real connection with this film the witty remarks throughout the film were great it was just brilliant so much that i bought the film as soon as it was released for ? and would recommend it to everyone to watch and the fly fishing was amazing really cried at the end it was so sad and you know what they say if you cry at a film it must have been good and this definitely was also ? to the two little boy's that played the ? of norman and paul they were just brilliant children are often left out of the ? list i think because the stars that play them all grown up are such a big profile for the whole film but these children are amazing and should be praised for what they have done don't you think the whole story was so lovely because it was true and was someone's life after all that was shared with us all\n"
     ]
    }
   ],
   "source": [
    "# decode and print out the first review\n",
    "\n",
    "word_index = imdb.get_word_index()\n",
    "reverse_word_index = dict([(value, key) for (key, value) in word_index.items()]) \n",
    "decoded_review = ' '.join([reverse_word_index.get(i - 3, '?') for i in train_data[0]])\n",
    "print(decoded_review)"
   ]
  },
  {
   "cell_type": "code",
   "execution_count": 5,
   "metadata": {},
   "outputs": [],
   "source": [
    "# 書上說：我們不能直接把int list送進神經網路，而要藉由embedding層或使用1 hot encooding , P69\n",
    "# 自行實作1 hot encoding: convert integer sequences into a binary matrix\n",
    "\n",
    "import numpy as np\n",
    "\n",
    "def vectorize_sequences(sequences, dimension=10000):\n",
    "    results = np.zeros((len(sequences), dimension)) \n",
    "    for i, sequence in enumerate(sequences):\n",
    "        # Sets specific indices of results[i] to 1s\n",
    "        results[i, sequence] = 1.\n",
    "    return results\n",
    "\n",
    "# x_train.shape = (25000, 10000), x_train is ndarray of ndarray\n",
    "x_train = vectorize_sequences(train_data)\n",
    "x_test = vectorize_sequences(test_data)\n",
    "\n",
    "y_train = np.asarray(train_labels).astype('float32')\n",
    "y_test = np.asarray(test_labels).astype('float32')"
   ]
  },
  {
   "cell_type": "code",
   "execution_count": 30,
   "metadata": {},
   "outputs": [],
   "source": [
    "# 建立網路：二層，每層16個神經元，使用relu做為啟動函數，用二元交換熵做損失函數\n",
    "# 可以嘗試改用三層或一層，每層用32、64個神經元，使tanh做為啟動函數，用mse做損失函數\n",
    "\n",
    "from keras import models \n",
    "from keras import layers\n",
    "\n",
    "model = models.Sequential() \n",
    "model.add(layers.Dense(16, activation='tanh', input_shape=(10000,))) \n",
    "model.add(layers.Dense(16, activation='tanh')) \n",
    "model.add(layers.Dense(1, activation='sigmoid'))"
   ]
  },
  {
   "cell_type": "code",
   "execution_count": 31,
   "metadata": {},
   "outputs": [],
   "source": [
    "# 從訓練集中再劃分一塊做為驗證集\n",
    "\n",
    "x_val = x_train[:10000] \n",
    "partial_x_train = x_train[10000:]\n",
    "\n",
    "y_val = y_train[:10000] \n",
    "partial_y_train = y_train[10000:]"
   ]
  },
  {
   "cell_type": "code",
   "execution_count": 32,
   "metadata": {},
   "outputs": [
    {
     "name": "stdout",
     "output_type": "stream",
     "text": [
      "Train on 15000 samples, validate on 10000 samples\n",
      "Epoch 1/20\n",
      "15000/15000 [==============================] - 8s 523us/step - loss: 0.4936 - acc: 0.7959 - val_loss: 0.3683 - val_acc: 0.8699\n",
      "Epoch 2/20\n",
      "15000/15000 [==============================] - 2s 117us/step - loss: 0.2834 - acc: 0.9097 - val_loss: 0.2955 - val_acc: 0.8834\n",
      "Epoch 3/20\n",
      "15000/15000 [==============================] - 2s 125us/step - loss: 0.2013 - acc: 0.9329 - val_loss: 0.2696 - val_acc: 0.8888\n",
      "Epoch 4/20\n",
      "15000/15000 [==============================] - 2s 132us/step - loss: 0.1509 - acc: 0.9506 - val_loss: 0.2798 - val_acc: 0.8882\n",
      "Epoch 5/20\n",
      "15000/15000 [==============================] - 3s 169us/step - loss: 0.1161 - acc: 0.9612 - val_loss: 0.2969 - val_acc: 0.8837\n",
      "Epoch 6/20\n",
      "15000/15000 [==============================] - 2s 162us/step - loss: 0.0895 - acc: 0.9729 - val_loss: 0.3398 - val_acc: 0.8797\n",
      "Epoch 7/20\n",
      "15000/15000 [==============================] - 2s 138us/step - loss: 0.0693 - acc: 0.9793 - val_loss: 0.3676 - val_acc: 0.8776\n",
      "Epoch 8/20\n",
      "15000/15000 [==============================] - 2s 119us/step - loss: 0.0561 - acc: 0.9831 - val_loss: 0.4065 - val_acc: 0.8736\n",
      "Epoch 9/20\n",
      "15000/15000 [==============================] - 2s 112us/step - loss: 0.0430 - acc: 0.9877 - val_loss: 0.4655 - val_acc: 0.8717\n",
      "Epoch 10/20\n",
      "15000/15000 [==============================] - 2s 124us/step - loss: 0.0307 - acc: 0.9926 - val_loss: 0.4960 - val_acc: 0.8722\n",
      "Epoch 11/20\n",
      "15000/15000 [==============================] - 2s 134us/step - loss: 0.0292 - acc: 0.9921 - val_loss: 0.5228 - val_acc: 0.8698\n",
      "Epoch 12/20\n",
      "15000/15000 [==============================] - 2s 138us/step - loss: 0.0211 - acc: 0.9939 - val_loss: 0.5585 - val_acc: 0.8679\n",
      "Epoch 13/20\n",
      "15000/15000 [==============================] - 2s 114us/step - loss: 0.0186 - acc: 0.9949 - val_loss: 0.5965 - val_acc: 0.8665\n",
      "Epoch 14/20\n",
      "15000/15000 [==============================] - 2s 114us/step - loss: 0.0062 - acc: 0.9995 - val_loss: 0.6541 - val_acc: 0.8650\n",
      "Epoch 15/20\n",
      "15000/15000 [==============================] - 2s 116us/step - loss: 0.0261 - acc: 0.9932 - val_loss: 0.6772 - val_acc: 0.8645\n",
      "Epoch 16/20\n",
      "15000/15000 [==============================] - 2s 118us/step - loss: 0.0036 - acc: 0.9997 - val_loss: 0.6954 - val_acc: 0.8643\n",
      "Epoch 17/20\n",
      "15000/15000 [==============================] - 2s 118us/step - loss: 0.0030 - acc: 0.9997 - val_loss: 0.7333 - val_acc: 0.8632\n",
      "Epoch 18/20\n",
      "15000/15000 [==============================] - 2s 116us/step - loss: 0.0169 - acc: 0.9951 - val_loss: 0.7617 - val_acc: 0.8636\n",
      "Epoch 19/20\n",
      "15000/15000 [==============================] - 2s 113us/step - loss: 0.0013 - acc: 0.9999 - val_loss: 0.7791 - val_acc: 0.8632\n",
      "Epoch 20/20\n",
      "15000/15000 [==============================] - 2s 114us/step - loss: 0.0011 - acc: 0.9999 - val_loss: 0.8155 - val_acc: 0.8615\n"
     ]
    }
   ],
   "source": [
    "# 訓練模型\n",
    "\n",
    "model.compile(optimizer='rmsprop', loss='binary_crossentropy', metrics=['accuracy'])\n",
    "history = model.fit(partial_x_train, partial_y_train, epochs=20, batch_size=512, validation_data=(x_val, y_val))"
   ]
  },
  {
   "cell_type": "code",
   "execution_count": 33,
   "metadata": {},
   "outputs": [
    {
     "data": {
      "image/png": "[encoded data removed]",
      "text/plain": [
       "<Figure size 432x288 with 1 Axes>"
      ]
     },
     "metadata": {
      "needs_background": "light"
     },
     "output_type": "display_data"
    }
   ],
   "source": [
    "# plot the training and validation loss\n",
    "\n",
    "import matplotlib.pyplot as plt\n",
    "\n",
    "# history_dict has keys: 'acc', 'loss', 'val_acc', 'val_loss'\n",
    "history_dict = history.history \n",
    "loss_values = history_dict['loss'] \n",
    "val_loss_values = history_dict['val_loss']\n",
    "acc = history_dict['acc']\n",
    "\n",
    "epochs = range(1, len(acc) + 1)\n",
    "\n",
    "\n",
    "# “bo” is for “blue dot.”\n",
    "plt.plot(epochs, loss_values, 'bo', label='Training loss') \n",
    "# “b” is f or “solid blue line.”\n",
    "plt.plot(epochs, val_loss_values, 'b', label='Validation loss') \n",
    "plt.title('Training and validation loss') \n",
    "plt.xlabel('Epochs') \n",
    "plt.ylabel('Loss')  \n",
    "plt.legend()\n",
    "\n",
    "plt.show()"
   ]
  },
  {
   "cell_type": "code",
   "execution_count": 34,
   "metadata": {},
   "outputs": [
    {
     "data": {
      "image/png": "[encoded data removed]",
      "text/plain": [
       "<Figure size 432x288 with 1 Axes>"
      ]
     },
     "metadata": {
      "needs_background": "light"
     },
     "output_type": "display_data"
    }
   ],
   "source": [
    "# plot training and validation accuracy\n",
    "plt.clf()\n",
    "\n",
    "acc_values = history_dict['acc'] \n",
    "val_acc_values = history_dict['val_acc']\n",
    "\n",
    "plt.plot(epochs, acc_values, 'bo', label='Training acc') \n",
    "plt.plot(epochs, val_acc_values, 'b', label='Validation acc') \n",
    "plt.title('Training and validation accuracy') \n",
    "plt.xlabel('Epochs') \n",
    "plt.ylabel('Loss') \n",
    "plt.legend()\n",
    "\n",
    "plt.show()"
   ]
  },
  {
   "cell_type": "code",
   "execution_count": 35,
   "metadata": {},
   "outputs": [
    {
     "name": "stdout",
     "output_type": "stream",
     "text": [
      "0.00\n",
      "1.00\n",
      "0.09\n",
      "1.00\n",
      "1.00\n",
      "1.00\n",
      "0.98\n",
      "0.00\n",
      "0.99\n",
      "1.00\n"
     ]
    }
   ],
   "source": [
    "# use trained model to predict first 10 reviews in test dataset\n",
    "\n",
    "y_hat_test = model.predict(x_test[0:10])\n",
    "for y_hat in y_hat_test:\n",
    "    print(\"%04.2f\" % y_hat[0])\n"
   ]
  }
 ],
 "metadata": {
  "kernelspec": {
   "display_name": "Python 3",
   "language": "python",
   "name": "python3"
  },
  "language_info": {
   "codemirror_mode": {
    "name": "ipython",
    "version": 3
   },
   "file_extension": ".py",
   "mimetype": "text/x-python",
   "name": "python",
   "nbconvert_exporter": "python",
   "pygments_lexer": "ipython3",
   "version": "3.7.3"
  }
 },
 "nbformat": 4,
 "nbformat_minor": 2
}
