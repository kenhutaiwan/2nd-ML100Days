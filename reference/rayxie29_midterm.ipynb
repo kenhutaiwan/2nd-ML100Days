{
 "cells": [
  {
   "cell_type": "markdown",
   "metadata": {},
   "source": [
    "This kernel is most about feature engineering, some in there are good some arent <br />\n",
    "And there are some simple expainations about what I was doing. <br /> \n",
    "But I think this can be a simple reference to anyone who doesnt have idea how to hit > 0.7 AUC score(Public Score) <br />\n",
    "I had to admit, most of my submissions are the blending result of my previous submission.(Since Im kinda lazy, and I just wanted to ran out the submission number) <br />\n",
    "But the improvement was not very effectively. <br />\n",
    "The real improvement was when I did the feature engineering seriouly. <br />\n",
    "\n",
    "**Here are some place I think it is worth to try/modify/improve this kernel<br />**\n",
    "\n",
    "1. Missing value filling of Distance\n",
    "2. Encoding features with lable ( I had tried few times, it is pretty easy to overfit. But I think it might would be a breaking point )\n",
    "3. Feature selection/dropping ( There are many similar features in it, some of them might be bad. But I guess some of the models like gradientBoostingTree,randomForest... should be handle this situation well )\n",
    "4. Model tuning/selection ( Might can try stacking or blending, but this will take a lot of time to submit and this is why I was not doing it )\n",
    "\n",
    "It is welcome to discuss ! Please feel free to point out my mistake! <br />\n",
    "Also you can download this kernel from my github or from here directly. You can link to my github through my kaggle profile. Thanks, have a nice day."
   ]
  },
  {
   "cell_type": "markdown",
   "metadata": {},
   "source": [
    "# Modules Import"
   ]
  },
  {
   "cell_type": "code",
   "execution_count": 2,
   "metadata": {
    "_cell_guid": "b1076dfc-b9ad-4769-8c92-a6c4dae69d19",
    "_uuid": "8f2839f25d086af736a60e9eeb907d3b93b6e0e5"
   },
   "outputs": [
    {
     "name": "stdout",
     "output_type": "stream",
     "text": [
      "['train_offline.csv', 'submit_1560351520.csv', 'column_description.csv', 'sample_submission.csv', 'test_offline.csv']\n"
     ]
    },
    {
     "name": "stderr",
     "output_type": "stream",
     "text": [
      "/Users/ken/anaconda3/lib/python3.7/site-packages/sklearn/ensemble/weight_boosting.py:29: DeprecationWarning: numpy.core.umath_tests is an internal NumPy module and should not be imported. It will be removed in a future NumPy release.\n",
      "  from numpy.core.umath_tests import inner1d\n"
     ]
    },
    {
     "ename": "ModuleNotFoundError",
     "evalue": "No module named 'xgboost'",
     "output_type": "error",
     "traceback": [
      "\u001b[0;31m---------------------------------------------------------------------------\u001b[0m",
      "\u001b[0;31mModuleNotFoundError\u001b[0m                       Traceback (most recent call last)",
      "\u001b[0;32m<ipython-input-2-94b7de70cc95>\u001b[0m in \u001b[0;36m<module>\u001b[0;34m\u001b[0m\n\u001b[1;32m      9\u001b[0m \u001b[0;32mfrom\u001b[0m \u001b[0msklearn\u001b[0m\u001b[0;34m.\u001b[0m\u001b[0mmodel_selection\u001b[0m \u001b[0;32mimport\u001b[0m \u001b[0mtrain_test_split\u001b[0m\u001b[0;34m,\u001b[0m \u001b[0mRandomizedSearchCV\u001b[0m\u001b[0;34m,\u001b[0m \u001b[0mGridSearchCV\u001b[0m\u001b[0;34m\u001b[0m\u001b[0;34m\u001b[0m\u001b[0m\n\u001b[1;32m     10\u001b[0m \u001b[0;32mfrom\u001b[0m \u001b[0msklearn\u001b[0m\u001b[0;34m.\u001b[0m\u001b[0mensemble\u001b[0m \u001b[0;32mimport\u001b[0m \u001b[0mExtraTreesClassifier\u001b[0m\u001b[0;34m,\u001b[0m \u001b[0mRandomForestClassifier\u001b[0m\u001b[0;34m,\u001b[0m \u001b[0mGradientBoostingClassifier\u001b[0m\u001b[0;34m,\u001b[0m \u001b[0mAdaBoostClassifier\u001b[0m\u001b[0;34m\u001b[0m\u001b[0;34m\u001b[0m\u001b[0m\n\u001b[0;32m---> 11\u001b[0;31m \u001b[0;32mfrom\u001b[0m \u001b[0mxgboost\u001b[0m \u001b[0;32mimport\u001b[0m \u001b[0mXGBClassifier\u001b[0m\u001b[0;34m\u001b[0m\u001b[0;34m\u001b[0m\u001b[0m\n\u001b[0m\u001b[1;32m     12\u001b[0m \u001b[0;32mfrom\u001b[0m \u001b[0mlightgbm\u001b[0m \u001b[0;32mimport\u001b[0m \u001b[0mLGBMClassifier\u001b[0m\u001b[0;34m\u001b[0m\u001b[0;34m\u001b[0m\u001b[0m\n\u001b[1;32m     13\u001b[0m \u001b[0;32mfrom\u001b[0m \u001b[0mlightgbm\u001b[0m \u001b[0;32mimport\u001b[0m \u001b[0mLGBMRegressor\u001b[0m\u001b[0;34m\u001b[0m\u001b[0;34m\u001b[0m\u001b[0m\n",
      "\u001b[0;31mModuleNotFoundError\u001b[0m: No module named 'xgboost'"
     ]
    }
   ],
   "source": [
    "import numpy as np # linear algebra\n",
    "import pandas as pd # data processing, CSV file I/O (e.g. pd.read_csv)\n",
    "import os\n",
    "print(os.listdir(\"../homework/data/midterm/\"))\n",
    "import copy\n",
    "import datetime\n",
    "from sklearn.metrics import roc_auc_score, accuracy_score\n",
    "from sklearn.preprocessing import LabelEncoder, MinMaxScaler, StandardScaler\n",
    "from sklearn.model_selection import train_test_split, RandomizedSearchCV, GridSearchCV\n",
    "from sklearn.ensemble import ExtraTreesClassifier, RandomForestClassifier, GradientBoostingClassifier, AdaBoostClassifier\n",
    "from xgboost import XGBClassifier\n",
    "from lightgbm import LGBMClassifier\n",
    "from lightgbm import LGBMRegressor\n",
    "from sklearn.linear_model import LogisticRegression\n",
    "from mlxtend.regressor import StackingRegressor\n",
    "import sklearn.metrics\n",
    "import warnings\n",
    "\n",
    "import matplotlib.pyplot as plt\n",
    "import seaborn as sns\n",
    "\n",
    "warnings.filterwarnings('ignore')"
   ]
  },
  {
   "cell_type": "markdown",
   "metadata": {},
   "source": [
    "# Data Checking"
   ]
  },
  {
   "cell_type": "code",
   "execution_count": null,
   "metadata": {},
   "outputs": [],
   "source": [
    "train_df = pd.read_csv('../homework/data/midterm/train_offline.csv')\n",
    "test_df = pd.read_csv('../homework/data/midterm/test_offline.csv')\n",
    "\n",
    "test_ids = test_df[['User_id','Coupon_id','Date_received']]\n",
    "\n",
    "#Let's Check the shape of data first\n",
    "print(f' training shape : {train_df.shape} ')\n",
    "print(f' testing shape : {test_df.shape} ')"
   ]
  },
  {
   "cell_type": "code",
   "execution_count": null,
   "metadata": {},
   "outputs": [],
   "source": [
    "def CheckMissingVals(data):\n",
    "    for col in data.columns:\n",
    "        if np.sum(data[col].isnull()) != 0:\n",
    "            print(f' Missing values in {col} : {np.sum(data[col].isnull())}')\n",
    "\n",
    "print(\"Count of missing data in training dataset: \")\n",
    "CheckMissingVals(train_df)\n",
    "print('\\n')\n",
    "print(\"Count of missing data in testing dataset: \")\n",
    "CheckMissingVals(test_df)"
   ]
  },
  {
   "cell_type": "markdown",
   "metadata": {},
   "source": [
    "# Deal with missing values"
   ]
  },
  {
   "cell_type": "code",
   "execution_count": null,
   "metadata": {},
   "outputs": [],
   "source": [
    "total_df = pd.concat([train_df, test_df], axis = 0)"
   ]
  },
  {
   "cell_type": "code",
   "execution_count": null,
   "metadata": {},
   "outputs": [],
   "source": [
    "DistanceFilling_UM = total_df.groupby(['User_id','Merchant_id'])['Distance'].mean().reset_index()\n",
    "DistanceFilling_UM.columns = ['User_id','Merchant_id','DistanceFilling_UM']\n",
    "DistanceFilling_U = total_df.groupby(['User_id'])['Distance'].mean().reset_index()\n",
    "DistanceFilling_U.columns = ['User_id','DistanceFilling_U']\n",
    "DistanceFilling_M = total_df.groupby(['Merchant_id'])['Distance'].mean().reset_index()\n",
    "DistanceFilling_M.columns = ['Merchant_id','DistanceFilling_M']\n",
    "\n",
    "total_df = pd.merge(total_df,DistanceFilling_UM,on = ['User_id','Merchant_id'], how = 'left')\n",
    "total_df = pd.merge(total_df,DistanceFilling_U,on = ['User_id'], how = 'left')\n",
    "total_df = pd.merge(total_df,DistanceFilling_M,on = ['Merchant_id'], how = 'left')\n",
    "total_df.head(10)"
   ]
  },
  {
   "cell_type": "code",
   "execution_count": null,
   "metadata": {},
   "outputs": [],
   "source": [
    "def DistanceMissingFill(data):\n",
    "    if np.isnan(data['Distance']):\n",
    "        if not np.isnan(data['DistanceFilling_UM']):\n",
    "            return int(data['DistanceFilling_UM'])\n",
    "        elif not np.isnan(data['DistanceFilling_U']):\n",
    "            return int(data['DistanceFilling_U'])\n",
    "        elif not  np.isnan(data['DistanceFilling_M']):\n",
    "            return int(data['DistanceFilling_M'])\n",
    "    return data['Distance']\n",
    "\n",
    "total_df['Distance'] = total_df.apply(DistanceMissingFill, axis = 1)"
   ]
  },
  {
   "cell_type": "code",
   "execution_count": null,
   "metadata": {},
   "outputs": [],
   "source": [
    "total_df = total_df.drop(['DistanceFilling_UM','DistanceFilling_U','DistanceFilling_M'], axis = 1)\n",
    "train_df = total_df[:len(train_df)]\n",
    "test_df = total_df[len(train_df):]\n",
    "\n",
    "print(\"Count of missing data in training dataset: \")\n",
    "CheckMissingVals(train_df)\n",
    "print('\\n')\n",
    "print(\"Count of missing data in testing dataset: \")\n",
    "CheckMissingVals(test_df)\n"
   ]
  },
  {
   "cell_type": "markdown",
   "metadata": {},
   "source": [
    "**Our goal is to predict the use of Coupon, so obviously, if the row doesnt have coupon_id, we dont need to consider such condition.**"
   ]
  },
  {
   "cell_type": "code",
   "execution_count": null,
   "metadata": {},
   "outputs": [],
   "source": [
    "train_df = train_df[~train_df.Coupon_id.isnull()]\n",
    "test_df = test_df[~test_df.Coupon_id.isnull()]\n",
    "\n",
    "print(f' training shape after dropping unwant rows: {train_df.shape} ')\n",
    "print(f' testing shape after dropping unwant rows: {test_df.shape} ')"
   ]
  },
  {
   "cell_type": "markdown",
   "metadata": {},
   "source": [
    "**Also we only analysis the use of Coupon within 15 days after user received the Coupon. So If there are some users didnt use the Coupon within 15 days, we consider they didnt use the Coupon, which the probability of using Coupon is zero.**"
   ]
  },
  {
   "cell_type": "code",
   "execution_count": null,
   "metadata": {},
   "outputs": [],
   "source": [
    "#Dont forget to drop date column in testing data\n",
    "test_df = test_df.drop(['Date'], axis = 1)"
   ]
  },
  {
   "cell_type": "code",
   "execution_count": null,
   "metadata": {},
   "outputs": [],
   "source": [
    "def fifteenDaysChecking(data):\n",
    "    if not np.isnan(data['Date']):\n",
    "        #Means the user had used the coupon\n",
    "        time_diff = pd.to_datetime(data['Date'], format = \"%Y%m%d\") - pd.to_datetime(data['Date_received'],\n",
    "                                                                                   format = \"%Y%m%d\")\n",
    "        if time_diff <= pd.Timedelta(15,'D'):\n",
    "            return 1\n",
    "    return 0\n",
    "#This might will take a while\n",
    "train_df['label'] = train_df.apply(fifteenDaysChecking, axis = 1)\n",
    "print(train_df['label'].value_counts())\n",
    "train_df.head(5)"
   ]
  },
  {
   "cell_type": "code",
   "execution_count": null,
   "metadata": {},
   "outputs": [],
   "source": [
    "train_df = train_df.drop(['Date'], axis = 1)\n",
    "#Check the missing values again\n",
    "print(\"Count of missing data in training dataset: \")\n",
    "CheckMissingVals(train_df)\n",
    "print('\\n')\n",
    "print(\"Count of missing data in testing dataset: \")\n",
    "CheckMissingVals(test_df)"
   ]
  },
  {
   "cell_type": "code",
   "execution_count": null,
   "metadata": {},
   "outputs": [],
   "source": [
    "#Merge training & testing dataset for processing\n",
    "train_label = train_df.label\n",
    "train_df = train_df.drop(['label'], axis = 1)\n",
    "total_df = pd.concat([train_df,test_df], axis = 0)\n",
    "total_df.head(10)"
   ]
  },
  {
   "cell_type": "code",
   "execution_count": null,
   "metadata": {},
   "outputs": [],
   "source": [
    "#Do a copy of original data , in case we do something wrong for the original data\n",
    "temp_total_df = copy.deepcopy(total_df)"
   ]
  },
  {
   "cell_type": "markdown",
   "metadata": {},
   "source": [
    "# Feature Engineering"
   ]
  },
  {
   "cell_type": "code",
   "execution_count": null,
   "metadata": {},
   "outputs": [],
   "source": [
    "#Check the unique counts of each features\n",
    "total_df.nunique()"
   ]
  },
  {
   "cell_type": "markdown",
   "metadata": {},
   "source": [
    "## date features"
   ]
  },
  {
   "cell_type": "code",
   "execution_count": null,
   "metadata": {},
   "outputs": [],
   "source": [
    "#Convert Date_received to str type for datetime processing\n",
    "total_df['Date_received'] = total_df['Date_received'].astype('int').astype('str')\n",
    "#Convert Date_received to other time information\n",
    "total_df['Date_received'] = total_df['Date_received'].apply(lambda x : datetime.datetime.strptime(x,\"%Y%m%d\"))\n",
    "total_df['Month_received'] = total_df['Date_received'].apply(lambda x : datetime.datetime.strftime(x,\"%m\")).astype(\"int64\")\n",
    "total_df['Day_received'] = total_df['Date_received'].apply(lambda x : datetime.datetime.strftime(x,\"%d\")).astype(\"int64\")\n",
    "\n",
    "total_df.head(10)"
   ]
  },
  {
   "cell_type": "code",
   "execution_count": null,
   "metadata": {},
   "outputs": [],
   "source": [
    "total_df['Month_Cycle'] = total_df.Day_received.map(lambda x : 1 if x <= 15 else 0)"
   ]
  },
  {
   "cell_type": "code",
   "execution_count": null,
   "metadata": {},
   "outputs": [],
   "source": [
    "# Record the total days to June\n",
    "def set2June(data):\n",
    "    if data['Month_received'] < 6:\n",
    "        return (6-data['Month_received'])*30 - data['Day_received']\n",
    "    return 1\n",
    "        \n",
    "total_df['CloseToJune'] = total_df.apply(set2June , axis = 1)\n"
   ]
  },
  {
   "cell_type": "markdown",
   "metadata": {},
   "source": [
    "## Discount features"
   ]
  },
  {
   "cell_type": "code",
   "execution_count": null,
   "metadata": {},
   "outputs": [],
   "source": [
    "#Let`s check what values in discount_rate feature\n",
    "total_df.Discount_rate.value_counts()"
   ]
  },
  {
   "cell_type": "markdown",
   "metadata": {},
   "source": [
    "**From discount_rate feautre, we can see that there are two types of discount. One of them is directly discount and another is the discount that user's consumption need to reach certain price.**"
   ]
  },
  {
   "cell_type": "code",
   "execution_count": null,
   "metadata": {},
   "outputs": [],
   "source": [
    "total_df['DiscountType'] = total_df.Discount_rate.map(lambda x: 1 if (':' in x) else 0)\n",
    "total_df.DiscountType.value_counts()"
   ]
  },
  {
   "cell_type": "markdown",
   "metadata": {},
   "source": [
    "**I would like to add threes feature from DiscountType. <br />**\n",
    "1. record what price need to reach that allow to get discount <br />\n",
    "2. record when the price reach to discount, how much money can be discount <br />\n",
    "3. record the discount ratio of both discount type <br />\n",
    "4. record how much money we need to cost after reach the distcount bound"
   ]
  },
  {
   "cell_type": "code",
   "execution_count": null,
   "metadata": {},
   "outputs": [],
   "source": [
    "total_df['DiscountBound'] = total_df.Discount_rate.map(lambda x: int(x.split(':')[0]) if (':' in x) else 0)\n",
    "total_df['DirectPriceCut'] = total_df.Discount_rate.map(lambda x: int(x.split(':')[1]) if (':' in x) else 0)\n",
    "total_df['DiscountRatio'] = total_df.Discount_rate.map(lambda x: (1 - float(x.split(':')[1])/float(x.split(':')[0])) if(':' in x) else float(x) )\n",
    "total_df['MoneyCost'] = total_df['DiscountBound'] - total_df['DirectPriceCut']\n",
    "total_df = total_df.drop(['Discount_rate'], axis = 1)\n",
    "total_df.head(10)"
   ]
  },
  {
   "cell_type": "markdown",
   "metadata": {},
   "source": [
    "**I would like to group the Discount upper bound**"
   ]
  },
  {
   "cell_type": "code",
   "execution_count": null,
   "metadata": {},
   "outputs": [],
   "source": [
    "#Check the data distribution fitst\n",
    "total_df['DiscountBound'].hist()\n",
    "plt.title('Histogram of Discount Bound')\n",
    "plt.xlabel('DiscountBound')\n",
    "plt.ylabel('Count')\n",
    "plt.show()"
   ]
  },
  {
   "cell_type": "code",
   "execution_count": null,
   "metadata": {},
   "outputs": [],
   "source": [
    "cuttingArr = np.array([-1,80,150,250,total_df.DiscountBound.max()+1])\n",
    "total_df['DiscountBound_Group'] = pd.cut(total_df.DiscountBound, cuttingArr)\n",
    "\n",
    "print(total_df.DiscountBound_Group.value_counts())\n",
    "print('\\n')\n",
    "#encoding intervals into integer\n",
    "DiscountBound_intervals = total_df.DiscountBound_Group.unique()\n",
    "total_df.DiscountBound_Group.replace(to_replace = DiscountBound_intervals[0],value = 0, inplace = True)\n",
    "total_df.DiscountBound_Group.replace(to_replace = DiscountBound_intervals[1],value = 1, inplace = True)\n",
    "total_df.DiscountBound_Group.replace(to_replace = DiscountBound_intervals[2],value = 2, inplace = True)\n",
    "total_df.DiscountBound_Group.replace(to_replace = DiscountBound_intervals[3],value = 3, inplace = True)\n",
    "print(total_df.DiscountBound_Group.value_counts())"
   ]
  },
  {
   "cell_type": "markdown",
   "metadata": {},
   "source": [
    "## User id features"
   ]
  },
  {
   "cell_type": "markdown",
   "metadata": {},
   "source": [
    "**I would like to use User_id feature to group with other features. I hope this can find some characteristic or behavior of user**"
   ]
  },
  {
   "cell_type": "code",
   "execution_count": null,
   "metadata": {},
   "outputs": [],
   "source": [
    "Same_Merchant_User_received = total_df[['User_id','Merchant_id']]\n",
    "Same_Merchant_User_received['temp'] = 1\n",
    "Same_Merchant_User_received = Same_Merchant_User_received.groupby(['User_id','Merchant_id']).agg('sum').reset_index()\n",
    "Same_Merchant_User_received.columns = ['User_id','Merchant_id','Same_Merchant_User_received']\n",
    "\n",
    "total_df = pd.merge(total_df, Same_Merchant_User_received, on = ['User_id','Merchant_id'], how = 'left')"
   ]
  },
  {
   "cell_type": "markdown",
   "metadata": {},
   "source": [
    "**Record how many coupons each user received**"
   ]
  },
  {
   "cell_type": "code",
   "execution_count": null,
   "metadata": {},
   "outputs": [],
   "source": [
    "\n",
    "Total_Coupon_User_received = total_df.groupby(['User_id'])['Coupon_id'].count().reset_index()\n",
    "Total_Coupon_User_received.columns = ['User_id', 'Total_Coupon_User_received']\n",
    "total_df = pd.merge(total_df,Total_Coupon_User_received, on = ['User_id'], how = 'left')"
   ]
  },
  {
   "cell_type": "markdown",
   "metadata": {},
   "source": [
    "**Record how many same coupons each user received**"
   ]
  },
  {
   "cell_type": "code",
   "execution_count": null,
   "metadata": {},
   "outputs": [],
   "source": [
    "Same_Coupon_User_received = total_df[['User_id', 'Coupon_id']]\n",
    "Same_Coupon_User_received['temp'] = 1\n",
    "Same_Coupon_User_received = Same_Coupon_User_received.groupby(['User_id','Coupon_id']).agg('sum').reset_index()\n",
    "Same_Coupon_User_received.columns = ['User_id','Coupon_id','Same_Coupon_User_received']\n",
    "\n",
    "total_df = pd.merge(total_df,Same_Coupon_User_received , on = ['User_id', 'Coupon_id'], how = 'left')"
   ]
  },
  {
   "cell_type": "markdown",
   "metadata": {},
   "source": [
    "**Record how many same coupons each user received at the same day**"
   ]
  },
  {
   "cell_type": "code",
   "execution_count": null,
   "metadata": {},
   "outputs": [],
   "source": [
    "Same_Day_Same_Coupon_User_received = total_df[['User_id','Coupon_id','Date_received']]\n",
    "Same_Day_Same_Coupon_User_received['temp'] = 1\n",
    "Same_Day_Same_Coupon_User_received = Same_Day_Same_Coupon_User_received.groupby(['User_id','Coupon_id','Date_received']).agg('sum').reset_index()\n",
    "Same_Day_Same_Coupon_User_received.columns = ['User_id','Coupon_id','Date_received','Same_Day_Same_Coupon_User_received']\n",
    "\n",
    "total_df = pd.merge(total_df, Same_Day_Same_Coupon_User_received , on = ['User_id','Coupon_id','Date_received'], how = 'left')"
   ]
  },
  {
   "cell_type": "markdown",
   "metadata": {},
   "source": [
    "**Record how many coupons each user received at the same day**"
   ]
  },
  {
   "cell_type": "code",
   "execution_count": null,
   "metadata": {},
   "outputs": [],
   "source": [
    "\n",
    "Same_Day_Total_Coupon_User_received = total_df[['User_id','Date_received']]\n",
    "Same_Day_Total_Coupon_User_received['temp'] = 1\n",
    "Same_Day_Total_Coupon_User_received = Same_Day_Total_Coupon_User_received.groupby(['User_id','Date_received']).agg('sum').reset_index()\n",
    "Same_Day_Total_Coupon_User_received.columns = ['User_id','Date_received', 'Same_Day_Total_Coupon_User_received']\n",
    "\n",
    "total_df = pd.merge(total_df, Same_Day_Total_Coupon_User_received, on = ['User_id', 'Date_received'], how ='left')\n"
   ]
  },
  {
   "cell_type": "markdown",
   "metadata": {},
   "source": [
    "**Record the mean/max/min discount upper bound of coupon that each user received**"
   ]
  },
  {
   "cell_type": "code",
   "execution_count": null,
   "metadata": {},
   "outputs": [],
   "source": [
    "\n",
    "User_Received_Coupon_DistcountBound_Mean = total_df.groupby(['User_id'])['DiscountBound'].mean().reset_index()\n",
    "User_Received_Coupon_DistcountBound_Mean.columns = ['User_id','User_Received_Coupon_DistcountBound_Mean']\n",
    "\n",
    "User_Received_Coupon_DistcountBound_Max = total_df.groupby(['User_id'])['DiscountBound'].max().reset_index()\n",
    "User_Received_Coupon_DistcountBound_Max.columns = ['User_id','User_Received_Coupon_DistcountBound_Max']\n",
    "\n",
    "User_Received_Coupon_DistcountBound_Min = total_df.groupby(['User_id'])['DiscountBound'].min().reset_index()\n",
    "User_Received_Coupon_DistcountBound_Min.columns = ['User_id','User_Received_Coupon_DistcountBound_Min']\n",
    "\n",
    "total_df = pd.merge(total_df,User_Received_Coupon_DistcountBound_Mean, on = ['User_id'], how = 'left')\n",
    "total_df = pd.merge(total_df,User_Received_Coupon_DistcountBound_Max, on = ['User_id'], how = 'left')\n",
    "total_df = pd.merge(total_df,User_Received_Coupon_DistcountBound_Min, on = ['User_id'], how = 'left')\n"
   ]
  },
  {
   "cell_type": "markdown",
   "metadata": {},
   "source": [
    "**Record the mean/max/min Money Cost of coupon that each user received**"
   ]
  },
  {
   "cell_type": "code",
   "execution_count": null,
   "metadata": {},
   "outputs": [],
   "source": [
    "\n",
    "User_Received_Coupon_MoneyCost_Mean = total_df.groupby(['User_id'])['MoneyCost'].mean().reset_index()\n",
    "User_Received_Coupon_MoneyCost_Mean.columns = ['User_id','User_Received_Coupon_MoneyCost_Mean']\n",
    "\n",
    "User_Received_Coupon_MoneyCost_Max = total_df.groupby(['User_id'])['MoneyCost'].max().reset_index()\n",
    "User_Received_Coupon_MoneyCost_Max.columns = ['User_id','User_Received_Coupon_MoneyCost_Max']\n",
    "\n",
    "User_Received_Coupon_MoneyCost_Min = total_df.groupby(['User_id'])['MoneyCost'].min().reset_index()\n",
    "User_Received_Coupon_MoneyCost_Min.columns = ['User_id','User_Received_Coupon_MoneyCost_Min']\n",
    "\n",
    "total_df = pd.merge(total_df,User_Received_Coupon_MoneyCost_Mean, on = ['User_id'], how = 'left')\n",
    "total_df = pd.merge(total_df,User_Received_Coupon_MoneyCost_Max, on = ['User_id'], how = 'left')\n",
    "total_df = pd.merge(total_df,User_Received_Coupon_MoneyCost_Min, on = ['User_id'], how = 'left')\n",
    "\n"
   ]
  },
  {
   "cell_type": "markdown",
   "metadata": {},
   "source": [
    "**Record the mean discount ratio of coupon that each user received**"
   ]
  },
  {
   "cell_type": "code",
   "execution_count": null,
   "metadata": {},
   "outputs": [],
   "source": [
    "User_Received_Coupon_DiscountRatio_Mean = total_df.groupby(['User_id'])['DiscountRatio'].mean().reset_index()\n",
    "User_Received_Coupon_DiscountRatio_Mean.columns = ['User_id','User_Received_Coupon_DiscountRatio_Mean']\n",
    "total_df = pd.merge(total_df,User_Received_Coupon_DiscountRatio_Mean, on = ['User_id'], how = 'left')"
   ]
  },
  {
   "cell_type": "markdown",
   "metadata": {},
   "source": [
    "**Record the minimal days that user received the same coupon. If the user only got the coupon once, then make the day gaps big.**"
   ]
  },
  {
   "cell_type": "code",
   "execution_count": null,
   "metadata": {},
   "outputs": [],
   "source": [
    "#This will take a long~ time\n",
    "def CalMinReceivedGap(data):\n",
    "\n",
    "    dates = data.split(':')\n",
    "    if len(dates) == 1:\n",
    "        return -1 #Means only received once\n",
    "    MinGap = 365\n",
    "    for i in range(0,len(dates)-1):\n",
    "        cur_gap = pd.to_datetime( dates[i] , format = \"%Y-%m-%d\") - pd.to_datetime(dates[i+1] , format = \"%Y-%m-%d\")\n",
    "        cur_gap = abs(cur_gap.days)\n",
    "        if cur_gap < MinGap:\n",
    "                MinGap = cur_gap\n",
    "    return MinGap\n",
    "\n",
    "Min_Coupon_received_gap = total_df[['User_id','Coupon_id','Date_received']]\n",
    "Min_Coupon_received_gap.Date_received = Min_Coupon_received_gap.Date_received.astype('str')\n",
    "Min_Coupon_received_gap =  Min_Coupon_received_gap.groupby(['User_id','Coupon_id'])['Date_received'].agg(lambda x : ':'.join(x)).reset_index()\n",
    "Min_Coupon_received_gap['Min_Coupon_received_gap'] = Min_Coupon_received_gap.Date_received.apply(CalMinReceivedGap)\n",
    "Min_Coupon_received_gap = Min_Coupon_received_gap.drop(['Date_received'], axis = 1)\n",
    "\n",
    "total_df = pd.merge(total_df,Min_Coupon_received_gap,on = ['User_id','Coupon_id'], how ='left')\n",
    "max_received_gap = total_df.Min_Coupon_received_gap.max()\n",
    "total_df.Min_Coupon_received_gap = total_df.Min_Coupon_received_gap.map(lambda x : x if x != -1 else max_received_gap)"
   ]
  },
  {
   "cell_type": "markdown",
   "metadata": {},
   "source": [
    "**Record the maximum days that user received the same coupon. If the user only got the coupon once, then make the day gaps big.**"
   ]
  },
  {
   "cell_type": "code",
   "execution_count": null,
   "metadata": {},
   "outputs": [],
   "source": [
    "def CalMaxReceivedGap(data):\n",
    "    dates = data.split(':')\n",
    "    if len(dates) == 1:\n",
    "        return -1 #Means only received once\n",
    "    MaxGap = 0\n",
    "    for i in range(0,len(dates)-1):\n",
    "        cur_gap = pd.to_datetime( dates[i] , format = \"%Y-%m-%d\") - pd.to_datetime(dates[i+1] , format = \"%Y-%m-%d\")\n",
    "        cur_gap = abs(cur_gap.days)\n",
    "        if cur_gap > MaxGap:\n",
    "                MaxGap = cur_gap\n",
    "    return MaxGap\n",
    "\n",
    "\n",
    "Max_Coupon_received_gap = total_df[['User_id','Coupon_id','Date_received']]\n",
    "Max_Coupon_received_gap.Date_received = Max_Coupon_received_gap.Date_received.astype('str')\n",
    "Max_Coupon_received_gap =  Max_Coupon_received_gap.groupby(['User_id','Coupon_id'])['Date_received'].agg(lambda x : ':'.join(x)).reset_index()\n",
    "Max_Coupon_received_gap['Max_Coupon_received_gap'] = Max_Coupon_received_gap.Date_received.apply(CalMaxReceivedGap)\n",
    "Max_Coupon_received_gap = Max_Coupon_received_gap.drop(['Date_received'], axis = 1)\n",
    "\n",
    "total_df = pd.merge(total_df,Max_Coupon_received_gap,on = ['User_id','Coupon_id'], how ='left')\n",
    "max_received_gap = total_df.Max_Coupon_received_gap.max()\n",
    "total_df.Max_Coupon_received_gap = total_df.Max_Coupon_received_gap.map(lambda x : x if x != -1 else max_received_gap)\n",
    "total_df.head(10)"
   ]
  },
  {
   "cell_type": "markdown",
   "metadata": {},
   "source": [
    "## Merchant features"
   ]
  },
  {
   "cell_type": "markdown",
   "metadata": {},
   "source": [
    "**Here I will use Merchant_id feature to group with other features. This just vey similar to the processing of User_id feature.**"
   ]
  },
  {
   "cell_type": "code",
   "execution_count": null,
   "metadata": {},
   "outputs": [],
   "source": [
    "\n",
    "Merchant_DiscountBound_mean = total_df.groupby(['Merchant_id'])['DiscountBound'].mean().reset_index()\n",
    "Merchant_DiscountBound_mean.columns = ['Merchant_id','Merchant_DiscountBound_mean']\n",
    "\n",
    "Merchant_DiscountBound_max = total_df.groupby(['Merchant_id'])['DiscountBound'].max().reset_index()\n",
    "Merchant_DiscountBound_max.columns = ['Merchant_id','Merchant_DiscountBound_max']\n",
    "\n",
    "Merchant_DiscountBound_min = total_df.groupby(['Merchant_id'])['DiscountBound'].min().reset_index()\n",
    "Merchant_DiscountBound_min.columns = ['Merchant_id','Merchant_DiscountBound_min']\n",
    "\n",
    "Merchant_DiscountRatio_max = total_df.groupby(['Merchant_id'])['DiscountRatio'].max().reset_index()\n",
    "Merchant_DiscountRatio_max.columns = ['Merchant_id','Merchant_DiscountRatio_max']\n",
    "\n",
    "Merchant_DiscountRatio_min = total_df.groupby(['Merchant_id'])['DiscountRatio'].min().reset_index()\n",
    "Merchant_DiscountRatio_min.columns = ['Merchant_id','Merchant_DiscountRatio_min']\n",
    "\n",
    "Merchant_DirectPriceCut_max = total_df.groupby(['Merchant_id'])['DirectPriceCut'].max().reset_index()\n",
    "Merchant_DirectPriceCut_max.columns = ['Merchant_id','Merchant_DirectPriceCut_max']\n",
    "\n",
    "Merchant_DirectPriceCut_min = total_df.groupby(['Merchant_id'])['DirectPriceCut'].min().reset_index()\n",
    "Merchant_DirectPriceCut_min.columns = ['Merchant_id','Merchant_DirectPriceCut_min']\n",
    "\n",
    "Merchant_DirectPriceCut_mean = total_df.groupby(['Merchant_id'])['DirectPriceCut'].mean().reset_index()\n",
    "Merchant_DirectPriceCut_mean.columns = ['Merchant_id', 'Merchant_DirectPriceCut_mean']\n",
    "\n",
    "Merchant_MoneyCost_mean = total_df.groupby(['Merchant_id'])['MoneyCost'].mean().reset_index()\n",
    "Merchant_MoneyCost_mean.columns = ['Merchant_id', 'Merchant_MoneyCost_mean']\n",
    "\n",
    "Merchant_MoneyCost_max = total_df.groupby(['Merchant_id'])['MoneyCost'].max().reset_index()\n",
    "Merchant_MoneyCost_max.columns = ['Merchant_id', 'Merchant_MoneyCost_max']\n",
    "\n",
    "Merchant_MoneyCost_min = total_df.groupby(['Merchant_id'])['MoneyCost'].min().reset_index()\n",
    "Merchant_MoneyCost_min.columns = ['Merchant_id', 'Merchant_MoneyCost_min']\n",
    "\n",
    "total_df = pd.merge(total_df,Merchant_DiscountBound_mean,on = ['Merchant_id'], how = 'left')\n",
    "total_df = pd.merge(total_df,Merchant_DirectPriceCut_mean,on = ['Merchant_id'], how = 'left')\n",
    "total_df = pd.merge(total_df,Merchant_MoneyCost_mean,on = ['Merchant_id'], how = 'left')\n",
    "total_df = pd.merge(total_df,Merchant_DiscountBound_max, on = ['Merchant_id'], how = 'left')\n",
    "total_df = pd.merge(total_df,Merchant_DiscountBound_min, on = ['Merchant_id'], how = 'left')\n",
    "total_df = pd.merge(total_df,Merchant_DiscountRatio_max, on = ['Merchant_id'], how = 'left')\n",
    "total_df = pd.merge(total_df,Merchant_DiscountRatio_min, on = ['Merchant_id'], how = 'left')\n",
    "total_df = pd.merge(total_df,Merchant_DirectPriceCut_max, on = ['Merchant_id'], how = 'left')\n",
    "total_df = pd.merge(total_df,Merchant_DirectPriceCut_min, on = ['Merchant_id'], how = 'left')\n",
    "total_df = pd.merge(total_df,Merchant_MoneyCost_max, on = ['Merchant_id'], how = 'left')\n",
    "total_df = pd.merge(total_df,Merchant_MoneyCost_min, on = ['Merchant_id'], how = 'left')"
   ]
  },
  {
   "cell_type": "code",
   "execution_count": null,
   "metadata": {},
   "outputs": [],
   "source": [
    "Mcount = total_df.Merchant_id.value_counts().reset_index()\n",
    "Mcount.columns = ['Merchant_id','Merchant_count']\n",
    "Ccount = total_df.Coupon_id.value_counts().reset_index()\n",
    "Ccount.columns = ['Coupon_id','Coupon_count']\n",
    "\n",
    "total_df = pd.merge(total_df,Mcount,on = ['Merchant_id'], how = 'left')\n",
    "total_df = pd.merge(total_df,Ccount,on = ['Coupon_id'], how = 'left')\n",
    "\n"
   ]
  },
  {
   "cell_type": "markdown",
   "metadata": {},
   "source": [
    "**Let check the correlation between label and features to judge what we just did is good or not**"
   ]
  },
  {
   "cell_type": "code",
   "execution_count": null,
   "metadata": {},
   "outputs": [],
   "source": [
    "#Check the correlation again before fill the missing values of Distance\n",
    "correlation = copy.deepcopy(total_df[:len(train_df)])\n",
    "correlation = pd.concat([correlation, pd.DataFrame(train_label.values, columns = ['label'], index = correlation.index)], axis = 1)\n",
    "corr = correlation.corr()\n",
    "plt.figure(figsize = (30,30))\n",
    "sns.heatmap(corr, cmap = plt.cm.summer, annot = True)\n",
    "plt.title('Correlation of training dataset')\n",
    "plt.show()"
   ]
  },
  {
   "cell_type": "markdown",
   "metadata": {},
   "source": [
    "## Distance features"
   ]
  },
  {
   "cell_type": "code",
   "execution_count": null,
   "metadata": {},
   "outputs": [],
   "source": [
    "#There are still some Distance values missing\n",
    "#Let's check the ratio between missing values and non-missing values\n",
    "\n",
    "print(f' Missing ratio of Distance : {np.sum(total_df.Distance.isnull()) / len(total_df)}')"
   ]
  },
  {
   "cell_type": "markdown",
   "metadata": {},
   "source": [
    "I have a bold idea, the distance might will have little correlation of when user received the coupon. Since the merchant might would send the coupon in certain days. So If there are some users received the coupon at similar time, they might had got the coupon at the same merchant. Which means it has slightly chance that these users have similar event location. "
   ]
  },
  {
   "cell_type": "code",
   "execution_count": null,
   "metadata": {},
   "outputs": [],
   "source": [
    "total_df['Distance'] = total_df.groupby(['CloseToJune'])['Distance'].transform(lambda x : x.fillna(x.mode()[0]))\n",
    "CheckMissingVals(total_df)\n",
    "total_df.head(10)"
   ]
  },
  {
   "cell_type": "code",
   "execution_count": null,
   "metadata": {},
   "outputs": [],
   "source": [
    "User_Activity_Distance_Mean = total_df.groupby(['User_id'])['Distance'].mean().reset_index()\n",
    "User_Activity_Distance_Mean.columns = ['User_id','User_Activity_Distance_Mean']\n",
    "total_df = pd.merge(total_df,User_Activity_Distance_Mean,on = ['User_id'], how = 'left')\n",
    "\n",
    "User_Activity_Distance_Max = total_df.groupby(['User_id'])['Distance'].max().reset_index()\n",
    "User_Activity_Distance_Max.columns = ['User_id','User_Activity_Distance_Max']\n",
    "total_df = pd.merge(total_df,User_Activity_Distance_Max,on = ['User_id'], how = 'left')\n",
    "\n",
    "User_Activity_Distance_Min = total_df.groupby(['User_id'])['Distance'].min().reset_index()\n",
    "User_Activity_Distance_Min.columns = ['User_id','User_Activity_Distance_Min']\n",
    "total_df = pd.merge(total_df,User_Activity_Distance_Min,on = ['User_id'], how = 'left')\n"
   ]
  },
  {
   "cell_type": "code",
   "execution_count": null,
   "metadata": {},
   "outputs": [],
   "source": [
    "total_df['Bound_Distance'] = total_df['DiscountBound']+1 * (total_df['Distance']+1)\n",
    "total_df['DiscountRatio_Distance'] = total_df['DiscountRatio'] * (total_df['Distance']+1)\n",
    "total_df['MoneyCost_Distance'] = total_df['MoneyCost']+1 * (total_df['Distance']+1)\n",
    "total_df['DirectPriceCut_Distance'] = total_df['DirectPriceCut']+1 / (total_df['Distance']+1) \n"
   ]
  },
  {
   "cell_type": "code",
   "execution_count": null,
   "metadata": {},
   "outputs": [],
   "source": [
    "Merchant_Distance_mean = total_df.groupby(['Merchant_id'])['Distance'].mean().reset_index()\n",
    "Merchant_Distance_mean.columns = ['Merchant_id','Merchant_Distance_mean']\n",
    "\n",
    "Merchant_Distance_max = total_df.groupby(['Merchant_id'])['Distance'].max().reset_index()\n",
    "Merchant_Distance_max.columns = ['Merchant_id','Merchant_Distance_max']\n",
    "\n",
    "Merchant_Distance_min = total_df.groupby(['Merchant_id'])['Distance'].min().reset_index()\n",
    "Merchant_Distance_min.columns = ['Merchant_id','Merchant_Distance_min']\n",
    "\n",
    "\n",
    "Coupon_Distance_mean = total_df.groupby(['Coupon_id'])['Distance'].mean().reset_index()\n",
    "Coupon_Distance_mean.columns = ['Coupon_id', 'Coupon_Distance_mean']\n",
    "\n",
    "Coupon_Distance_max = total_df.groupby(['Coupon_id'])['Distance'].max().reset_index()\n",
    "Coupon_Distance_max.columns = ['Coupon_id', 'Coupon_Distance_max']\n",
    "\n",
    "Coupon_Distance_min = total_df.groupby(['Coupon_id'])['Distance'].min().reset_index()\n",
    "Coupon_Distance_min.columns = ['Coupon_id', 'Coupon_Distance_min']"
   ]
  },
  {
   "cell_type": "code",
   "execution_count": null,
   "metadata": {},
   "outputs": [],
   "source": [
    "total_df = pd.merge(total_df,Merchant_Distance_mean,on = ['Merchant_id'], how = 'left')\n",
    "total_df = pd.merge(total_df,Merchant_Distance_max,on = ['Merchant_id'], how = 'left')\n",
    "total_df = pd.merge(total_df,Merchant_Distance_min,on = ['Merchant_id'], how = 'left')\n",
    "\n",
    "total_df = pd.merge(total_df,Coupon_Distance_mean, on = ['Coupon_id'], how = 'left')\n",
    "total_df = pd.merge(total_df,Coupon_Distance_max, on = ['Coupon_id'], how = 'left')\n",
    "total_df = pd.merge(total_df,Coupon_Distance_min, on = ['Coupon_id'], how = 'left')\n"
   ]
  },
  {
   "cell_type": "markdown",
   "metadata": {},
   "source": [
    "## Features encoding with label"
   ]
  },
  {
   "cell_type": "code",
   "execution_count": null,
   "metadata": {},
   "outputs": [],
   "source": [
    "'''\n",
    "trainSet = copy.deepcopy(total_df[:len(train_df)])\n",
    "trainSet = pd.concat([trainSet, pd.DataFrame(train_label.values, columns = ['label'], index = trainSet.index)], axis = 1)\n",
    "trainSet.head(3)\n",
    "'''"
   ]
  },
  {
   "cell_type": "code",
   "execution_count": null,
   "metadata": {},
   "outputs": [],
   "source": [
    "'''\n",
    "Distance_Accepted_rate = trainSet.groupby(['Distance'])['label'].mean().reset_index()\n",
    "Distance_Accepted_rate.columns = ['Distance','Distance_Accepted_rate']\n",
    "\n",
    "DiscountBound_Accepted_rate = trainSet.groupby(['DiscountBound'])['label'].mean().reset_index()\n",
    "DiscountBound_Accepted_rate.columns = ['DiscountBound', 'DiscountBound_Accepted_rate']\n",
    "\n",
    "total_df = pd.merge(total_df, Distance_Accepted_rate , on = ['Distance'], how = 'left')\n",
    "total_df = pd.merge(total_df, DiscountBound_Accepted_rate, on = ['DiscountBound'], how = 'left')\n",
    "\n",
    "total_df.head(5)\n",
    "'''"
   ]
  },
  {
   "cell_type": "markdown",
   "metadata": {},
   "source": [
    "## Scale the features"
   ]
  },
  {
   "cell_type": "code",
   "execution_count": null,
   "metadata": {},
   "outputs": [],
   "source": [
    "total_df = total_df.drop(['Merchant_id','Coupon_id','Day_received','Month_received','User_id','Date_received'],axis = 1)"
   ]
  },
  {
   "cell_type": "code",
   "execution_count": null,
   "metadata": {},
   "outputs": [],
   "source": [
    "\n",
    "for col in total_df.columns:\n",
    "    if (col != 'Distance_Accepted_rate') & (col != 'DiscountBound_Accepted_rate'):\n",
    "        total_df[col] = MinMaxScaler().fit_transform(total_df[col].values.reshape(-1,1))        \n",
    "total_df.head(10)"
   ]
  },
  {
   "cell_type": "code",
   "execution_count": null,
   "metadata": {},
   "outputs": [],
   "source": [
    "#One hot encoding the discount type\n",
    "total_df = pd.get_dummies(total_df, columns = ['DiscountType'], prefix = \"DiscountType\")\n",
    "print(f' final shape of total data : {total_df.shape} ')"
   ]
  },
  {
   "cell_type": "code",
   "execution_count": null,
   "metadata": {},
   "outputs": [],
   "source": [
    "#Check the correlation again before fill the missing values of Distance\n",
    "correlation = copy.deepcopy(total_df[:len(train_df)])\n",
    "correlation = pd.concat([correlation, pd.DataFrame(train_label.values, columns = ['label'], index = correlation.index)], axis = 1)\n",
    "corr = correlation.corr()\n",
    "plt.figure(figsize = (30,30))\n",
    "sns.heatmap(corr, cmap = plt.cm.summer, annot = True)\n",
    "plt.title('Correlation of training dataset')\n",
    "plt.show()"
   ]
  },
  {
   "cell_type": "markdown",
   "metadata": {},
   "source": [
    "# Model training & validation"
   ]
  },
  {
   "cell_type": "code",
   "execution_count": null,
   "metadata": {},
   "outputs": [],
   "source": [
    "train_x = total_df[:len(train_df)]\n",
    "test_x = total_df[len(train_df):]\n",
    "\n",
    "def tuneParamsRandom(classifier, params, train_x, train_y, cv = 5):\n",
    "    rs = RandomizedSearchCV(classifier, params, n_iter = 20, scoring = 'roc_auc', n_jobs = -1, verbose = 0, cv=cv)\n",
    "    rs.fit(train_x, train_y)\n",
    "    \n",
    "    return rs.best_params_, abs(rs.best_score_)"
   ]
  },
  {
   "cell_type": "code",
   "execution_count": null,
   "metadata": {},
   "outputs": [],
   "source": [
    "\n",
    "etParams = {'n_estimators':np.arange(100,1100,50), 'max_depth':np.arange(3,11,2),\n",
    "            'min_samples_leaf':np.arange(1,6,2) }\n",
    "\n",
    "rfParams = {'n_estimators':np.arange(100,1100,50), 'max_depth':np.arange(3,11,2),\n",
    "            'min_samples_split':np.arange(2,20,2), 'min_samples_leaf':np.arange(1,6,2) }\n",
    "\n",
    "abParams = {'n_estimators':np.arange(100,1100,50),'learning_rate':np.arange(0.01,0.2,0.05)}\n",
    "\n",
    "\n",
    "lgbmcParams = {'n_estimators' : np.arange(400,1200,100), 'learning_rate' : np.arange(0.01,0.1,0.02),\n",
    "               'num_leaves' : np.arange(2,48,4), 'max_depth' : np.arange(3,10,2),\n",
    "               'subsample' : np.arange(0.3,0.8,0.1) }\n",
    "\n",
    "gbcParams = {'n_estimators' : np.arange(400,1200,100) , 'learning_rate' : np.arange(0.01,0.1,0.02) \n",
    "             , 'min_samples_split' : np.arange(2,30,5), 'min_samples_leaf' : np.arange(2,32,4),\n",
    "              'max_depth' : np.arange(3,8,2), 'subsample' : np.arange(0.3,0.8,0.1)}\n",
    "\n",
    "xgbParams = {'max_depth':np.arange(3,8,1),'learning_rate':np.arange(0.01,0.1,0.02)\n",
    "             ,'n_estimator': np.arange(1000,3000,100),'gamma':np.arange(0.01,0.1,0.02)}\n",
    "\n",
    "lrParams = {'C':np.arange(0.01,1,0.05), 'max_iter' : np.arange(100,500,100)}"
   ]
  },
  {
   "cell_type": "code",
   "execution_count": null,
   "metadata": {},
   "outputs": [],
   "source": [
    "train_label.index = train_x.index\n",
    "tuneSet = pd.concat([train_x,train_label], axis = 1)\n",
    "trainSet = tuneSet.sample(frac=0.5)\n",
    "trainSet.shape"
   ]
  },
  {
   "cell_type": "code",
   "execution_count": null,
   "metadata": {},
   "outputs": [],
   "source": [
    "x_train, x_test, y_train, y_test = train_test_split(trainSet[trainSet.columns[trainSet.columns != 'label']],trainSet['label'], test_size = 0.3, random_state = 1234)\n",
    "print(x_train.shape)\n",
    "print(y_train.shape)\n",
    "print(x_test.shape)\n",
    "print(y_test.shape)"
   ]
  },
  {
   "cell_type": "markdown",
   "metadata": {},
   "source": [
    "## LogisticRegression"
   ]
  },
  {
   "cell_type": "code",
   "execution_count": null,
   "metadata": {},
   "outputs": [],
   "source": [
    "'''\n",
    "lr = LogisticRegression(random_state = 2019,n_jobs = -1)\n",
    "lr_best_Params, lr_best_score = tuneParamsRandom(lr,lrParams,x_train,y_train)\n",
    "print(\"LogisticRegression :\",lr_best_Params,lr_best_score)\n",
    "lr = LogisticRegression(**lr_best_Params,n_jobs = -1)\n",
    "lr.fit(x_train,y_train)\n",
    "lr_pred_val = lr.predict_proba(x_test)\n",
    "auc_score = roc_auc_score(y_true = y_test, y_score = lr_pred_val[:,1])\n",
    "acc = accuracy_score(y_true = y_test, y_pred = lr_pred_val.argmax(axis=1))\n",
    "print(\"Validation AUC: {:.3f}, Accuracy: {:.3f}\".format(auc_score, acc))\n",
    "lr = LogisticRegression(**lr_best_Params,n_jobs = -1,random_state = 2019)\n",
    "lr.fit(train_x, train_label)\n",
    "lr_pred = lr.predict_proba(test_x)[:,1]\n",
    "'''"
   ]
  },
  {
   "cell_type": "markdown",
   "metadata": {},
   "source": [
    "## GradientBoostingClassifier"
   ]
  },
  {
   "cell_type": "code",
   "execution_count": null,
   "metadata": {},
   "outputs": [],
   "source": [
    "'''\n",
    "gbc = GradientBoostingClassifier(max_features = 'sqrt')\n",
    "gbc_best_Params,gbc_best_score = tuneParamsRandom(gbc,gbcParams,x_train,y_train)\n",
    "print(\"GradientBoostingClassifier:\",gbc_best_Params,gbc_best_score)\n",
    "\n",
    "\n",
    "gbc = GradientBoostingClassifier(**gbc_best_Params,max_features = 'sqrt')\n",
    "gbc.fit(train_x, train_label)\n",
    "gbc_pred = gbc.predict_proba(test_x)[:,1]\n",
    "\n",
    "importances = pd.DataFrame(gbc.feature_importances_, columns = ['importances'], index = train_x.columns)\n",
    "importances.importances.sort_values(ascending = False)\n",
    "'''"
   ]
  },
  {
   "cell_type": "markdown",
   "metadata": {},
   "source": [
    "## LGBMClassifier"
   ]
  },
  {
   "cell_type": "code",
   "execution_count": null,
   "metadata": {},
   "outputs": [],
   "source": [
    "\n",
    "lgbmc_best_Params, lgbmc_best_score = tuneParamsRandom(LGBMClassifier(),lgbmcParams,x_train,y_train)\n",
    "print(\"LGBMClassifier:\",lgbmc_best_Params,lgbmc_best_score)\n",
    "\n",
    "\n",
    "lgbmc = LGBMClassifier(**lgbmc_best_Params)\n",
    "lgbmc.fit(train_x,train_label)\n",
    "lgbmc_pred = lgbmc.predict_proba(test_x)[:,1]\n"
   ]
  },
  {
   "cell_type": "markdown",
   "metadata": {},
   "source": [
    "## XGBClassifier"
   ]
  },
  {
   "cell_type": "code",
   "execution_count": null,
   "metadata": {},
   "outputs": [],
   "source": [
    "'''\n",
    "xgb_best_Params,xgb_best_score = tuneParamsRandom(XGBClassifier(),xgbParams, x_train, y_train)\n",
    "print(\"XGBClassifier:\",xgb_best_Params,xgb_best_score)\n",
    "\n",
    "xgb = XGBClassifier(**xgb_best_Params)\n",
    "xgb.fit(train_x,train_label)\n",
    "xgb_pred = xgb.predict_proba(test_x)[:,1]\n",
    "'''"
   ]
  },
  {
   "cell_type": "markdown",
   "metadata": {},
   "source": [
    "## AdaBoost"
   ]
  },
  {
   "cell_type": "code",
   "execution_count": null,
   "metadata": {},
   "outputs": [],
   "source": [
    "'''\n",
    "ab_best_Params,ab_best_score = tuneParamsRandom(AdaBoostClassifier(),abParams,val_x,val_y)\n",
    "print(\"AdaBoost:\",ab_best_Params,ab_best_score)\n",
    "'''"
   ]
  },
  {
   "cell_type": "markdown",
   "metadata": {},
   "source": [
    "## RandomForest"
   ]
  },
  {
   "cell_type": "code",
   "execution_count": null,
   "metadata": {},
   "outputs": [],
   "source": [
    "'''\n",
    "rf_best_Params,rf_best_score = tuneParamsRandom(RandomForestClassifier(),rfParams,val_x,val_y)\n",
    "print(\"RandomForest:\",rf_best_Params,rf_best_score)\n",
    "'''"
   ]
  },
  {
   "cell_type": "markdown",
   "metadata": {},
   "source": [
    "## Blending"
   ]
  },
  {
   "cell_type": "code",
   "execution_count": null,
   "metadata": {},
   "outputs": [],
   "source": [
    "#blending_pred = gbc_pred * 0.3 + lgbmc_pred * 0.7 "
   ]
  },
  {
   "cell_type": "markdown",
   "metadata": {},
   "source": [
    "## Stacking"
   ]
  },
  {
   "cell_type": "code",
   "execution_count": null,
   "metadata": {},
   "outputs": [],
   "source": [
    "'''\n",
    "from mlxtend.classifier import StackingClassifier\n",
    "gbc = GradientBoostingClassifier(**gbc_best_Params)\n",
    "lgbmc = LGBMClassifier(**lgbmc_best_Params)\n",
    "xgb = XGBClassifier(**xgb_best_Params)\n",
    "\n",
    "meta_estimator = LGBMClassifier()\n",
    "stacking = StackingClassifier(classifiers = [gbc,lgbmc, xgb], meta_classifier = meta_estimator)\n",
    "stacking.fit(train_x,train_label)\n",
    "stacking_pred = stacking.predict_proba(test_x)[:,1]\n",
    "'''"
   ]
  },
  {
   "cell_type": "markdown",
   "metadata": {},
   "source": [
    "# Submission"
   ]
  },
  {
   "cell_type": "code",
   "execution_count": null,
   "metadata": {},
   "outputs": [],
   "source": [
    "test_ids = test_ids.loc[~test_ids.Coupon_id.isna()]\n",
    "\n",
    "test_ids = pd.concat([test_ids, pd.DataFrame(lgbmc_pred, columns = ['label'], index = test_ids.index)] , axis = 1)\n",
    "\n",
    "test_ids.loc[:,\"User_id\"] = test_ids[\"User_id\"].apply(lambda x:str(int(x)))\n",
    "test_ids.loc[:,\"Coupon_id\"] = test_ids[\"Coupon_id\"].apply(lambda x:str(int(x)))\n",
    "test_ids.loc[:,\"Date_received\"] = test_ids[\"Date_received\"].apply(lambda x: str(int(x)))\n",
    "\n",
    "test_ids[\"uid\"] = test_ids[['User_id',\"Coupon_id\",\"Date_received\"]].apply(lambda x: '_'.join(x.values), axis = 1)\n",
    "test_ids.reset_index(drop = True, inplace = True)"
   ]
  },
  {
   "cell_type": "code",
   "execution_count": null,
   "metadata": {},
   "outputs": [],
   "source": [
    "submission = test_ids.groupby(\"uid\", as_index = False).mean()\n",
    "submission = submission[[\"uid\",\"label\"]]\n",
    "submission.to_csv(\"v9.csv\", header = [\"uid\", \"label\"], index = False)\n",
    "\n",
    "submission.head(10)"
   ]
  }
 ],
 "metadata": {
  "kernelspec": {
   "display_name": "Python 3",
   "language": "python",
   "name": "python3"
  },
  "language_info": {
   "codemirror_mode": {
    "name": "ipython",
    "version": 3
   },
   "file_extension": ".py",
   "mimetype": "text/x-python",
   "name": "python",
   "nbconvert_exporter": "python",
   "pygments_lexer": "ipython3",
   "version": "3.7.1"
  }
 },
 "nbformat": 4,
 "nbformat_minor": 1
}
