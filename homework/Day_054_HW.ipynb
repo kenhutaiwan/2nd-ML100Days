{
 "cells": [
  {
   "cell_type": "markdown",
   "metadata": {},
   "source": [
    "# 作業\n",
    "* 試著想想看, 非監督學習是否有可能使用評價函數 (Metric) 來鑑別好壞呢?  \n",
    "(Hint : 可以分為 \"有目標值\" 與 \"無目標值\" 兩個方向思考)"
   ]
  },
  {
   "cell_type": "markdown",
   "metadata": {
    "collapsed": true
   },
   "source": [
    "### Answer\n",
    "\n",
    "- 參考sklearn有關Clustering的文件：[2.3.10. Clustering performance evaluation](https://scikit-learn.org/stable/modules/clustering.html#clustering-performance-evaluation)：\n",
    "> if this clustering define separations of the data similar to some ground truth set of classes or satisfying some assumption such that members belong to the same class are more similar that members of different classes according to some similarity metric\n",
    "\n",
    "  所以假設一個非監督學習的題目是要進行分群，並且我們對這方面的問題有一些領域知識做為基本假設（應該就是此處說的：「有目標值」），文件中提到的幾種量測方法，包括：\n",
    "  - Adjusted Rand index\n",
    "  - Mutual Information based scores\n",
    "  - Homogeneity, completeness and V-measure\n",
    "  - Fowlkes-Mallows scores\n",
    "  \n",
    "- 若無目標值，如上述文件中的2.3.10.5. Silhouette Coefficient所述：\n",
    "> If the ground truth labels are not known, evaluation must be performed using the model itself.\n",
    "\n",
    "  在這種情況下，文件中提到的量測方法有：\n",
    "  - Silhouette Coefficient\n",
    "  - Calinski-Harabasz Index\n",
    "  - Davies-Bouldin Index"
   ]
  }
 ],
 "metadata": {
  "kernelspec": {
   "display_name": "Python 3",
   "language": "python",
   "name": "python3"
  },
  "language_info": {
   "codemirror_mode": {
    "name": "ipython",
    "version": 3
   },
   "file_extension": ".py",
   "mimetype": "text/x-python",
   "name": "python",
   "nbconvert_exporter": "python",
   "pygments_lexer": "ipython3",
   "version": "3.7.1"
  }
 },
 "nbformat": 4,
 "nbformat_minor": 1
}
