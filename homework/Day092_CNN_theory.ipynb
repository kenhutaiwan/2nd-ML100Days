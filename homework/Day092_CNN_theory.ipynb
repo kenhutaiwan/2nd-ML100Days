{
 "cells": [
  {
   "cell_type": "markdown",
   "metadata": {},
   "source": [
    "請閱讀以下文獻，理解 CNN 原理後回答問題\n",
    "- [卷積神經網路原理 - 中文](https://brohrer.mcknote.com/zh-Hant/how_machine_learning_works/how_convolutional_neural_networks_work.html)\n",
    "- [CNN for beginner’s guide](https://adeshpande3.github.io/A-Beginner%27s-Guide-To-Understanding-Convolutional-Neural-Networks/)\n",
    "\n",
    "1. 若使用總共 128 個濾波器 (filters)，對一張 256x256 的影像做完卷積後，共會得到幾張特徵圖 (feature maps)？\n",
    "2. 卷積神經網路中，濾波器的大小 (3x3 or 5x5) 與內部數字的值 (value) 是怎麼決定的呢？\n"
   ]
  },
  {
   "cell_type": "markdown",
   "metadata": {},
   "source": [
    "### Answer\n",
    "\n",
    "- 參[Convolutional Neural Network 介紹](https://elmer-storage.blogspot.com/2018/07/cnn-convolutional-neural-network-cnn.html)\n",
    "   > 在一個m×n的影像I中，若具有一之a×b濾波器G於I內之子區塊Ix進行卷積若設定濾波器數量為k\n",
    "   > ，則輸出便有k個(m−a+1)×(n−b+1)的特徵圖。 \n",
    "\n",
    "  所以在本題中，共會產生 (256 - 128 + 1) ** 2 * 128 = 2130048 張特徵圖\n",
    "  \n",
    "-  濾波器的大小應該是設計者所需要做的決定，而內部數字的值（其實就是某種權重），則是經過多次訓練，經由誤差反向傳遞後，模型不斷修正所得。"
   ]
  }
 ],
 "metadata": {
  "kernelspec": {
   "display_name": "Python 3",
   "language": "python",
   "name": "python3"
  },
  "language_info": {
   "codemirror_mode": {
    "name": "ipython",
    "version": 3
   },
   "file_extension": ".py",
   "mimetype": "text/x-python",
   "name": "python",
   "nbconvert_exporter": "python",
   "pygments_lexer": "ipython3",
   "version": "3.7.3"
  }
 },
 "nbformat": 4,
 "nbformat_minor": 2
}
