{
 "cells": [
  {
   "cell_type": "markdown",
   "metadata": {},
   "source": [
    "## [作業重點]\n",
    "目前你應該已經要很清楚資料集中，資料的型態是什麼樣子囉！包含特徵 (features) 與標籤 (labels)。因此要記得未來不管什麼專案，必須要把資料清理成相同的格式，才能送進模型訓練。\n",
    "今天的作業開始踏入決策樹這個非常重要的模型，請務必確保你理解模型中每個超參數的意思，並試著調整看看，對最終預測結果的影響為何"
   ]
  },
  {
   "cell_type": "markdown",
   "metadata": {},
   "source": [
    "## 作業\n",
    "\n",
    "1. 試著調整 DecisionTreeClassifier(...) 中的參數，並觀察是否會改變結果？\n",
    "2. 改用其他資料集 (boston, wine)，並與回歸模型的結果進行比較"
   ]
  },
  {
   "cell_type": "code",
   "execution_count": 2,
   "metadata": {},
   "outputs": [],
   "source": [
    "from sklearn import datasets, metrics\n",
    "from sklearn.tree import DecisionTreeClassifier, DecisionTreeRegressor\n",
    "from sklearn.model_selection import train_test_split,GridSearchCV"
   ]
  },
  {
   "cell_type": "code",
   "execution_count": 6,
   "metadata": {},
   "outputs": [
    {
     "name": "stdout",
     "output_type": "stream",
     "text": [
      "{'criterion': 'gini', 'max_depth': 3, 'min_samples_leaf': 1, 'min_samples_split': 2, 'splitter': 'best'}\n"
     ]
    }
   ],
   "source": [
    "# 重複鳶尾花資料集，試著用GridSearch尋找最佳hyper parameters，看看結果是否有異\n",
    "#\n",
    "# GridSearchCV(estimator, param_grid, scoring=None, n_jobs=None, iid=’warn’, \n",
    "# refit=True, cv=’warn’, verbose=0, pre_dispatch=‘2*n_jobs’, error_score=’raise-deprecating’, \n",
    "# return_train_score=False)[source]\n",
    "#\n",
    "# DecisionTreeClassifier(criterion=’gini’, splitter=’best’, max_depth=None, \n",
    "# min_samples_split=2, min_samples_leaf=1, min_weight_fraction_leaf=0.0, \n",
    "# max_features=None, random_state=None, max_leaf_nodes=None,\n",
    "# min_impurity_decrease=0.0, min_impurity_split=None, class_weight=None, presort=False)\n",
    "#\n",
    "iris = datasets.load_iris()\n",
    "\n",
    "# 切分訓練集/測試集\n",
    "x_train, x_test, y_train, y_test = train_test_split(iris.data, iris.target, test_size=0.25, random_state=4)\n",
    "\n",
    "# 建立模型\n",
    "parameters = {'criterion' : ['gini', 'entropy'],\n",
    "              'splitter' : ['best', 'random'],\n",
    "              'max_depth' : [3, 5, 7, None],\n",
    "              'min_samples_split' : [2, 3, 4],\n",
    "              'min_samples_leaf' : [1, 2]\n",
    "             }\n",
    "clf = GridSearchCV(DecisionTreeClassifier(), parameters)\n",
    "# 訓練模型\n",
    "clf.fit(x_train, y_train)\n",
    "\n",
    "# 預測測試集\n",
    "y_pred = clf.predict(x_test)\n",
    "\n",
    "print(clf.best_params_)"
   ]
  },
  {
   "cell_type": "code",
   "execution_count": 7,
   "metadata": {},
   "outputs": [
    {
     "name": "stdout",
     "output_type": "stream",
     "text": [
      "Acuuracy:  0.9736842105263158\n"
     ]
    }
   ],
   "source": [
    "acc = metrics.accuracy_score(y_test, y_pred)\n",
    "print(\"Acuuracy: \", acc)"
   ]
  },
  {
   "cell_type": "code",
   "execution_count": 13,
   "metadata": {},
   "outputs": [
    {
     "name": "stdout",
     "output_type": "stream",
     "text": [
      "0.7424762282399908\n",
      "{'criterion': 'mse', 'max_depth': 7, 'min_samples_leaf': 1, 'min_samples_split': 2, 'splitter': 'best'}\n",
      "0.7450228339071028\n"
     ]
    }
   ],
   "source": [
    "# 回歸樹，使用boston資料集\n",
    "#\n",
    "# DecisionTreeRegressor(criterion=’mse’, splitter=’best’, max_depth=None, min_samples_split=2, \n",
    "# min_samples_leaf=1, min_weight_fraction_leaf=0.0, max_features=None, random_state=None, \n",
    "# max_leaf_nodes=None, min_impurity_decrease=0.0, min_impurity_split=None, presort=False)[source]\n",
    "#\n",
    "\n",
    "boston = datasets.load_boston()\n",
    "\n",
    "# 切分訓練集/測試集\n",
    "x_train, x_test, y_train, y_test = train_test_split(boston.data, boston.target, test_size=0.25, random_state=4)\n",
    "\n",
    "# 建立預設模型\n",
    "clf = DecisionTreeRegressor()\n",
    "# 訓練模型\n",
    "clf.fit(x_train, y_train)\n",
    "# 預測測試集\n",
    "y_pred = clf.predict(x_test)\n",
    "# 計算r2分數\n",
    "print(metrics.r2_score(y_test, y_pred))\n",
    "\n",
    "\n",
    "# 使用GridSearch尋找最佳參數\n",
    "parameters = {'criterion' : ['mse', 'friedman_mse', 'mae'],\n",
    "              'splitter' : ['best', 'random'],\n",
    "              'max_depth' : [3, 5, 7, None],\n",
    "              'min_samples_split' : [2, 3, 4],\n",
    "              'min_samples_leaf' : [1, 2]\n",
    "             }\n",
    "clf = GridSearchCV(DecisionTreeRegressor(), parameters)\n",
    "# 訓練模型\n",
    "clf.fit(x_train, y_train)\n",
    "# 預測測試集\n",
    "y_pred = clf.predict(x_test)\n",
    "# 最佳參數\n",
    "print(clf.best_params_)\n",
    "# 計算r2分數\n",
    "print(metrics.r2_score(y_test, y_pred))"
   ]
  }
 ],
 "metadata": {
  "kernelspec": {
   "display_name": "Python 3",
   "language": "python",
   "name": "python3"
  },
  "language_info": {
   "codemirror_mode": {
    "name": "ipython",
    "version": 3
   },
   "file_extension": ".py",
   "mimetype": "text/x-python",
   "name": "python",
   "nbconvert_exporter": "python",
   "pygments_lexer": "ipython3",
   "version": "3.7.1"
  }
 },
 "nbformat": 4,
 "nbformat_minor": 2
}
