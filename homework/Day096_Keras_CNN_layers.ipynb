{
 "cells": [
  {
   "cell_type": "code",
   "execution_count": 6,
   "metadata": {},
   "outputs": [],
   "source": [
    "from keras.layers import Conv2D, SeparableConv2D, Input, MaxPooling2D, Dropout, Flatten, Dense\n",
    "from keras.models import Model"
   ]
  },
  {
   "cell_type": "code",
   "execution_count": 10,
   "metadata": {},
   "outputs": [],
   "source": [
    "input_image = Input((224, 224, 3))\n",
    "feature_maps = Conv2D(filters=32, kernel_size=(3,3))(input_image)\n",
    "feature_maps2 = Conv2D(filters=64, kernel_size=(3,3))(feature_maps)\n",
    "model = Model(inputs=input_image, outputs=feature_maps2)"
   ]
  },
  {
   "cell_type": "code",
   "execution_count": 11,
   "metadata": {},
   "outputs": [
    {
     "name": "stdout",
     "output_type": "stream",
     "text": [
      "_________________________________________________________________\n",
      "Layer (type)                 Output Shape              Param #   \n",
      "=================================================================\n",
      "input_4 (InputLayer)         (None, 224, 224, 3)       0         \n",
      "_________________________________________________________________\n",
      "conv2d_7 (Conv2D)            (None, 222, 222, 32)      896       \n",
      "_________________________________________________________________\n",
      "conv2d_8 (Conv2D)            (None, 220, 220, 64)      18496     \n",
      "=================================================================\n",
      "Total params: 19,392\n",
      "Trainable params: 19,392\n",
      "Non-trainable params: 0\n",
      "_________________________________________________________________\n"
     ]
    }
   ],
   "source": [
    "model.summary()"
   ]
  },
  {
   "cell_type": "markdown",
   "metadata": {},
   "source": [
    "## 可以看到經過兩次 Conv2D，如果沒有設定 padding=\"SAME\"，圖就會越來越小，同時特徵圖的 channel 數與 filters 的數量一致"
   ]
  },
  {
   "cell_type": "code",
   "execution_count": 12,
   "metadata": {},
   "outputs": [],
   "source": [
    "input_image = Input((224, 224, 3))\n",
    "feature_maps = SeparableConv2D(filters=32, kernel_size=(3,3))(input_image)\n",
    "feature_maps2 = SeparableConv2D(filters=64, kernel_size=(3,3))(feature_maps)\n",
    "model = Model(inputs=input_image, outputs=feature_maps2)"
   ]
  },
  {
   "cell_type": "code",
   "execution_count": 13,
   "metadata": {},
   "outputs": [
    {
     "name": "stdout",
     "output_type": "stream",
     "text": [
      "_________________________________________________________________\n",
      "Layer (type)                 Output Shape              Param #   \n",
      "=================================================================\n",
      "input_6 (InputLayer)         (None, 224, 224, 3)       0         \n",
      "_________________________________________________________________\n",
      "separable_conv2d_1 (Separabl (None, 222, 222, 32)      155       \n",
      "_________________________________________________________________\n",
      "separable_conv2d_2 (Separabl (None, 220, 220, 64)      2400      \n",
      "=================================================================\n",
      "Total params: 2,555\n",
      "Trainable params: 2,555\n",
      "Non-trainable params: 0\n",
      "_________________________________________________________________\n"
     ]
    }
   ],
   "source": [
    "model.summary()"
   ]
  },
  {
   "cell_type": "markdown",
   "metadata": {},
   "source": [
    "## 可以看到使用 Seperable Conv2D，即使模型設置都一模一樣，但是參數量明顯減少非常多！"
   ]
  },
  {
   "cell_type": "markdown",
   "metadata": {},
   "source": [
    "## 作業"
   ]
  },
  {
   "cell_type": "markdown",
   "metadata": {},
   "source": [
    "請閱讀 Keras 官方範例 [mnist_cnn.py](https://github.com/keras-team/keras/blob/master/examples/mnist_cnn.py)  \n",
    "\n",
    "並回答下列問題。僅有 70 行程式碼，請確保每一行的程式碼你都能夠理解目的\n",
    "\n",
    "1. 是否有對資料做標準化 (normalization)? 如果有，在哪幾行?\n",
    "2. 使用的優化器 Optimizer 為何?\n",
    "3. 模型總共疊了幾層卷積層?\n",
    "4. 模型的參數量是多少?\n"
   ]
  },
  {
   "cell_type": "code",
   "execution_count": 12,
   "metadata": {},
   "outputs": [
    {
     "name": "stdout",
     "output_type": "stream",
     "text": [
      "_________________________________________________________________\n",
      "Layer (type)                 Output Shape              Param #   \n",
      "=================================================================\n",
      "input_5 (InputLayer)         (None, 224, 224, 3)       0         \n",
      "_________________________________________________________________\n",
      "conv2d_9 (Conv2D)            (None, 222, 222, 32)      896       \n",
      "_________________________________________________________________\n",
      "conv2d_10 (Conv2D)           (None, 220, 220, 64)      18496     \n",
      "_________________________________________________________________\n",
      "max_pooling2d_3 (MaxPooling2 (None, 110, 110, 64)      0         \n",
      "_________________________________________________________________\n",
      "dropout_5 (Dropout)          (None, 110, 110, 64)      0         \n",
      "_________________________________________________________________\n",
      "flatten_3 (Flatten)          (None, 774400)            0         \n",
      "_________________________________________________________________\n",
      "dense_4 (Dense)              (None, 128)               99123328  \n",
      "_________________________________________________________________\n",
      "dropout_6 (Dropout)          (None, 128)               0         \n",
      "_________________________________________________________________\n",
      "dense_5 (Dense)              (None, 10)                1290      \n",
      "=================================================================\n",
      "Total params: 99,144,010\n",
      "Trainable params: 99,144,010\n",
      "Non-trainable params: 0\n",
      "_________________________________________________________________\n"
     ]
    }
   ],
   "source": [
    "input_image = Input((224, 224, 3))\n",
    "feature_maps = Conv2D(filters=32, kernel_size=(3,3))(input_image)\n",
    "feature_maps2 = Conv2D(filters=64, kernel_size=(3,3))(feature_maps)\n",
    "X = MaxPooling2D(pool_size=(2, 2))(feature_maps2)\n",
    "X = Dropout(0.25)(X)\n",
    "X = Flatten()(X)\n",
    "X = Dense(128, activation='relu')(X)\n",
    "X = Dropout(0.5)(X)\n",
    "X = Dense(10, activation='softmax')(X)\n",
    "model = Model(inputs=input_image, outputs=X)\n",
    "\n",
    "model.summary()"
   ]
  },
  {
   "cell_type": "markdown",
   "metadata": {},
   "source": [
    "### Answer\n",
    "\n",
    "- 有對資料做標準化，如Line 37, 38，因為顏色色碼為0-255，所以用一律除以255來做標準化\n",
    "```\n",
    "x_train /= 255\n",
    "x_test /= 255\n",
    "```\n",
    "- Optimizer為Adadelta\n",
    "```\n",
    "optimizer=keras.optimizers.Adadelta()\n",
    "```\n",
    "- 總共疊了兩層卷積層，分別在Line 48､51\n",
    "- 模型的參數量如上個cell的輸出所示，共有99,144,010（九千萬個）"
   ]
  }
 ],
 "metadata": {
  "kernelspec": {
   "display_name": "Python 3",
   "language": "python",
   "name": "python3"
  },
  "language_info": {
   "codemirror_mode": {
    "name": "ipython",
    "version": 3
   },
   "file_extension": ".py",
   "mimetype": "text/x-python",
   "name": "python",
   "nbconvert_exporter": "python",
   "pygments_lexer": "ipython3",
   "version": "3.7.3"
  }
 },
 "nbformat": 4,
 "nbformat_minor": 2
}
