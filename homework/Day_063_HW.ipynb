{
 "cells": [
  {
   "cell_type": "markdown",
   "metadata": {},
   "source": [
    "# 作業\n",
    "* 在精簡深度學習的方式上 : 卷積類神經 (CNN) 採用像素遠近，而遞歸類神經 (RNN) 採用著則是時間遠近\n",
    "* 那麼，既然有著類似的設計精神，兩者是否有可能互換應用呢?"
   ]
  },
  {
   "cell_type": "markdown",
   "metadata": {
    "collapsed": true
   },
   "source": [
    "### Answer\n",
    "\n",
    "如果「互換應用」是指：用CNN來做文字語音處理，用RNN來做影像辨識的話，我對這部份欠缺瞭解與經驗，但從網路上可以查到一些例子，例如用CNN來處理音訊資料：\n",
    "\n",
    "[卷積神經網路的運作原理](https://brohrer.mcknote.com/zh-Hant/how_machine_learning_works/how_convolutional_neural_networks_work.html) \n",
    "\n",
    "> CNN 也能處理其他型態的資料，技巧是將任何資料轉成類似圖片的形式。例如，我們可以將音訊根據時間細分，再將每一小段的聲音分成低音、中音、高音或其他更高的頻率。如此一來，我們就可以把這些資訊組成一個二維矩陣，其中各行代表不同時間、各列代表不同頻率。在這張假圖片裡，越相近的「像素」，彼此之間的關聯性越高。CNN 很擅長處理這樣的資料，研究者們也發揮創意，將自然語言處理（natural language processing）中的文字資料、和新藥研發過程中的化學資料都轉成 CNN 可以處理的形式。\n",
    "\n",
    "至於以RNN來處理影像，與這個話題有關的是將CNN與RNN組合在一起，用CNN來抽取特徵，用RNN來產生圖片標註文字：\n",
    "\n",
    "[卷积网络循环网络结合-CNN+RNN](https://blog.csdn.net/Koala_Tree/article/details/77765436)\n",
    "\n",
    ">   大量信息同时具有时间空间特性：视频，图文结合，真实的场景对话；\n",
    "    带有图像的对话，文本表达更具体；\n",
    "    视频相对图片描述的内容更完整。\n"
   ]
  }
 ],
 "metadata": {
  "kernelspec": {
   "display_name": "Python 3",
   "language": "python",
   "name": "python3"
  },
  "language_info": {
   "codemirror_mode": {
    "name": "ipython",
    "version": 3
   },
   "file_extension": ".py",
   "mimetype": "text/x-python",
   "name": "python",
   "nbconvert_exporter": "python",
   "pygments_lexer": "ipython3",
   "version": "3.7.1"
  }
 },
 "nbformat": 4,
 "nbformat_minor": 2
}
