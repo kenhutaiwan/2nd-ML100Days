{
 "cells": [
  {
   "cell_type": "markdown",
   "metadata": {},
   "source": [
    "## Work\n",
    "1. 試比較有 BN 在 Batch_size = 2, 16, 32, 128, 256 下的差異\n",
    "2. 請嘗試將 BN 放在 Activation 之前，並比較訓練結果\n",
    "3. 請於 BN 放在 Input Layer 後，並比較結果"
   ]
  },
  {
   "cell_type": "code",
   "execution_count": 1,
   "metadata": {},
   "outputs": [
    {
     "name": "stderr",
     "output_type": "stream",
     "text": [
      "Using TensorFlow backend.\n"
     ]
    }
   ],
   "source": [
    "import os\n",
    "import keras\n",
    "import itertools\n",
    "# Disable GPU\n",
    "os.environ[\"CUDA_VISIBLE_DEVICES\"] = \"\"\n",
    "\n",
    "# 預防錯誤： OMP: Error #15: Initializing libiomp5.dylib, but found libiomp5.dylib already initialized.\n",
    "os.environ['KMP_DUPLICATE_LIB_OK'] = 'True'"
   ]
  },
  {
   "cell_type": "code",
   "execution_count": 2,
   "metadata": {},
   "outputs": [],
   "source": [
    "train, test = keras.datasets.cifar10.load_data()"
   ]
  },
  {
   "cell_type": "code",
   "execution_count": 3,
   "metadata": {},
   "outputs": [],
   "source": [
    "## 資料前處理\n",
    "def preproc_x(x, flatten=True):\n",
    "    x = x / 255.\n",
    "    if flatten:\n",
    "        x = x.reshape((len(x), -1))\n",
    "    return x\n",
    "\n",
    "def preproc_y(y, num_classes=10):\n",
    "    if y.shape[-1] == 1:\n",
    "        y = keras.utils.to_categorical(y, num_classes)\n",
    "    return y    "
   ]
  },
  {
   "cell_type": "code",
   "execution_count": 4,
   "metadata": {},
   "outputs": [],
   "source": [
    "x_train, y_train = train\n",
    "x_test, y_test = test\n",
    "\n",
    "# Preproc the inputs\n",
    "x_train = preproc_x(x_train)\n",
    "x_test = preproc_x(x_test)\n",
    "\n",
    "# Preprc the outputs\n",
    "y_train = preproc_y(y_train)\n",
    "y_test = preproc_y(y_test)"
   ]
  },
  {
   "cell_type": "code",
   "execution_count": 5,
   "metadata": {},
   "outputs": [],
   "source": [
    "from keras.layers import BatchNormalization\n",
    "\n",
    "# 三層隱藏層，一個輸出層(softmax)\n",
    "def build_mlp(input_shape, output_units=10):\n",
    "    input_layer = keras.layers.Input(input_shape)\n",
    "    x = keras.layers.Dense(units=256, activation=\"relu\", name=\"hidden_layer_0\")(input_layer)\n",
    "    x = BatchNormalization()(x)\n",
    "    x = keras.layers.Dense(units=128, activation=\"relu\", name=\"hidden_layer_1\")(x)\n",
    "    x = BatchNormalization()(x)\n",
    "    x = keras.layers.Dense(units=64, activation=\"relu\", name=\"hidden_layer_2\")(x)\n",
    "    x = BatchNormalization()(x)\n",
    "    out = keras.layers.Dense(units=output_units, activation=\"softmax\", name=\"output\")(x)\n",
    "    model = keras.models.Model(inputs=[input_layer], outputs=[out])\n",
    "    \n",
    "    return model"
   ]
  },
  {
   "cell_type": "code",
   "execution_count": 15,
   "metadata": {},
   "outputs": [],
   "source": [
    "\"\"\"Code Here\n",
    "設定超參數\n",
    "\"\"\"\n",
    "LEARNING_RATE = 1e-3\n",
    "EPOCHS = 50\n",
    "BATCH_SIZE = [2, 16, 32, 128, 256]\n",
    "MOMENTUM = 0.95"
   ]
  },
  {
   "cell_type": "code",
   "execution_count": 16,
   "metadata": {
    "scrolled": true
   },
   "outputs": [],
   "source": [
    "def run_model(results: dict, batch_size: int):\n",
    "    model = build_mlp(input_shape=x_train.shape[1:])\n",
    "    model.summary()\n",
    "    optimizer = keras.optimizers.SGD(lr=LEARNING_RATE, nesterov=True, momentum=MOMENTUM)\n",
    "    model.compile(loss=\"categorical_crossentropy\", metrics=[\"accuracy\"], optimizer=optimizer)\n",
    "\n",
    "    model.fit(x_train, y_train, \n",
    "              epochs=EPOCHS, \n",
    "              batch_size=batch_size, \n",
    "              validation_data=(x_test, y_test), \n",
    "              shuffle=True)\n",
    "    \n",
    "    # Collect results\n",
    "    train_loss = model.history.history[\"loss\"]\n",
    "    valid_loss = model.history.history[\"val_loss\"]\n",
    "    train_acc = model.history.history[\"acc\"]\n",
    "    valid_acc = model.history.history[\"val_acc\"]\n",
    "    \n",
    "    exp_name_tag = \"batch_size-{}\".format(str(batch_size))\n",
    "\n",
    "    results[exp_name_tag] = {'train-loss': train_loss,\n",
    "                             'valid-loss': valid_loss,\n",
    "                             'train-acc': train_acc,\n",
    "                             'valid-acc': valid_acc}"
   ]
  },
  {
   "cell_type": "code",
   "execution_count": null,
   "metadata": {},
   "outputs": [
    {
     "name": "stdout",
     "output_type": "stream",
     "text": [
      "_________________________________________________________________\n",
      "Layer (type)                 Output Shape              Param #   \n",
      "=================================================================\n",
      "input_7 (InputLayer)         (None, 3072)              0         \n",
      "_________________________________________________________________\n",
      "hidden_layer_0 (Dense)       (None, 256)               786688    \n",
      "_________________________________________________________________\n",
      "batch_normalization_19 (Batc (None, 256)               1024      \n",
      "_________________________________________________________________\n",
      "hidden_layer_1 (Dense)       (None, 128)               32896     \n",
      "_________________________________________________________________\n",
      "batch_normalization_20 (Batc (None, 128)               512       \n",
      "_________________________________________________________________\n",
      "hidden_layer_2 (Dense)       (None, 64)                8256      \n",
      "_________________________________________________________________\n",
      "batch_normalization_21 (Batc (None, 64)                256       \n",
      "_________________________________________________________________\n",
      "output (Dense)               (None, 10)                650       \n",
      "=================================================================\n",
      "Total params: 830,282\n",
      "Trainable params: 829,386\n",
      "Non-trainable params: 896\n",
      "_________________________________________________________________\n",
      "Train on 50000 samples, validate on 10000 samples\n",
      "Epoch 1/50\n",
      "50000/50000 [==============================] - 595s 12ms/step - loss: 2.2754 - acc: 0.1539 - val_loss: 2.2285 - val_acc: 0.2215\n",
      "Epoch 2/50\n",
      "50000/50000 [==============================] - 542s 11ms/step - loss: 2.2302 - acc: 0.1717 - val_loss: 2.4203 - val_acc: 0.2099\n",
      "Epoch 3/50\n",
      "50000/50000 [==============================] - 542s 11ms/step - loss: 2.2328 - acc: 0.1687 - val_loss: 2.3692 - val_acc: 0.1915\n",
      "Epoch 4/50\n",
      "50000/50000 [==============================] - 528s 11ms/step - loss: 2.2337 - acc: 0.1700 - val_loss: 2.6255 - val_acc: 0.2099\n",
      "Epoch 5/50\n",
      "50000/50000 [==============================] - 549s 11ms/step - loss: 2.2460 - acc: 0.1641 - val_loss: 2.7484 - val_acc: 0.1955\n",
      "Epoch 6/50\n",
      "50000/50000 [==============================] - 512s 10ms/step - loss: 2.2405 - acc: 0.1623 - val_loss: 2.6375 - val_acc: 0.1825\n",
      "Epoch 7/50\n",
      "50000/50000 [==============================] - 551s 11ms/step - loss: 2.2422 - acc: 0.1591 - val_loss: 3.0309 - val_acc: 0.1578\n",
      "Epoch 8/50\n",
      "50000/50000 [==============================] - 577s 12ms/step - loss: 2.2506 - acc: 0.1576 - val_loss: 2.7925 - val_acc: 0.1737\n",
      "Epoch 9/50\n",
      "50000/50000 [==============================] - 562s 11ms/step - loss: 2.2577 - acc: 0.1477 - val_loss: 3.1945 - val_acc: 0.1642\n",
      "Epoch 10/50\n",
      "50000/50000 [==============================] - 553s 11ms/step - loss: 2.2520 - acc: 0.1522 - val_loss: 2.8987 - val_acc: 0.1707\n",
      "Epoch 11/50\n",
      "50000/50000 [==============================] - 553s 11ms/step - loss: 2.2745 - acc: 0.1358 - val_loss: 3.0206 - val_acc: 0.1296\n",
      "Epoch 12/50\n",
      "50000/50000 [==============================] - 554s 11ms/step - loss: 2.3032 - acc: 0.1110 - val_loss: 2.9564 - val_acc: 0.1599\n",
      "Epoch 13/50\n",
      "50000/50000 [==============================] - 3067s 61ms/step - loss: 2.3020 - acc: 0.1106 - val_loss: 3.1748 - val_acc: 0.1393\n",
      "Epoch 14/50\n",
      "13808/50000 [=======>......................] - ETA: 9:24:45 - loss: 2.3021 - acc: 0.1136"
     ]
    }
   ],
   "source": [
    "results = {}\n",
    "\n",
    "for batch_size in BATCH_SIZE:\n",
    "    run_model(results, batch_size)"
   ]
  },
  {
   "cell_type": "code",
   "execution_count": 13,
   "metadata": {},
   "outputs": [],
   "source": [
    "import matplotlib.pyplot as plt\n",
    "%matplotlib inline\n",
    "color_bar = [\"r\", \"g\", \"b\", \"y\", \"m\", \"k\"]\n",
    "\n",
    "def drawing(results: dict):\n",
    "    plt.figure(figsize=(8,6))\n",
    "    for i, cond in enumerate(results.keys()):\n",
    "        plt.plot(range(len(results[cond]['train-loss'])),results[cond]['train-loss'], '-', label=cond, color=color_bar[i])\n",
    "        plt.plot(range(len(results[cond]['valid-loss'])),results[cond]['valid-loss'], '--', label=cond, color=color_bar[i])\n",
    "    plt.title(\"Loss\")\n",
    "    plt.ylim([0, 5])\n",
    "    plt.legend()\n",
    "    plt.show()\n",
    "\n",
    "    plt.figure(figsize=(8,6))\n",
    "    for i, cond in enumerate(results.keys()):\n",
    "        plt.plot(range(len(results[cond]['train-acc'])),results[cond]['train-acc'], '-', label=cond, color=color_bar[i])\n",
    "        plt.plot(range(len(results[cond]['valid-acc'])),results[cond]['valid-acc'], '--', label=cond, color=color_bar[i])\n",
    "    plt.title(\"Accuracy\")\n",
    "    plt.legend()\n",
    "    plt.show()"
   ]
  },
  {
   "cell_type": "code",
   "execution_count": 14,
   "metadata": {},
   "outputs": [
    {
     "data": {
      "image/png": "[encoded data removed]",
      "text/plain": [
       "<Figure size 576x432 with 1 Axes>"
      ]
     },
     "metadata": {
      "needs_background": "light"
     },
     "output_type": "display_data"
    },
    {
     "data": {
      "image/png": "[encoded data removed]",
      "text/plain": [
       "<Figure size 576x432 with 1 Axes>"
      ]
     },
     "metadata": {
      "needs_background": "light"
     },
     "output_type": "display_data"
    }
   ],
   "source": [
    "drawing(results)"
   ]
  }
 ],
 "metadata": {
  "kernelspec": {
   "display_name": "Python 3",
   "language": "python",
   "name": "python3"
  },
  "language_info": {
   "codemirror_mode": {
    "name": "ipython",
    "version": 3
   },
   "file_extension": ".py",
   "mimetype": "text/x-python",
   "name": "python",
   "nbconvert_exporter": "python",
   "pygments_lexer": "ipython3",
   "version": "3.7.3"
  }
 },
 "nbformat": 4,
 "nbformat_minor": 2
}
