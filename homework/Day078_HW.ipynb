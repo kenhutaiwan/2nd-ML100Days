{
 "cells": [
  {
   "cell_type": "markdown",
   "metadata": {},
   "source": [
    "## Work\n",
    "1. 請嘗試將 preproc_x 替換成以每筆資料的 min/max 進行標準化至 -1 ~ 1 間，再進行訓練\n",
    "2. 請嘗試將 mlp 疊更深 (e.g 5~10 層)，進行訓練後觀察 learning curve 的走勢\n",
    "3. (optional) 請改用 GPU 進行訓練 (如果你有 GPU 的話)，比較使用 CPU 與 GPU 的訓練速度"
   ]
  },
  {
   "cell_type": "code",
   "execution_count": null,
   "metadata": {},
   "outputs": [],
   "source": [
    "## \n",
    "\"\"\"\n",
    "Your code here (optional)\n",
    "確認硬體資源\n",
    "\"\"\""
   ]
  },
  {
   "cell_type": "code",
   "execution_count": 1,
   "metadata": {},
   "outputs": [
    {
     "name": "stderr",
     "output_type": "stream",
     "text": [
      "Using TensorFlow backend.\n"
     ]
    }
   ],
   "source": [
    "import os\n",
    "import keras\n",
    "from sklearn.preprocessing import MinMaxScaler\n",
    "\n",
    "# 請嘗試設定 GPU：os.environ\n",
    "# mac mini看似沒有nvidia的gpu\n",
    "os.environ[\"CUDA_VISIBLE_DEVICES\"] = \"\"\n",
    "# 預防錯誤： OMP: Error #15: Initializing libiomp5.dylib, but found libiomp5.dylib already initialized.\n",
    "os.environ['KMP_DUPLICATE_LIB_OK'] = 'True'"
   ]
  },
  {
   "cell_type": "code",
   "execution_count": 2,
   "metadata": {},
   "outputs": [],
   "source": [
    "train, test = keras.datasets.cifar10.load_data()\n"
   ]
  },
  {
   "cell_type": "code",
   "execution_count": 3,
   "metadata": {},
   "outputs": [],
   "source": [
    "## 資料前處理\n",
    "\"\"\"\n",
    "X: 用MinMaxscaler來做標準化\n",
    "Y: 用OneHotEncoder\n",
    "\"\"\"\n",
    "scaler = MinMaxScaler()\n",
    "def preproc_x(X):\n",
    "    X = X.reshape((len(X), -1))\n",
    "    X = scaler.fit_transform(X)\n",
    "    return X\n",
    "\n",
    "def preproc_y(y, num_classes=10):\n",
    "    if y.shape[-1] == 1:\n",
    "        y = keras.utils.to_categorical(y, num_classes)\n",
    "    return y  "
   ]
  },
  {
   "cell_type": "code",
   "execution_count": 4,
   "metadata": {},
   "outputs": [
    {
     "name": "stderr",
     "output_type": "stream",
     "text": [
      "/Users/ken/anaconda3/envs/ai100-2/lib/python3.7/site-packages/sklearn/utils/validation.py:595: DataConversionWarning: Data with input dtype uint8 was converted to float64 by MinMaxScaler.\n",
      "  warnings.warn(msg, DataConversionWarning)\n",
      "/Users/ken/anaconda3/envs/ai100-2/lib/python3.7/site-packages/sklearn/utils/validation.py:595: DataConversionWarning: Data with input dtype uint8 was converted to float64 by MinMaxScaler.\n",
      "  warnings.warn(msg, DataConversionWarning)\n"
     ]
    }
   ],
   "source": [
    "x_train, y_train = train\n",
    "x_test, y_test = test\n",
    "\n",
    "# Preproc the inputs\n",
    "x_train = preproc_x(x_train)\n",
    "x_test = preproc_x(x_test)\n",
    "\n",
    "# Preprc the outputs\n",
    "y_train = preproc_y(y_train)\n",
    "y_test = preproc_y(y_test)"
   ]
  },
  {
   "cell_type": "code",
   "execution_count": 5,
   "metadata": {},
   "outputs": [
    {
     "name": "stdout",
     "output_type": "stream",
     "text": [
      "WARNING:tensorflow:From /Users/ken/anaconda3/envs/ai100-2/lib/python3.7/site-packages/tensorflow/python/framework/op_def_library.py:263: colocate_with (from tensorflow.python.framework.ops) is deprecated and will be removed in a future version.\n",
      "Instructions for updating:\n",
      "Colocations handled automatically by placer.\n",
      "_________________________________________________________________\n",
      "Layer (type)                 Output Shape              Param #   \n",
      "=================================================================\n",
      "input_1 (InputLayer)         (None, 3072)              0         \n",
      "_________________________________________________________________\n",
      "hidden_layer1 (Dense)        (None, 512)               1573376   \n",
      "_________________________________________________________________\n",
      "hidden_layer2 (Dense)        (None, 256)               131328    \n",
      "_________________________________________________________________\n",
      "hidden_layer3 (Dense)        (None, 128)               32896     \n",
      "_________________________________________________________________\n",
      "hidden_layer4 (Dense)        (None, 64)                8256      \n",
      "_________________________________________________________________\n",
      "hidden_layer5 (Dense)        (None, 32)                2080      \n",
      "_________________________________________________________________\n",
      "hidden_layer6 (Dense)        (None, 16)                528       \n",
      "_________________________________________________________________\n",
      "output (Dense)               (None, 10)                170       \n",
      "=================================================================\n",
      "Total params: 1,748,634\n",
      "Trainable params: 1,748,634\n",
      "Non-trainable params: 0\n",
      "_________________________________________________________________\n"
     ]
    }
   ],
   "source": [
    "\"\"\"Code Here\n",
    "建立你的神經網路\n",
    "\"\"\"\n",
    "def build_mlp(input_shape, output_units=10, num_neurons=[512, 256, 128, 64, 32, 16]):\n",
    "    input_layer = keras.layers.Input(input_shape)\n",
    "    \n",
    "    for i, n_units in enumerate(num_neurons):\n",
    "        if i == 0:\n",
    "            x = keras.layers.Dense(units=n_units, activation=\"relu\", name=\"hidden_layer\"+str(i+1))(input_layer)\n",
    "        else:\n",
    "            x = keras.layers.Dense(units=n_units, activation=\"relu\", name=\"hidden_layer\"+str(i+1))(x)\n",
    "    \n",
    "    out = keras.layers.Dense(units=output_units, activation=\"softmax\", name=\"output\")(x)\n",
    "    \n",
    "    model = keras.models.Model(inputs=[input_layer], outputs=[out])\n",
    "    return model\n",
    "\n",
    "model = build_mlp([32*32*3])\n",
    "model.summary()"
   ]
  },
  {
   "cell_type": "code",
   "execution_count": 6,
   "metadata": {},
   "outputs": [],
   "source": [
    "## 超參數設定\n",
    "LEARNING_RATE = 0.001\n",
    "EPOCHS = 100\n",
    "BATCH_SIZE = 256"
   ]
  },
  {
   "cell_type": "code",
   "execution_count": 7,
   "metadata": {},
   "outputs": [],
   "source": [
    "optimizer = keras.optimizers.Adam(lr=LEARNING_RATE)\n",
    "model.compile(loss=\"categorical_crossentropy\", metrics=[\"accuracy\"], optimizer=optimizer)"
   ]
  },
  {
   "cell_type": "code",
   "execution_count": 8,
   "metadata": {},
   "outputs": [
    {
     "name": "stdout",
     "output_type": "stream",
     "text": [
      "WARNING:tensorflow:From /Users/ken/anaconda3/envs/ai100-2/lib/python3.7/site-packages/tensorflow/python/ops/math_ops.py:3066: to_int32 (from tensorflow.python.ops.math_ops) is deprecated and will be removed in a future version.\n",
      "Instructions for updating:\n",
      "Use tf.cast instead.\n",
      "Train on 50000 samples, validate on 10000 samples\n",
      "Epoch 1/100\n",
      "50000/50000 [==============================] - 23s 451us/step - loss: 2.1326 - acc: 0.2037 - val_loss: 2.0022 - val_acc: 0.2730\n",
      "Epoch 2/100\n",
      "50000/50000 [==============================] - 22s 446us/step - loss: 1.8968 - acc: 0.3064 - val_loss: 1.8423 - val_acc: 0.3299\n",
      "Epoch 3/100\n",
      "50000/50000 [==============================] - 22s 448us/step - loss: 1.7602 - acc: 0.3639 - val_loss: 1.7422 - val_acc: 0.3721\n",
      "Epoch 4/100\n",
      "50000/50000 [==============================] - 23s 454us/step - loss: 1.6532 - acc: 0.4040 - val_loss: 1.5920 - val_acc: 0.4291\n",
      "Epoch 5/100\n",
      "50000/50000 [==============================] - 20s 399us/step - loss: 1.5917 - acc: 0.4280 - val_loss: 1.5499 - val_acc: 0.4464\n",
      "Epoch 6/100\n",
      "50000/50000 [==============================] - 18s 362us/step - loss: 1.5461 - acc: 0.4453 - val_loss: 1.5239 - val_acc: 0.4518\n",
      "Epoch 7/100\n",
      "50000/50000 [==============================] - 19s 384us/step - loss: 1.4968 - acc: 0.4630 - val_loss: 1.5175 - val_acc: 0.4562\n",
      "Epoch 8/100\n",
      "50000/50000 [==============================] - 19s 388us/step - loss: 1.4778 - acc: 0.4694 - val_loss: 1.4883 - val_acc: 0.4684\n",
      "Epoch 9/100\n",
      "50000/50000 [==============================] - 22s 444us/step - loss: 1.4506 - acc: 0.4822 - val_loss: 1.4723 - val_acc: 0.4740\n",
      "Epoch 10/100\n",
      "50000/50000 [==============================] - 22s 435us/step - loss: 1.4201 - acc: 0.4906 - val_loss: 1.4567 - val_acc: 0.4762\n",
      "Epoch 11/100\n",
      "50000/50000 [==============================] - 20s 391us/step - loss: 1.3855 - acc: 0.5026 - val_loss: 1.4307 - val_acc: 0.4925\n",
      "Epoch 12/100\n",
      "50000/50000 [==============================] - 21s 428us/step - loss: 1.3635 - acc: 0.5146 - val_loss: 1.4729 - val_acc: 0.4743\n",
      "Epoch 13/100\n",
      "50000/50000 [==============================] - 20s 390us/step - loss: 1.3424 - acc: 0.5210 - val_loss: 1.4120 - val_acc: 0.5022\n",
      "Epoch 14/100\n",
      "50000/50000 [==============================] - 19s 378us/step - loss: 1.3135 - acc: 0.5303 - val_loss: 1.4277 - val_acc: 0.4927\n",
      "Epoch 15/100\n",
      "50000/50000 [==============================] - 18s 361us/step - loss: 1.3013 - acc: 0.5357 - val_loss: 1.4013 - val_acc: 0.5109\n",
      "Epoch 16/100\n",
      "50000/50000 [==============================] - 19s 381us/step - loss: 1.2669 - acc: 0.5462 - val_loss: 1.3783 - val_acc: 0.5154\n",
      "Epoch 17/100\n",
      "50000/50000 [==============================] - 21s 427us/step - loss: 1.2451 - acc: 0.5550 - val_loss: 1.3950 - val_acc: 0.5004\n",
      "Epoch 18/100\n",
      "50000/50000 [==============================] - 18s 364us/step - loss: 1.2325 - acc: 0.5598 - val_loss: 1.3847 - val_acc: 0.5139\n",
      "Epoch 19/100\n",
      "50000/50000 [==============================] - 18s 368us/step - loss: 1.2121 - acc: 0.5647 - val_loss: 1.4013 - val_acc: 0.5024\n",
      "Epoch 20/100\n",
      "50000/50000 [==============================] - 18s 364us/step - loss: 1.1892 - acc: 0.5762 - val_loss: 1.3619 - val_acc: 0.5197\n",
      "Epoch 21/100\n",
      "50000/50000 [==============================] - 21s 424us/step - loss: 1.1687 - acc: 0.5823 - val_loss: 1.3919 - val_acc: 0.5140\n",
      "Epoch 22/100\n",
      "50000/50000 [==============================] - 19s 370us/step - loss: 1.1537 - acc: 0.5864 - val_loss: 1.3914 - val_acc: 0.5103\n",
      "Epoch 23/100\n",
      "50000/50000 [==============================] - 20s 404us/step - loss: 1.1327 - acc: 0.5974 - val_loss: 1.4152 - val_acc: 0.5099\n",
      "Epoch 24/100\n",
      "50000/50000 [==============================] - 25s 504us/step - loss: 1.1088 - acc: 0.6039 - val_loss: 1.4041 - val_acc: 0.5187\n",
      "Epoch 25/100\n",
      "50000/50000 [==============================] - 23s 468us/step - loss: 1.0997 - acc: 0.6056 - val_loss: 1.4188 - val_acc: 0.5111\n",
      "Epoch 26/100\n",
      "50000/50000 [==============================] - 20s 404us/step - loss: 1.0771 - acc: 0.6173 - val_loss: 1.3920 - val_acc: 0.5261\n",
      "Epoch 27/100\n",
      "50000/50000 [==============================] - 21s 414us/step - loss: 1.0573 - acc: 0.6223 - val_loss: 1.3843 - val_acc: 0.5253\n",
      "Epoch 28/100\n",
      "50000/50000 [==============================] - 19s 383us/step - loss: 1.0422 - acc: 0.6255 - val_loss: 1.3974 - val_acc: 0.5241\n",
      "Epoch 29/100\n",
      "50000/50000 [==============================] - 19s 371us/step - loss: 1.0106 - acc: 0.6370 - val_loss: 1.4254 - val_acc: 0.5227\n",
      "Epoch 30/100\n",
      "50000/50000 [==============================] - 18s 366us/step - loss: 1.0186 - acc: 0.6357 - val_loss: 1.4376 - val_acc: 0.5150\n",
      "Epoch 31/100\n",
      "50000/50000 [==============================] - 21s 425us/step - loss: 0.9933 - acc: 0.6440 - val_loss: 1.4293 - val_acc: 0.5202\n",
      "Epoch 32/100\n",
      "50000/50000 [==============================] - 22s 446us/step - loss: 0.9818 - acc: 0.6497 - val_loss: 1.4365 - val_acc: 0.5307\n",
      "Epoch 33/100\n",
      "50000/50000 [==============================] - 18s 361us/step - loss: 0.9709 - acc: 0.6517 - val_loss: 1.4673 - val_acc: 0.5209\n",
      "Epoch 34/100\n",
      "50000/50000 [==============================] - 18s 365us/step - loss: 0.9410 - acc: 0.6622 - val_loss: 1.4823 - val_acc: 0.5072\n",
      "Epoch 35/100\n",
      "50000/50000 [==============================] - 18s 367us/step - loss: 0.9287 - acc: 0.6688 - val_loss: 1.5041 - val_acc: 0.5194\n",
      "Epoch 36/100\n",
      "50000/50000 [==============================] - 19s 380us/step - loss: 0.9133 - acc: 0.6732 - val_loss: 1.5088 - val_acc: 0.5242\n",
      "Epoch 37/100\n",
      "50000/50000 [==============================] - 18s 350us/step - loss: 0.8913 - acc: 0.6792 - val_loss: 1.5248 - val_acc: 0.5159\n",
      "Epoch 38/100\n",
      "50000/50000 [==============================] - 19s 381us/step - loss: 0.8805 - acc: 0.6847 - val_loss: 1.5274 - val_acc: 0.5167\n",
      "Epoch 39/100\n",
      "50000/50000 [==============================] - 20s 399us/step - loss: 0.8641 - acc: 0.6901 - val_loss: 1.5526 - val_acc: 0.5091\n",
      "Epoch 40/100\n",
      "50000/50000 [==============================] - 20s 395us/step - loss: 0.8490 - acc: 0.6946 - val_loss: 1.5743 - val_acc: 0.5180\n",
      "Epoch 41/100\n",
      "50000/50000 [==============================] - 19s 387us/step - loss: 0.8332 - acc: 0.7016 - val_loss: 1.5437 - val_acc: 0.5249\n",
      "Epoch 42/100\n",
      "50000/50000 [==============================] - 19s 376us/step - loss: 0.8171 - acc: 0.7053 - val_loss: 1.5728 - val_acc: 0.5221\n",
      "Epoch 43/100\n",
      "50000/50000 [==============================] - 19s 375us/step - loss: 0.7991 - acc: 0.7138 - val_loss: 1.6245 - val_acc: 0.5190\n",
      "Epoch 44/100\n",
      "50000/50000 [==============================] - 19s 373us/step - loss: 0.7879 - acc: 0.7169 - val_loss: 1.6220 - val_acc: 0.5161\n",
      "Epoch 45/100\n",
      "50000/50000 [==============================] - 19s 374us/step - loss: 0.7741 - acc: 0.7219 - val_loss: 1.6297 - val_acc: 0.5150\n",
      "Epoch 46/100\n",
      "50000/50000 [==============================] - 19s 374us/step - loss: 0.7674 - acc: 0.7236 - val_loss: 1.6672 - val_acc: 0.5158\n",
      "Epoch 47/100\n",
      "50000/50000 [==============================] - 19s 374us/step - loss: 0.7502 - acc: 0.7330 - val_loss: 1.6511 - val_acc: 0.5103\n",
      "Epoch 48/100\n",
      "50000/50000 [==============================] - 19s 373us/step - loss: 0.7343 - acc: 0.7363 - val_loss: 1.6789 - val_acc: 0.5134\n",
      "Epoch 49/100\n",
      "50000/50000 [==============================] - 19s 373us/step - loss: 0.7267 - acc: 0.7413 - val_loss: 1.7269 - val_acc: 0.5177\n",
      "Epoch 50/100\n",
      "50000/50000 [==============================] - 19s 377us/step - loss: 0.7296 - acc: 0.7387 - val_loss: 1.7058 - val_acc: 0.5162\n",
      "Epoch 51/100\n",
      "50000/50000 [==============================] - 19s 374us/step - loss: 0.7137 - acc: 0.7442 - val_loss: 1.7474 - val_acc: 0.5119\n",
      "Epoch 52/100\n",
      "50000/50000 [==============================] - 19s 372us/step - loss: 0.6927 - acc: 0.7527 - val_loss: 1.7498 - val_acc: 0.5123\n",
      "Epoch 53/100\n",
      "50000/50000 [==============================] - 19s 372us/step - loss: 0.6724 - acc: 0.7585 - val_loss: 1.7944 - val_acc: 0.5013\n",
      "Epoch 54/100\n",
      "50000/50000 [==============================] - 19s 372us/step - loss: 0.6733 - acc: 0.7593 - val_loss: 1.8474 - val_acc: 0.5032\n",
      "Epoch 55/100\n",
      "50000/50000 [==============================] - 19s 371us/step - loss: 0.6567 - acc: 0.7657 - val_loss: 1.8545 - val_acc: 0.5099\n",
      "Epoch 56/100\n",
      "50000/50000 [==============================] - 21s 411us/step - loss: 0.6443 - acc: 0.7689 - val_loss: 1.8890 - val_acc: 0.5114\n"
     ]
    },
    {
     "name": "stdout",
     "output_type": "stream",
     "text": [
      "Epoch 57/100\n",
      "50000/50000 [==============================] - 20s 390us/step - loss: 0.6167 - acc: 0.7810 - val_loss: 1.8541 - val_acc: 0.5086\n",
      "Epoch 58/100\n",
      "50000/50000 [==============================] - 19s 387us/step - loss: 0.6203 - acc: 0.7790 - val_loss: 1.9411 - val_acc: 0.5165\n",
      "Epoch 59/100\n",
      "50000/50000 [==============================] - 18s 357us/step - loss: 0.6143 - acc: 0.7819 - val_loss: 1.9384 - val_acc: 0.5031\n",
      "Epoch 60/100\n",
      "50000/50000 [==============================] - 17s 348us/step - loss: 0.6256 - acc: 0.7773 - val_loss: 1.9537 - val_acc: 0.5097\n",
      "Epoch 61/100\n",
      "50000/50000 [==============================] - 18s 352us/step - loss: 0.6092 - acc: 0.7824 - val_loss: 1.9851 - val_acc: 0.5140\n",
      "Epoch 62/100\n",
      "50000/50000 [==============================] - 17s 349us/step - loss: 0.5920 - acc: 0.7887 - val_loss: 2.0309 - val_acc: 0.5116\n",
      "Epoch 63/100\n",
      "50000/50000 [==============================] - 18s 362us/step - loss: 0.5709 - acc: 0.7973 - val_loss: 2.0486 - val_acc: 0.5043\n",
      "Epoch 64/100\n",
      "50000/50000 [==============================] - 18s 351us/step - loss: 0.5889 - acc: 0.7893 - val_loss: 2.0229 - val_acc: 0.5132\n",
      "Epoch 65/100\n",
      "50000/50000 [==============================] - 18s 351us/step - loss: 0.5605 - acc: 0.8005 - val_loss: 2.0363 - val_acc: 0.5095\n",
      "Epoch 66/100\n",
      "50000/50000 [==============================] - 19s 374us/step - loss: 0.5477 - acc: 0.8050 - val_loss: 2.1527 - val_acc: 0.5105\n",
      "Epoch 67/100\n",
      "50000/50000 [==============================] - 18s 359us/step - loss: 0.5440 - acc: 0.8053 - val_loss: 2.1857 - val_acc: 0.5022\n",
      "Epoch 68/100\n",
      "50000/50000 [==============================] - 18s 362us/step - loss: 0.5543 - acc: 0.8005 - val_loss: 2.1197 - val_acc: 0.5099\n",
      "Epoch 69/100\n",
      "50000/50000 [==============================] - 20s 402us/step - loss: 0.5217 - acc: 0.8137 - val_loss: 2.1656 - val_acc: 0.5090\n",
      "Epoch 70/100\n",
      "50000/50000 [==============================] - 20s 391us/step - loss: 0.5245 - acc: 0.8143 - val_loss: 2.1493 - val_acc: 0.5117\n",
      "Epoch 71/100\n",
      "50000/50000 [==============================] - 19s 383us/step - loss: 0.4989 - acc: 0.8213 - val_loss: 2.2186 - val_acc: 0.5031\n",
      "Epoch 72/100\n",
      "50000/50000 [==============================] - 21s 427us/step - loss: 0.5036 - acc: 0.8211 - val_loss: 2.2475 - val_acc: 0.5070\n",
      "Epoch 73/100\n",
      "50000/50000 [==============================] - 20s 394us/step - loss: 0.5018 - acc: 0.8215 - val_loss: 2.3558 - val_acc: 0.5074\n",
      "Epoch 74/100\n",
      "50000/50000 [==============================] - 19s 376us/step - loss: 0.4901 - acc: 0.8237 - val_loss: 2.3611 - val_acc: 0.4910\n",
      "Epoch 75/100\n",
      "50000/50000 [==============================] - 18s 361us/step - loss: 0.4951 - acc: 0.8224 - val_loss: 2.2808 - val_acc: 0.5034\n",
      "Epoch 76/100\n",
      "50000/50000 [==============================] - 19s 374us/step - loss: 0.4694 - acc: 0.8344 - val_loss: 2.3480 - val_acc: 0.5079\n",
      "Epoch 77/100\n",
      "50000/50000 [==============================] - 19s 377us/step - loss: 0.4822 - acc: 0.8267 - val_loss: 2.3738 - val_acc: 0.5060\n",
      "Epoch 78/100\n",
      "50000/50000 [==============================] - 20s 403us/step - loss: 0.4732 - acc: 0.8303 - val_loss: 2.3628 - val_acc: 0.4919\n",
      "Epoch 79/100\n",
      "50000/50000 [==============================] - 18s 356us/step - loss: 0.4882 - acc: 0.8252 - val_loss: 2.3517 - val_acc: 0.4993\n",
      "Epoch 80/100\n",
      "50000/50000 [==============================] - 17s 348us/step - loss: 0.4568 - acc: 0.8374 - val_loss: 2.4612 - val_acc: 0.5018\n",
      "Epoch 81/100\n",
      "50000/50000 [==============================] - 19s 380us/step - loss: 0.4512 - acc: 0.8378 - val_loss: 2.3904 - val_acc: 0.5039\n",
      "Epoch 82/100\n",
      "50000/50000 [==============================] - 22s 431us/step - loss: 0.4323 - acc: 0.8450 - val_loss: 2.4257 - val_acc: 0.5049\n",
      "Epoch 83/100\n",
      "50000/50000 [==============================] - 18s 357us/step - loss: 0.4540 - acc: 0.8374 - val_loss: 2.3704 - val_acc: 0.5032\n",
      "Epoch 84/100\n",
      "50000/50000 [==============================] - 18s 367us/step - loss: 0.4276 - acc: 0.8475 - val_loss: 2.5206 - val_acc: 0.5057\n",
      "Epoch 85/100\n",
      "50000/50000 [==============================] - 18s 361us/step - loss: 0.4241 - acc: 0.8468 - val_loss: 2.5807 - val_acc: 0.5023\n",
      "Epoch 86/100\n",
      "50000/50000 [==============================] - 18s 361us/step - loss: 0.4260 - acc: 0.8463 - val_loss: 2.6141 - val_acc: 0.4957\n",
      "Epoch 87/100\n",
      "50000/50000 [==============================] - 17s 349us/step - loss: 0.4060 - acc: 0.8553 - val_loss: 2.6385 - val_acc: 0.4943\n",
      "Epoch 88/100\n",
      "50000/50000 [==============================] - 20s 404us/step - loss: 0.4391 - acc: 0.8445 - val_loss: 2.5577 - val_acc: 0.4975\n",
      "Epoch 89/100\n",
      "50000/50000 [==============================] - 20s 396us/step - loss: 0.4164 - acc: 0.8504 - val_loss: 2.5536 - val_acc: 0.5037\n",
      "Epoch 90/100\n",
      "50000/50000 [==============================] - 19s 380us/step - loss: 0.3892 - acc: 0.8598 - val_loss: 2.6823 - val_acc: 0.5001\n",
      "Epoch 91/100\n",
      "50000/50000 [==============================] - 22s 442us/step - loss: 0.3946 - acc: 0.8584 - val_loss: 2.6980 - val_acc: 0.4993\n",
      "Epoch 92/100\n",
      "50000/50000 [==============================] - 26s 515us/step - loss: 0.3870 - acc: 0.8620 - val_loss: 2.6825 - val_acc: 0.4969\n",
      "Epoch 93/100\n",
      "50000/50000 [==============================] - 21s 429us/step - loss: 0.4088 - acc: 0.8518 - val_loss: 2.7360 - val_acc: 0.5018\n",
      "Epoch 94/100\n",
      "50000/50000 [==============================] - 19s 388us/step - loss: 0.4111 - acc: 0.8519 - val_loss: 2.8030 - val_acc: 0.4885\n",
      "Epoch 95/100\n",
      "50000/50000 [==============================] - 18s 362us/step - loss: 0.3860 - acc: 0.8607 - val_loss: 2.7652 - val_acc: 0.4965\n",
      "Epoch 96/100\n",
      "50000/50000 [==============================] - 18s 363us/step - loss: 0.3690 - acc: 0.8693 - val_loss: 2.7957 - val_acc: 0.4985\n",
      "Epoch 97/100\n",
      "50000/50000 [==============================] - 18s 352us/step - loss: 0.3776 - acc: 0.8656 - val_loss: 2.8432 - val_acc: 0.4911\n",
      "Epoch 98/100\n",
      "50000/50000 [==============================] - 18s 354us/step - loss: 0.3651 - acc: 0.8688 - val_loss: 2.9014 - val_acc: 0.4946\n",
      "Epoch 99/100\n",
      "50000/50000 [==============================] - 18s 353us/step - loss: 0.3689 - acc: 0.8676 - val_loss: 2.8123 - val_acc: 0.5023\n",
      "Epoch 100/100\n",
      "50000/50000 [==============================] - 18s 356us/step - loss: 0.3806 - acc: 0.8629 - val_loss: 2.7787 - val_acc: 0.4956\n"
     ]
    },
    {
     "data": {
      "text/plain": [
       "<keras.callbacks.History at 0x108251b00>"
      ]
     },
     "execution_count": 8,
     "metadata": {},
     "output_type": "execute_result"
    }
   ],
   "source": [
    "model.fit(x_train, y_train, \n",
    "          epochs=EPOCHS, \n",
    "          batch_size=BATCH_SIZE, \n",
    "          validation_data=(x_test, y_test), \n",
    "          shuffle=True)"
   ]
  },
  {
   "cell_type": "code",
   "execution_count": 10,
   "metadata": {},
   "outputs": [
    {
     "data": {
      "image/png": "[encoded data removed]",
      "text/plain": [
       "<Figure size 432x288 with 1 Axes>"
      ]
     },
     "metadata": {
      "needs_background": "light"
     },
     "output_type": "display_data"
    },
    {
     "data": {
      "image/png": "[encoded data removed]",
      "text/plain": [
       "<Figure size 432x288 with 1 Axes>"
      ]
     },
     "metadata": {
      "needs_background": "light"
     },
     "output_type": "display_data"
    }
   ],
   "source": [
    "import matplotlib.pyplot as plt\n",
    "\n",
    "\n",
    "train_loss = model.history.history[\"loss\"]\n",
    "valid_loss = model.history.history[\"val_loss\"]\n",
    "\n",
    "train_acc = model.history.history[\"acc\"]\n",
    "valid_acc = model.history.history[\"val_acc\"]\n",
    "\n",
    "plt.plot(range(len(train_loss)), train_loss, label=\"train loss\")\n",
    "plt.plot(range(len(valid_loss)), valid_loss, label=\"valid loss\")\n",
    "plt.legend()\n",
    "plt.title(\"Loss\")\n",
    "plt.show()\n",
    "\n",
    "plt.plot(range(len(train_acc)), train_acc, label=\"train accuracy\")\n",
    "plt.plot(range(len(valid_acc)), valid_acc, label=\"valid accuracy\")\n",
    "plt.legend()\n",
    "plt.title(\"Accuracy\")\n",
    "plt.show()"
   ]
  }
 ],
 "metadata": {
  "kernelspec": {
   "display_name": "Python 3",
   "language": "python",
   "name": "python3"
  },
  "language_info": {
   "codemirror_mode": {
    "name": "ipython",
    "version": 3
   },
   "file_extension": ".py",
   "mimetype": "text/x-python",
   "name": "python",
   "nbconvert_exporter": "python",
   "pygments_lexer": "ipython3",
   "version": "3.7.3"
  }
 },
 "nbformat": 4,
 "nbformat_minor": 2
}
