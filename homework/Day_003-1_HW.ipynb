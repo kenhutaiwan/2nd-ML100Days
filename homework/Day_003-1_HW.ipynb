{
 "cells": [
  {
   "cell_type": "markdown",
   "metadata": {},
   "source": [
    "## 練習時間\n",
    "在小量的資料上，我們用眼睛就可以看得出來程式碼是否有跑出我們理想中的結果\n",
    "\n",
    "請嘗試想像一個你需要的資料結構 (裡面的值可以是隨機的)，然後用上述的方法把它變成 pandas DataFrame\n",
    "\n",
    "#### Ex: 想像一個 dataframe 有兩個欄位，一個是國家，一個是人口，求人口數最多的國家\n",
    "\n",
    "### Hints: [隨機產生數值](https://blog.csdn.net/christianashannon/article/details/78867204)"
   ]
  },
  {
   "cell_type": "code",
   "execution_count": 2,
   "metadata": {},
   "outputs": [],
   "source": [
    "import pandas as pd\n",
    "import numpy as np\n",
    "import pycountry"
   ]
  },
  {
   "cell_type": "code",
   "execution_count": null,
   "metadata": {},
   "outputs": [],
   "source": [
    "data = {'國家': ,\n",
    "        '人口': }\n",
    "data = pd.DataFrame()"
   ]
  },
  {
   "cell_type": "code",
   "execution_count": 33,
   "metadata": {},
   "outputs": [
    {
     "name": "stdout",
     "output_type": "stream",
     "text": [
      "              國家         人口\n",
      "0          Aruba  124274533\n",
      "1    Afghanistan   81397801\n",
      "2         Angola   62255786\n",
      "3       Anguilla   14365992\n",
      "4  Åland Islands    2696476\n",
      "                 人口\n",
      "count  2.490000e+02\n",
      "mean   9.725642e+07\n",
      "std    6.004216e+07\n",
      "min    1.353164e+06\n",
      "25%    4.113007e+07\n",
      "50%    9.986196e+07\n",
      "75%    1.515734e+08\n",
      "max    1.996911e+08\n",
      "人口數最多的國家是 Kazakhstan 人口有 199691091\n"
     ]
    }
   ],
   "source": [
    "country_name_list = [c.name for c in pycountry.countries]\n",
    "population_list = list(np.random.randint(10000, 200000000, len(country_name_list)))\n",
    "data = pd.DataFrame({'國家': country_name_list, '人口': population_list})\n",
    "print(data.head())\n",
    "\n",
    "print(data.describe())\n",
    "\n",
    "# 找人口數最多的國家，可以用pd.Series的idmax取得index\n",
    "row_idx = data['人口'].idxmax()\n",
    "print('人口數最多的國家是' , data.iat[row_idx, 0], '人口有', data.iat[row_idx, 1])"
   ]
  }
 ],
 "metadata": {
  "kernelspec": {
   "display_name": "Python 3",
   "language": "python",
   "name": "python3"
  },
  "language_info": {
   "codemirror_mode": {
    "name": "ipython",
    "version": 3
   },
   "file_extension": ".py",
   "mimetype": "text/x-python",
   "name": "python",
   "nbconvert_exporter": "python",
   "pygments_lexer": "ipython3",
   "version": "3.6.5"
  }
 },
 "nbformat": 4,
 "nbformat_minor": 2
}
