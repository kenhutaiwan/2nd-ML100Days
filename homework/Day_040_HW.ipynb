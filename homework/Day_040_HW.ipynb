{
 "cells": [
  {
   "cell_type": "markdown",
   "metadata": {},
   "source": [
    "## [作業重點]\n",
    "使用 Sklearn 中的 Lasso, Ridge 模型，來訓練各種資料集，務必了解送進去模型訓練的**資料型態**為何，也請了解模型中各項參數的意義。\n",
    "\n",
    "機器學習的模型非常多種，但要訓練的資料多半有固定的格式，確保你了解訓練資料的格式為何，這樣在應用新模型時，就能夠最快的上手開始訓練！"
   ]
  },
  {
   "cell_type": "markdown",
   "metadata": {},
   "source": [
    "## 練習時間\n",
    "試著使用 sklearn datasets 的其他資料集 (boston, ...)，來訓練自己的線性迴歸模型，並加上適當的正則話來觀察訓練情形。"
   ]
  },
  {
   "cell_type": "code",
   "execution_count": 51,
   "metadata": {},
   "outputs": [],
   "source": [
    "from sklearn import datasets, linear_model\n",
    "import pandas as pd\n",
    "from sklearn.model_selection import train_test_split, GridSearchCV\n",
    "from sklearn.metrics import mean_squared_error, make_scorer"
   ]
  },
  {
   "cell_type": "code",
   "execution_count": 43,
   "metadata": {},
   "outputs": [],
   "source": [
    "boston = datasets.load_boston()\n",
    "X = boston['data']\n",
    "y = boston['target']\n",
    "feature_names = boston['feature_names']\n",
    "X_train, X_test, y_train, y_test = train_test_split(X, y, test_size=0.2, random_state=42)\n",
    "\n",
    "parameters = {'alpha' : [1.0, 0.1, 0.01, 0.001]}\n"
   ]
  },
  {
   "cell_type": "code",
   "execution_count": 37,
   "metadata": {},
   "outputs": [
    {
     "name": "stdout",
     "output_type": "stream",
     "text": [
      "Mean squared error: 24.31\n"
     ]
    }
   ],
   "source": [
    "# 線性迴歸\n",
    "regression = linear_model.LinearRegression()\n",
    "regression.fit(X_train, y_train)\n",
    "\n",
    "# 進行預測\n",
    "y_pred = regression.predict(X_test)\n",
    "print(\"Mean squared error: %.2f\" % mean_squared_error(y_test, y_pred))"
   ]
  },
  {
   "cell_type": "code",
   "execution_count": 58,
   "metadata": {},
   "outputs": [
    {
     "name": "stdout",
     "output_type": "stream",
     "text": [
      "{'alpha': 0.001} -23.6543125142037\n",
      "Mean squared error: 24.31\n"
     ]
    }
   ],
   "source": [
    "# Lasso, 把mean_squared_error轉成愈小愈好的評分器(scorer)\n",
    "regression = GridSearchCV(linear_model.Lasso(), parameters, cv=5, scoring = make_scorer(mean_squared_error, greater_is_better=False))\n",
    "regression.fit(X_train, y_train)\n",
    "print(regression.best_params_, regression.best_score_)\n",
    "\n",
    "# 進行預測\n",
    "y_pred = regression.predict(X_test)\n",
    "print(\"Mean squared error: %.2f\" % mean_squared_error(y_test, y_pred))"
   ]
  },
  {
   "cell_type": "code",
   "execution_count": 59,
   "metadata": {},
   "outputs": [
    {
     "name": "stdout",
     "output_type": "stream",
     "text": [
      "{'alpha': 0.001} -23.65071934286278\n",
      "Mean squared error: 24.31\n"
     ]
    }
   ],
   "source": [
    "# Ridge, 把mean_squared_error轉成愈小愈好的評分器(scorer)\n",
    "regression = GridSearchCV(linear_model.Ridge(), parameters, cv=5,scoring = make_scorer(mean_squared_error, greater_is_better=False))\n",
    "regression.fit(X_train, y_train)\n",
    "print(regression.best_params_, regression.best_score_)\n",
    "\n",
    "# 進行預測\n",
    "y_pred = regression.predict(X_test)\n",
    "print(\"Mean squared error: %.2f\" % mean_squared_error(y_test, y_pred))"
   ]
  }
 ],
 "metadata": {
  "kernelspec": {
   "display_name": "Python 3",
   "language": "python",
   "name": "python3"
  },
  "language_info": {
   "codemirror_mode": {
    "name": "ipython",
    "version": 3
   },
   "file_extension": ".py",
   "mimetype": "text/x-python",
   "name": "python",
   "nbconvert_exporter": "python",
   "pygments_lexer": "ipython3",
   "version": "3.7.1"
  }
 },
 "nbformat": 4,
 "nbformat_minor": 2
}
