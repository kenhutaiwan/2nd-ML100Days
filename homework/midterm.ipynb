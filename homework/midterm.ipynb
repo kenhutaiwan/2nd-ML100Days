{
 "cells": [
  {
   "cell_type": "markdown",
   "metadata": {},
   "source": [
    "### 機器學習百日馬拉松期中練習測驗\n",
    "\n",
    "- 本賽題提供用戶在2016年1月1日至2016年5月31日之間真實線下消費行為，預測用戶在2016年6月領取優惠券後15天以內的使用情況。 \n",
    "- [練習競賽網頁](https://www.kaggle.com/t/2eaf9a8ed13847cd9c26f05b2abfe966)\n",
    "- [baseline kernel參考](https://www.kaggle.com/ml100marathon/baseline-example)\n"
   ]
  },
  {
   "cell_type": "code",
   "execution_count": 1,
   "metadata": {},
   "outputs": [],
   "source": [
    "import numpy as np\n",
    "import pandas as pd\n",
    "import dateutil.parser as date_parser\n",
    "from sklearn.linear_model import LogisticRegression, SGDClassifier\n",
    "from sklearn.model_selection import train_test_split\n",
    "from pandas.api.types import is_numeric_dtype\n",
    "from sklearn.metrics import accuracy_score, roc_auc_score\n",
    "from sklearn.preprocessing import StandardScaler\n",
    "from datetime import datetime\n",
    "import warnings\n",
    "\n",
    "warnings.filterwarnings('ignore')"
   ]
  },
  {
   "cell_type": "code",
   "execution_count": 2,
   "metadata": {},
   "outputs": [
    {
     "name": "stdout",
     "output_type": "stream",
     "text": [
      "User_id                       \t用戶 ID                                             \n",
      "Merchant_id                   \t商家 ID                                             \n",
      "Coupon_id                     \t優惠券 ID (null 代表無優惠券消費)                            \n",
      "Discount_rate                 \t優惠券折價：[0,1] 代表折扣率；x:y 代表滿 x 減 y 元                 \n",
      "Distance                      \t用戶經常活動地點離商家最近距離 (x * 500 公尺), 0 表示低於 500 公尺, 10 表示大於 5 公里。\n",
      "Date_received                 \t優惠券取得時間                                           \n",
      "Date                          \t購買商品時間 (如果 Date is null & Coupon_id is not null, 則該紀錄為有優惠券但未使用; 若為 Date is not null & Coupon_id is null, 則為普通消費日期; 若 Date is not null & Coupon_id is not null, 則表示優惠券消費日期)\n"
     ]
    }
   ],
   "source": [
    "# 檢視資料欄位描述\n",
    "column_desc_df = pd.read_csv('data/midterm/column_description.csv', encoding = 'big5')\n",
    "for i in column_desc_df.index:\n",
    "    print('{:<30}\\t{:<50}'.format(column_desc_df.ix[i][0], column_desc_df.ix[i][1]))"
   ]
  },
  {
   "cell_type": "code",
   "execution_count": 3,
   "metadata": {},
   "outputs": [
    {
     "name": "stdout",
     "output_type": "stream",
     "text": [
      "(1160742, 7)\n",
      "User_id            int64\n",
      "Merchant_id        int64\n",
      "Coupon_id        float64\n",
      "Discount_rate     object\n",
      "Distance         float64\n",
      "Date_received    float64\n",
      "Date             float64\n",
      "dtype: object\n"
     ]
    },
    {
     "data": {
      "text/html": [
       "<div>\n",
       "<style scoped>\n",
       "    .dataframe tbody tr th:only-of-type {\n",
       "        vertical-align: middle;\n",
       "    }\n",
       "\n",
       "    .dataframe tbody tr th {\n",
       "        vertical-align: top;\n",
       "    }\n",
       "\n",
       "    .dataframe thead th {\n",
       "        text-align: right;\n",
       "    }\n",
       "</style>\n",
       "<table border=\"1\" class=\"dataframe\">\n",
       "  <thead>\n",
       "    <tr style=\"text-align: right;\">\n",
       "      <th></th>\n",
       "      <th>User_id</th>\n",
       "      <th>Merchant_id</th>\n",
       "      <th>Coupon_id</th>\n",
       "      <th>Discount_rate</th>\n",
       "      <th>Distance</th>\n",
       "      <th>Date_received</th>\n",
       "      <th>Date</th>\n",
       "    </tr>\n",
       "  </thead>\n",
       "  <tbody>\n",
       "    <tr>\n",
       "      <th>164623</th>\n",
       "      <td>1752446</td>\n",
       "      <td>5341</td>\n",
       "      <td>7751.0</td>\n",
       "      <td>50:10</td>\n",
       "      <td>0.0</td>\n",
       "      <td>20160204.0</td>\n",
       "      <td>NaN</td>\n",
       "    </tr>\n",
       "    <tr>\n",
       "      <th>645058</th>\n",
       "      <td>3831313</td>\n",
       "      <td>1379</td>\n",
       "      <td>NaN</td>\n",
       "      <td>NaN</td>\n",
       "      <td>0.0</td>\n",
       "      <td>NaN</td>\n",
       "      <td>20160322.0</td>\n",
       "    </tr>\n",
       "    <tr>\n",
       "      <th>65175</th>\n",
       "      <td>198496</td>\n",
       "      <td>2146</td>\n",
       "      <td>11173.0</td>\n",
       "      <td>100:10</td>\n",
       "      <td>2.0</td>\n",
       "      <td>20160131.0</td>\n",
       "      <td>NaN</td>\n",
       "    </tr>\n",
       "    <tr>\n",
       "      <th>667859</th>\n",
       "      <td>2601097</td>\n",
       "      <td>5717</td>\n",
       "      <td>12349.0</td>\n",
       "      <td>20:5</td>\n",
       "      <td>7.0</td>\n",
       "      <td>20160124.0</td>\n",
       "      <td>NaN</td>\n",
       "    </tr>\n",
       "    <tr>\n",
       "      <th>517846</th>\n",
       "      <td>1964884</td>\n",
       "      <td>1569</td>\n",
       "      <td>5054.0</td>\n",
       "      <td>200:30</td>\n",
       "      <td>10.0</td>\n",
       "      <td>20160429.0</td>\n",
       "      <td>NaN</td>\n",
       "    </tr>\n",
       "    <tr>\n",
       "      <th>800051</th>\n",
       "      <td>532073</td>\n",
       "      <td>1469</td>\n",
       "      <td>NaN</td>\n",
       "      <td>NaN</td>\n",
       "      <td>0.0</td>\n",
       "      <td>NaN</td>\n",
       "      <td>20160127.0</td>\n",
       "    </tr>\n",
       "    <tr>\n",
       "      <th>209370</th>\n",
       "      <td>7142930</td>\n",
       "      <td>7555</td>\n",
       "      <td>5582.0</td>\n",
       "      <td>30:5</td>\n",
       "      <td>NaN</td>\n",
       "      <td>20160121.0</td>\n",
       "      <td>NaN</td>\n",
       "    </tr>\n",
       "    <tr>\n",
       "      <th>93163</th>\n",
       "      <td>4052552</td>\n",
       "      <td>6485</td>\n",
       "      <td>10323.0</td>\n",
       "      <td>20:5</td>\n",
       "      <td>0.0</td>\n",
       "      <td>20160326.0</td>\n",
       "      <td>NaN</td>\n",
       "    </tr>\n",
       "    <tr>\n",
       "      <th>213101</th>\n",
       "      <td>2399517</td>\n",
       "      <td>3381</td>\n",
       "      <td>7610.0</td>\n",
       "      <td>200:20</td>\n",
       "      <td>0.0</td>\n",
       "      <td>20160415.0</td>\n",
       "      <td>NaN</td>\n",
       "    </tr>\n",
       "    <tr>\n",
       "      <th>1051014</th>\n",
       "      <td>2893931</td>\n",
       "      <td>2046</td>\n",
       "      <td>3200.0</td>\n",
       "      <td>100:10</td>\n",
       "      <td>3.0</td>\n",
       "      <td>20160204.0</td>\n",
       "      <td>NaN</td>\n",
       "    </tr>\n",
       "  </tbody>\n",
       "</table>\n",
       "</div>"
      ],
      "text/plain": [
       "         User_id  Merchant_id  Coupon_id Discount_rate  Distance  \\\n",
       "164623   1752446         5341     7751.0         50:10       0.0   \n",
       "645058   3831313         1379        NaN           NaN       0.0   \n",
       "65175     198496         2146    11173.0        100:10       2.0   \n",
       "667859   2601097         5717    12349.0          20:5       7.0   \n",
       "517846   1964884         1569     5054.0        200:30      10.0   \n",
       "800051    532073         1469        NaN           NaN       0.0   \n",
       "209370   7142930         7555     5582.0          30:5       NaN   \n",
       "93163    4052552         6485    10323.0          20:5       0.0   \n",
       "213101   2399517         3381     7610.0        200:20       0.0   \n",
       "1051014  2893931         2046     3200.0        100:10       3.0   \n",
       "\n",
       "         Date_received        Date  \n",
       "164623      20160204.0         NaN  \n",
       "645058             NaN  20160322.0  \n",
       "65175       20160131.0         NaN  \n",
       "667859      20160124.0         NaN  \n",
       "517846      20160429.0         NaN  \n",
       "800051             NaN  20160127.0  \n",
       "209370      20160121.0         NaN  \n",
       "93163       20160326.0         NaN  \n",
       "213101      20160415.0         NaN  \n",
       "1051014     20160204.0         NaN  "
      ]
     },
     "execution_count": 3,
     "metadata": {},
     "output_type": "execute_result"
    }
   ],
   "source": [
    "# 檢視訓練資料\n",
    "train_df = pd.read_csv('data/midterm/train_offline.csv', encoding = 'big5')\n",
    "print(train_df.shape)\n",
    "print(train_df.dtypes)\n",
    "train_df.sample(n = 10)"
   ]
  },
  {
   "cell_type": "code",
   "execution_count": 4,
   "metadata": {},
   "outputs": [
    {
     "name": "stdout",
     "output_type": "stream",
     "text": [
      "Column                   \t      isNa\n",
      "--------------------------------------------------\n",
      "User_id                  \t         0\n",
      "Merchant_id              \t         0\n",
      "Coupon_id                \t         1\n",
      "Discount_rate            \t         1\n",
      "Distance                 \t         1\n",
      "Date_received            \t         1\n",
      "Date                     \t         1\n"
     ]
    }
   ],
   "source": [
    "# 缺失值偵測\n",
    "\n",
    "print('{:<25}\\t{:>10}'.format('Column','isNa'))\n",
    "print('-'*50)\n",
    "for c in train_df.columns:\n",
    "    print('{:<25}\\t{:>10}'.format(c, np.unique(train_df[c].isna()).size > 1))"
   ]
  },
  {
   "cell_type": "code",
   "execution_count": 5,
   "metadata": {},
   "outputs": [],
   "source": [
    "# 缺失值處理\n",
    "# Coupon_id, Date_received, Date 缺失者不處理\n",
    "# Discount_rate 缺失者補上1.0\n",
    "# Distance 缺失者補上眾數\n",
    "train_df['Discount_rate'].fillna(1.0, inplace=True)\n",
    "train_df['Distance'].fillna(train_df['Distance'].mean(), inplace=True)"
   ]
  },
  {
   "cell_type": "code",
   "execution_count": 6,
   "metadata": {},
   "outputs": [
    {
     "data": {
      "text/plain": [
       "<matplotlib.axes._subplots.AxesSubplot at 0x11f4283c8>"
      ]
     },
     "execution_count": 6,
     "metadata": {},
     "output_type": "execute_result"
    }
   ],
   "source": [
    "# 各月份使用優惠券消費的次數 (月份0者，代表無使用優惠券消費)\n",
    "train_df['coupon_shoping_month'] = train_df[(np.isnan(train_df['Date']) == False) & (np.isnan(train_df['Coupon_id']) == False)]['Date'].apply(lambda d : int(str(int(d))[4:6]))\n",
    "train_df['coupon_shoping_month'].fillna(0, inplace = True)\n",
    "train_df['coupon_shoping_month'] = train_df['coupon_shoping_month'].astype('int')\n",
    "train_df[train_df['coupon_shoping_month'] >0]['coupon_shoping_month'].plot.hist(bins=5)"
   ]
  },
  {
   "cell_type": "code",
   "execution_count": 15,
   "metadata": {},
   "outputs": [
    {
     "data": {
      "text/plain": [
       "<matplotlib.axes._subplots.AxesSubplot at 0x11ead2780>"
      ]
     },
     "execution_count": 15,
     "metadata": {},
     "output_type": "execute_result"
    },
    {
     "data": {
      "image/png": "[encoded data removed]",
      "text/plain": [
       "<Figure size 432x288 with 1 Axes>"
      ]
     },
     "metadata": {
      "needs_background": "light"
     },
     "output_type": "display_data"
    }
   ],
   "source": [
    "# 優惠券取得日期屬於星期幾(1 Monday - 7 Sunday)\n",
    "\n",
    "# 用pd.to_datetime, 在macbook上要跑2分鐘\n",
    "# train_df['Date_received_day_of_week'] = train_df[~np.isnan(train_df['Date_received'])]['Date_received'].apply(lambda d : pd.to_datetime(str(int(d)), format=\"%Y%m%d\").weekday() + 1)\n",
    "# 用dateutil.parser快多了！ 在macbook上不到5秒\n",
    "def compute_received_day_of_week(df: pd.DataFrame):\n",
    "    s = df[~np.isnan(df['Date_received'])]['Date_received'].apply(lambda d : date_parser.isoparse(str(int(d))).date().weekday() + 1)\n",
    "    df['Date_received_day_of_week'] = s\n",
    "    df['Date_received_day_of_week'].fillna(0, inplace = True)\n",
    "    df['Date_received_day_of_week'] = df['Date_received_day_of_week'].astype(int)\n",
    "    # 把優惠券取得日期星期幾換成dummy variable\n",
    "    weekday_df = pd.get_dummies(df['Date_received_day_of_week'], 'Weekday')\n",
    "    return pd.concat([df, weekday_df], axis=1)\n",
    "\n",
    "train_df = compute_received_day_of_week(train_df)\n",
    "train_df[train_df['Date_received_day_of_week'] > 0]['Date_received_day_of_week'].plot.hist(bins=range(1, 9))"
   ]
  },
  {
   "cell_type": "code",
   "execution_count": 8,
   "metadata": {},
   "outputs": [],
   "source": [
    "# 把優惠券取得日期星期幾換成dummy variable\n",
    "weekday_df = pd.get_dummies(train_df['Date_received_day_of_week'], 'Weekday')"
   ]
  },
  {
   "cell_type": "code",
   "execution_count": 9,
   "metadata": {},
   "outputs": [
    {
     "data": {
      "text/plain": [
       "<matplotlib.axes._subplots.AxesSubplot at 0x10cd619b0>"
      ]
     },
     "execution_count": 9,
     "metadata": {},
     "output_type": "execute_result"
    },
    {
     "data": {
      "image/png": "[encoded data removed]",
      "text/plain": [
       "<Figure size 432x288 with 1 Axes>"
      ]
     },
     "metadata": {
      "needs_background": "light"
     },
     "output_type": "display_data"
    }
   ],
   "source": [
    "# 折扣率，原Discount_rate可能是小數(0.9)或比例(100:10 滿100減10,其實也等於九折)\n",
    "def cnvt_discount_rate(rate_obj):\n",
    "    rate_str = str(rate_obj)\n",
    "    if rate_str == 'nan':\n",
    "        return 1\n",
    "    elif ':' in rate_str:\n",
    "        _s = rate_str.split(':')\n",
    "        return 1.0 - float(_s[1])/float(_s[0])\n",
    "    else:\n",
    "        return float(rate_str)\n",
    "\n",
    "train_df['cnvt_discount_rate'] = train_df['Discount_rate'].apply(cnvt_discount_rate)\n",
    "train_df['cnvt_discount_rate'].plot.hist()"
   ]
  },
  {
   "cell_type": "code",
   "execution_count": 10,
   "metadata": {},
   "outputs": [
    {
     "name": "stdout",
     "output_type": "stream",
     "text": [
      "label -1 :     413773\n",
      "label  0 :     710665\n",
      "label  1 :      36304\n"
     ]
    }
   ],
   "source": [
    "# 產生label\n",
    "# 我們要學習的是：拿到優惠券的人，會不會在15天內使用，所以還要考慮Date與Date_received的差距\n",
    "# 在所有資料中，只保留有拿優惠券者進行學習 （捨棄label = -1者）\n",
    "#\n",
    "# Date 購買商品時間\n",
    "#   Date is null & Coupon_id is not null, 則該紀錄為有優惠券但未使用; label=0\n",
    "#   Date is null & Coupon_id is null, 則該紀錄為沒有優惠券也沒有使用;  label=-1\n",
    "#   Date is not null & Coupon_id is null, 則為普通消費日期;      label=-1\n",
    "#   Date is not null & Coupon_id is not null, 則表示優惠券消費日期\n",
    "#        Date - Date_received <= 15 , label=1\n",
    "#                             else  , label=0\n",
    "\n",
    "def compute_date_diff(date: str, date_received: str):\n",
    "    return (date_parser.isoparse(date) - date_parser.isoparse(date_received)).days\n",
    "\n",
    "def compute_label(row):\n",
    "    if (np.isnan(row['Date'])) & (~np.isnan(row['Coupon_id'])):\n",
    "        return 0\n",
    "    elif (~np.isnan(row['Date'])) & (~np.isnan(row['Coupon_id'])):\n",
    "        if compute_date_diff(str(int(row['Date'])), str(int(row['Date_received']))) <= 15:\n",
    "            return 1\n",
    "        else:\n",
    "            return 0\n",
    "    else:\n",
    "        return -1\n",
    "                                     \n",
    "train_df['label'] = train_df.apply(compute_label, axis=1)\n",
    "train_df['label'] = train_df['label'].astype(int)\n",
    "print('label -1 : {:>10}\\nlabel  0 : {:>10}\\nlabel  1 : {:>10}'. format(\n",
    "      train_df[train_df['label'] == -1].shape[0], \n",
    "      train_df[train_df['label'] == 0].shape[0], \n",
    "      train_df[train_df['label'] == 1].shape[0])\n",
    ")\n",
    "      "
   ]
  },
  {
   "cell_type": "code",
   "execution_count": 11,
   "metadata": {},
   "outputs": [],
   "source": [
    "# 整理特徵及訓練樣本，只取label = 0或1者\n",
    "\n",
    "weekday_features = ['Weekday_' + str(i) for i in range(1,8)]\n",
    "features = ['cnvt_discount_rate','Distance']\n",
    "features.extend(weekday_features)\n",
    "\n",
    "train_X = train_df[train_df['label'] >= 0][features].copy()\n",
    "train_y = train_df[train_df['label'] >= 0]['label'].copy()\n",
    "\n",
    "scaler = StandardScaler()\n",
    "train_X = scaler.fit_transform(train_X)\n",
    "\n",
    "train_train_X, test_train_X, train_train_y, test_train_y = train_test_split(train_X, train_y, test_size=0.2, random_state = 42)\n"
   ]
  },
  {
   "cell_type": "code",
   "execution_count": 12,
   "metadata": {},
   "outputs": [
    {
     "name": "stdout",
     "output_type": "stream",
     "text": [
      "AUC 0.7468485273502163\n",
      "Accuracy 0.951872230477797\n"
     ]
    }
   ],
   "source": [
    "# logistic regression\n",
    "clf = SGDClassifier(loss='log')\n",
    "clf.fit(train_train_X, train_train_y)\n",
    "test_train_y_pred = clf.predict_proba(test_train_X)\n",
    "print('AUC', roc_auc_score(test_train_y, test_train_y_pred[:, 1]))\n",
    "print('Accuracy', accuracy_score(test_train_y, np.argmax(test_train_y_pred, axis=1)))"
   ]
  },
  {
   "cell_type": "markdown",
   "metadata": {},
   "source": [
    "### 處理與預測測試資料\n",
    "\n",
    "- 處理方式比對上述訓練資料\n",
    "- 填補缺失值\n",
    "- 轉換待徵\n",
    "- 產生測試樣本\n",
    "- 預期提交預測數是 304096\n",
    "- 提交時發現驗證失敗，才知道原來User_id + Date_received + Coupon_id會重複\n",
    "- 用df.drop_duplicate()解決上述問題，再次submit時又報錯：\n",
    "```\n",
    "ERROR: Unable to find 304096 required key values in the 'uid' column\n",
    "ERROR: Unable to find the required key value '1000020_2705_20160519' in the 'uid' column\n",
    "ERROR: Unable to find the required key value '1000020_8192_20160513' in the 'uid' column\n",
    "ERROR: Unable to find the required key value '1000065_1455_20160527' in the 'uid' column\n",
    "ERROR: Unable to find the required key value '1000085_8067_20160513' in the 'uid' column\n",
    "ERROR: Unable to find the required key value '1000086_2418_20160613' in the 'uid' column\n",
    "ERROR: Unable to find the required key value '1000140_8192_20160526' in the 'uid' column\n",
    "ERROR: Unable to find the required key value '1000169_2418_20160606' in the 'uid' column\n",
    "ERROR: Unable to find the required key value '1000297_13704_20160520' in the 'uid' column\n",
    "ERROR: Unable to find the required key value '1000324_13165_20160526' in the 'uid' column\n",
    "```"
   ]
  },
  {
   "cell_type": "code",
   "execution_count": 26,
   "metadata": {},
   "outputs": [
    {
     "name": "stdout",
     "output_type": "stream",
     "text": [
      "(306313, 6)\n",
      "(306313, 14)\n",
      "(304096, 2)\n"
     ]
    }
   ],
   "source": [
    "# 載入測試資料\n",
    "test_df = pd.read_csv('data/midterm/test_offline.csv')\n",
    "\n",
    "# 去掉沒有Coupon_id者\n",
    "test_df = test_df[~test_df.Coupon_id.isna()]\n",
    "test_df.reset_index(drop=True, inplace=True)\n",
    "print(test_df.shape)\n",
    "\n",
    "# 轉換待徵:\n",
    "#     優惠券取得日期屬於星期幾\n",
    "test_df = compute_received_day_of_week(test_df)\n",
    "print(test_df.shape)\n",
    "\n",
    "# 填補缺失值\n",
    "test_df['User_id'].fillna(0, inplace = True)\n",
    "test_df['Merchant_id'].fillna(0, inplace = True)\n",
    "test_df['Discount_rate'].fillna(1.0, inplace=True)\n",
    "test_df['Distance'].fillna(test_df['Distance'].mean(), inplace=True)\n",
    "test_df['Date_received'].fillna(0, inplace=True)\n",
    "\n",
    "# 加上uid, 將 User_id - Date_received - Coupon_id 為一組計\n",
    "test_df['uid'] = test_df.apply(lambda row : '{}_{}_{}'.format(int(row['User_id']), int(row['Coupon_id']), int(row['Date_received'])), axis=1)\n",
    "\n",
    "# 折扣率\n",
    "test_df['cnvt_discount_rate'] = test_df['Discount_rate'].apply(cnvt_discount_rate)\n",
    "\n",
    "# 產生測試樣本\n",
    "test_X = test_df[features].copy()\n",
    "scaler = StandardScaler()\n",
    "test_X = scaler.fit_transform(test_X)\n",
    "\n",
    "# 進行預測\n",
    "test_y_pred = clf.predict_proba(test_X)\n",
    "submit_df = pd.DataFrame({'uid': test_df['uid'], 'label': test_y_pred[:, 1]})\n",
    "\n",
    "# DataFrame.drop_duplicates(subset=None, keep='first', inplace=False)[source]\n",
    "submit_df.drop_duplicates(subset='uid', keep='last', inplace = True)\n",
    "print(submit_df.shape)\n",
    "submit_df.to_csv('data/midterm/submit_{}.csv'.format(int(datetime.now().timestamp())), index = False)"
   ]
  }
 ],
 "metadata": {
  "kernelspec": {
   "display_name": "Python 3",
   "language": "python",
   "name": "python3"
  },
  "language_info": {
   "codemirror_mode": {
    "name": "ipython",
    "version": 3
   },
   "file_extension": ".py",
   "mimetype": "text/x-python",
   "name": "python",
   "nbconvert_exporter": "python",
   "pygments_lexer": "ipython3",
   "version": "3.7.3"
  }
 },
 "nbformat": 4,
 "nbformat_minor": 2
}
