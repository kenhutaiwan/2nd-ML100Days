{
 "cells": [
  {
   "cell_type": "markdown",
   "metadata": {},
   "source": [
    "### 機器學習百日馬拉松期中練習測驗\n",
    "\n",
    "- 本賽題提供用戶在2016年1月1日至2016年5月31日之間真實線下消費行為，預測用戶在2016年6月領取優惠券後15天以內的使用情況。 \n",
    "- [練習競賽網頁](https://www.kaggle.com/t/2eaf9a8ed13847cd9c26f05b2abfe966)\n",
    "- [baseline kernel參考](https://www.kaggle.com/ml100marathon/baseline-example)\n",
    "\n",
    "### History\n",
    "- 2019-06-13 18:00 第一次提交：public score 0.57003，rank 136\n",
    "- 2019-06-13 23:00 第二次提交：public score 0.60143，rank 86。把distance的補缺方式從一律填入眾數，改成以是否有購買商品時間分成兩組，各組的distance缺失值填入該組的distance平均值\n",
    "- 2019-06-13       第四、五次提交。LRC + 把Merchant_id換算成各個Merchant_id出現的次數做為特徵，但並沒有變得比較好。\n",
    "- 2019-06-13 15:12 第六次提交。RFC + 上述Merchant_id_cound，居然更爛，只有0.4333\n",
    "- 2019-06-13 20:40 第七次提交。調整訓練與驗證資料集中,label 0與1的比例(原20:1, 改4:1),0.5905 好不到哪去\n",
    "- 2019-06-13 20:52 第八次提交。承(七),改用GBM, 0.6551, rank 71\n",
    "- 2019-06-13 21:00 第九次提交。承(八),但把訓練與驗證資料集中,label 0與1的比例從4:1改成1:1。0.66194, rank 61\n",
    "- 2019-06-13 21:50 第十次提交。承(九),再加上一個新特徵discount_threshold。0.66944, rank 56"
   ]
  },
  {
   "cell_type": "code",
   "execution_count": 1,
   "metadata": {},
   "outputs": [],
   "source": [
    "import numpy as np\n",
    "import pandas as pd\n",
    "import dateutil.parser as date_parser\n",
    "from sklearn.linear_model import LogisticRegression, SGDClassifier\n",
    "from sklearn.model_selection import train_test_split, GridSearchCV, cross_val_score\n",
    "from pandas.api.types import is_numeric_dtype\n",
    "from sklearn.metrics import accuracy_score, roc_auc_score\n",
    "from sklearn.preprocessing import StandardScaler\n",
    "from datetime import datetime\n",
    "from sklearn.ensemble import RandomForestClassifier, GradientBoostingClassifier, VotingClassifier\n",
    "import seaborn as sns\n",
    "import matplotlib.pyplot as plt\n",
    "import warnings\n",
    "\n",
    "warnings.filterwarnings('ignore')"
   ]
  },
  {
   "cell_type": "markdown",
   "metadata": {},
   "source": [
    "### 檢視資料"
   ]
  },
  {
   "cell_type": "code",
   "execution_count": 2,
   "metadata": {},
   "outputs": [
    {
     "name": "stdout",
     "output_type": "stream",
     "text": [
      "User_id                       \t用戶 ID                                             \n",
      "Merchant_id                   \t商家 ID                                             \n",
      "Coupon_id                     \t優惠券 ID (null 代表無優惠券消費)                            \n",
      "Discount_rate                 \t優惠券折價：[0,1] 代表折扣率；x:y 代表滿 x 減 y 元                 \n",
      "Distance                      \t用戶經常活動地點離商家最近距離 (x * 500 公尺), 0 表示低於 500 公尺, 10 表示大於 5 公里。\n",
      "Date_received                 \t優惠券取得時間                                           \n",
      "Date                          \t購買商品時間 (如果 Date is null & Coupon_id is not null, 則該紀錄為有優惠券但未使用; 若為 Date is not null & Coupon_id is null, 則為普通消費日期; 若 Date is not null & Coupon_id is not null, 則表示優惠券消費日期)\n"
     ]
    }
   ],
   "source": [
    "# 檢視資料欄位描述\n",
    "\n",
    "column_desc_df = pd.read_csv('data/midterm/column_description.csv', encoding = 'big5')\n",
    "for i in column_desc_df.index:\n",
    "    print('{:<30}\\t{:<50}'.format(column_desc_df.ix[i][0], column_desc_df.ix[i][1]))"
   ]
  },
  {
   "cell_type": "code",
   "execution_count": 3,
   "metadata": {},
   "outputs": [
    {
     "name": "stdout",
     "output_type": "stream",
     "text": [
      "(1160742, 7)\n",
      "User_id            int64\n",
      "Merchant_id        int64\n",
      "Coupon_id        float64\n",
      "Discount_rate     object\n",
      "Distance         float64\n",
      "Date_received    float64\n",
      "Date             float64\n",
      "dtype: object\n"
     ]
    },
    {
     "data": {
      "text/html": [
       "<div>\n",
       "<style scoped>\n",
       "    .dataframe tbody tr th:only-of-type {\n",
       "        vertical-align: middle;\n",
       "    }\n",
       "\n",
       "    .dataframe tbody tr th {\n",
       "        vertical-align: top;\n",
       "    }\n",
       "\n",
       "    .dataframe thead th {\n",
       "        text-align: right;\n",
       "    }\n",
       "</style>\n",
       "<table border=\"1\" class=\"dataframe\">\n",
       "  <thead>\n",
       "    <tr style=\"text-align: right;\">\n",
       "      <th></th>\n",
       "      <th>User_id</th>\n",
       "      <th>Merchant_id</th>\n",
       "      <th>Coupon_id</th>\n",
       "      <th>Discount_rate</th>\n",
       "      <th>Distance</th>\n",
       "      <th>Date_received</th>\n",
       "      <th>Date</th>\n",
       "    </tr>\n",
       "  </thead>\n",
       "  <tbody>\n",
       "    <tr>\n",
       "      <th>288543</th>\n",
       "      <td>4742486</td>\n",
       "      <td>3381</td>\n",
       "      <td>11951.0</td>\n",
       "      <td>200:20</td>\n",
       "      <td>0.0</td>\n",
       "      <td>20160128.0</td>\n",
       "      <td>NaN</td>\n",
       "    </tr>\n",
       "    <tr>\n",
       "      <th>4451</th>\n",
       "      <td>1813430</td>\n",
       "      <td>2709</td>\n",
       "      <td>2840.0</td>\n",
       "      <td>100:10</td>\n",
       "      <td>10.0</td>\n",
       "      <td>20160126.0</td>\n",
       "      <td>NaN</td>\n",
       "    </tr>\n",
       "    <tr>\n",
       "      <th>392039</th>\n",
       "      <td>623068</td>\n",
       "      <td>3710</td>\n",
       "      <td>13056.0</td>\n",
       "      <td>150:10</td>\n",
       "      <td>4.0</td>\n",
       "      <td>20160207.0</td>\n",
       "      <td>NaN</td>\n",
       "    </tr>\n",
       "    <tr>\n",
       "      <th>747622</th>\n",
       "      <td>6058564</td>\n",
       "      <td>1379</td>\n",
       "      <td>NaN</td>\n",
       "      <td>NaN</td>\n",
       "      <td>1.0</td>\n",
       "      <td>NaN</td>\n",
       "      <td>20160419.0</td>\n",
       "    </tr>\n",
       "    <tr>\n",
       "      <th>52670</th>\n",
       "      <td>2011634</td>\n",
       "      <td>5341</td>\n",
       "      <td>11539.0</td>\n",
       "      <td>30:5</td>\n",
       "      <td>0.0</td>\n",
       "      <td>20160205.0</td>\n",
       "      <td>20160205.0</td>\n",
       "    </tr>\n",
       "    <tr>\n",
       "      <th>206095</th>\n",
       "      <td>6199769</td>\n",
       "      <td>2146</td>\n",
       "      <td>NaN</td>\n",
       "      <td>NaN</td>\n",
       "      <td>0.0</td>\n",
       "      <td>NaN</td>\n",
       "      <td>20160128.0</td>\n",
       "    </tr>\n",
       "    <tr>\n",
       "      <th>172179</th>\n",
       "      <td>5222033</td>\n",
       "      <td>7555</td>\n",
       "      <td>17.0</td>\n",
       "      <td>30:5</td>\n",
       "      <td>10.0</td>\n",
       "      <td>20160125.0</td>\n",
       "      <td>NaN</td>\n",
       "    </tr>\n",
       "    <tr>\n",
       "      <th>336072</th>\n",
       "      <td>5881087</td>\n",
       "      <td>4660</td>\n",
       "      <td>1480.0</td>\n",
       "      <td>100:10</td>\n",
       "      <td>10.0</td>\n",
       "      <td>20160123.0</td>\n",
       "      <td>NaN</td>\n",
       "    </tr>\n",
       "    <tr>\n",
       "      <th>285408</th>\n",
       "      <td>4206902</td>\n",
       "      <td>209</td>\n",
       "      <td>12368.0</td>\n",
       "      <td>100:10</td>\n",
       "      <td>5.0</td>\n",
       "      <td>20160125.0</td>\n",
       "      <td>NaN</td>\n",
       "    </tr>\n",
       "    <tr>\n",
       "      <th>222940</th>\n",
       "      <td>2508627</td>\n",
       "      <td>2934</td>\n",
       "      <td>5686.0</td>\n",
       "      <td>30:5</td>\n",
       "      <td>1.0</td>\n",
       "      <td>20160322.0</td>\n",
       "      <td>NaN</td>\n",
       "    </tr>\n",
       "  </tbody>\n",
       "</table>\n",
       "</div>"
      ],
      "text/plain": [
       "        User_id  Merchant_id  Coupon_id Discount_rate  Distance  \\\n",
       "288543  4742486         3381    11951.0        200:20       0.0   \n",
       "4451    1813430         2709     2840.0        100:10      10.0   \n",
       "392039   623068         3710    13056.0        150:10       4.0   \n",
       "747622  6058564         1379        NaN           NaN       1.0   \n",
       "52670   2011634         5341    11539.0          30:5       0.0   \n",
       "206095  6199769         2146        NaN           NaN       0.0   \n",
       "172179  5222033         7555       17.0          30:5      10.0   \n",
       "336072  5881087         4660     1480.0        100:10      10.0   \n",
       "285408  4206902          209    12368.0        100:10       5.0   \n",
       "222940  2508627         2934     5686.0          30:5       1.0   \n",
       "\n",
       "        Date_received        Date  \n",
       "288543     20160128.0         NaN  \n",
       "4451       20160126.0         NaN  \n",
       "392039     20160207.0         NaN  \n",
       "747622            NaN  20160419.0  \n",
       "52670      20160205.0  20160205.0  \n",
       "206095            NaN  20160128.0  \n",
       "172179     20160125.0         NaN  \n",
       "336072     20160123.0         NaN  \n",
       "285408     20160125.0         NaN  \n",
       "222940     20160322.0         NaN  "
      ]
     },
     "execution_count": 3,
     "metadata": {},
     "output_type": "execute_result"
    }
   ],
   "source": [
    "# 檢視訓練資料\n",
    "train_df = pd.read_csv('data/midterm/train_offline.csv', encoding = 'big5')\n",
    "print(train_df.shape)\n",
    "print(train_df.dtypes)\n",
    "train_df.sample(n = 10)"
   ]
  },
  {
   "cell_type": "code",
   "execution_count": 4,
   "metadata": {},
   "outputs": [
    {
     "name": "stdout",
     "output_type": "stream",
     "text": [
      "Column                   \t      isNa\n",
      "--------------------------------------------------\n",
      "User_id                  \t         0\n",
      "Merchant_id              \t         0\n",
      "Coupon_id                \t         1\n",
      "Discount_rate            \t         1\n",
      "Distance                 \t         1\n",
      "Date_received            \t         1\n",
      "Date                     \t         1\n"
     ]
    }
   ],
   "source": [
    "# 缺失值偵測\n",
    "\n",
    "print('{:<25}\\t{:>10}'.format('Column','isNa'))\n",
    "print('-'*50)\n",
    "for c in train_df.columns:\n",
    "    print('{:<25}\\t{:>10}'.format(c, np.unique(train_df[c].isna()).size > 1))"
   ]
  },
  {
   "cell_type": "code",
   "execution_count": 5,
   "metadata": {},
   "outputs": [
    {
     "name": "stdout",
     "output_type": "stream",
     "text": [
      "2.0 4.0\n"
     ]
    }
   ],
   "source": [
    "# 有購買商品時間者的平均距離\n",
    "avg_distance_1 = np.ceil(train_df[~pd.isna(train_df['Date'])]['Distance'].mean())\n",
    "# 無購買商品時間者的平均距離\n",
    "avg_distance_2 = np.ceil(train_df[pd.isna(train_df['Date'])]['Distance'].mean())\n",
    "#print(train_df[pd.isna(train_df['Distance']) & ~pd.isna(train_df['Date'])].shape)\n",
    "print(avg_distance_1, avg_distance_2)"
   ]
  },
  {
   "cell_type": "code",
   "execution_count": 6,
   "metadata": {},
   "outputs": [
    {
     "data": {
      "text/plain": [
       "<matplotlib.axes._subplots.AxesSubplot at 0x11de0ff60>"
      ]
     },
     "execution_count": 6,
     "metadata": {},
     "output_type": "execute_result"
    },
    {
     "data": {
      "image/png": "[encoded data removed]",
      "text/plain": [
       "<Figure size 432x288 with 1 Axes>"
      ]
     },
     "metadata": {
      "needs_background": "light"
     },
     "output_type": "display_data"
    }
   ],
   "source": [
    "# 各月份使用優惠券消費的次數 (月份0者，代表無使用優惠券消費)\n",
    "train_df['coupon_shoping_month'] = train_df[(np.isnan(train_df['Date']) == False) & (np.isnan(train_df['Coupon_id']) == False)]['Date'].apply(lambda d : int(str(int(d))[4:6]))\n",
    "train_df['coupon_shoping_month'].fillna(0, inplace = True)\n",
    "train_df['coupon_shoping_month'] = train_df['coupon_shoping_month'].astype('int')\n",
    "train_df[train_df['coupon_shoping_month'] >0]['coupon_shoping_month'].plot.hist(bins=5)"
   ]
  },
  {
   "cell_type": "markdown",
   "metadata": {},
   "source": [
    "### 處理缺失值"
   ]
  },
  {
   "cell_type": "code",
   "execution_count": 7,
   "metadata": {},
   "outputs": [],
   "source": [
    "# Coupon_id, Date_received, Date 缺失者不處理\n",
    "# Discount_rate 缺失者補上1.0\n",
    "# Distance 缺失者補上平均值\n",
    "train_df['Discount_rate'].fillna(1.0, inplace=True)\n",
    "# 有購買商品時間者補值avg_distance_1 \n",
    "train_df.loc[pd.isna(train_df['Distance']) & ~pd.isna(train_df['Date']), 'Distance'] = avg_distance_1\n",
    "# 無購買商品時間者補值avg_distance_2\n",
    "train_df.loc[pd.isna(train_df['Distance']) & pd.isna(train_df['Date']), 'Distance'] = avg_distance_2"
   ]
  },
  {
   "cell_type": "markdown",
   "metadata": {},
   "source": [
    "### 特徵值處理與產生新特徵\n",
    "\n",
    "- Merchant_id出現次數\n",
    "- disconut_type"
   ]
  },
  {
   "cell_type": "code",
   "execution_count": 8,
   "metadata": {},
   "outputs": [],
   "source": [
    "# 用Merchant_id出現次數,把它轉成另一種特徵\n",
    "merchant_id_counts = train_df['Merchant_id'].value_counts()\n",
    "train_df['merchant_count'] = train_df['Merchant_id'].apply(lambda m : merchant_id_counts[m])"
   ]
  },
  {
   "cell_type": "code",
   "execution_count": 9,
   "metadata": {},
   "outputs": [],
   "source": [
    "# 產生新特徵: discount_type 共有兩種比例折(1)、滿額折(2)\n",
    "def compute_discount_type_id(row):\n",
    "    if ':' in str(row['Discount_rate']):\n",
    "        return 2\n",
    "    else:\n",
    "        return 1\n",
    "    \n",
    "def compute_discount_type(df: pd.DataFrame):\n",
    "    df['discount_type_id'] = df.apply(compute_discount_type_id, axis=1)   \n",
    "    # 換成dummy variable\n",
    "    discount_type_df = pd.get_dummies(df['discount_type_id'], 'discount_type')\n",
    "    # 併入train_df\n",
    "    df = pd.concat([df, discount_type_df], axis=1)\n",
    "    return df\n",
    "\n",
    "train_df = compute_discount_type(train_df)"
   ]
  },
  {
   "cell_type": "code",
   "execution_count": 10,
   "metadata": {},
   "outputs": [],
   "source": [
    "# 產生新特徵: discount_threshold, 比例折(1)、滿額折(滿多少減多少的「滿」部份 )\n",
    "def compute_discount_threshold(row):\n",
    "    if ':' in str(row['Discount_rate']):\n",
    "        return str(row['Discount_rate']).split(':')[0]\n",
    "    else:\n",
    "        return 1\n",
    "\n",
    "train_df['discount_threshold'] = train_df.apply(compute_discount_threshold, axis=1)    "
   ]
  },
  {
   "cell_type": "code",
   "execution_count": 11,
   "metadata": {},
   "outputs": [
    {
     "data": {
      "text/plain": [
       "<matplotlib.axes._subplots.AxesSubplot at 0x14bc6ac18>"
      ]
     },
     "execution_count": 11,
     "metadata": {},
     "output_type": "execute_result"
    },
    {
     "data": {
      "image/png": "[encoded data removed]",
      "text/plain": [
       "<Figure size 432x288 with 1 Axes>"
      ]
     },
     "metadata": {
      "needs_background": "light"
     },
     "output_type": "display_data"
    }
   ],
   "source": [
    "# 優惠券取得日期屬於星期幾(1 Monday - 7 Sunday)\n",
    "\n",
    "# 用pd.to_datetime, 在macbook上要跑2分鐘\n",
    "# train_df['Date_received_day_of_week'] = train_df[~np.isnan(train_df['Date_received'])]['Date_received'].apply(lambda d : pd.to_datetime(str(int(d)), format=\"%Y%m%d\").weekday() + 1)\n",
    "# 用dateutil.parser快多了！ 在macbook上不到5秒\n",
    "def compute_received_day_of_week(df: pd.DataFrame):\n",
    "    s = df[~np.isnan(df['Date_received'])]['Date_received'].apply(lambda d : date_parser.isoparse(str(int(d))).date().weekday() + 1)\n",
    "    df['Date_received_day_of_week'] = s\n",
    "    df['Date_received_day_of_week'].fillna(0, inplace = True)\n",
    "    df['Date_received_day_of_week'] = df['Date_received_day_of_week'].astype(int)\n",
    "    # 把優惠券取得日期星期幾換成dummy variable\n",
    "    weekday_df = pd.get_dummies(df['Date_received_day_of_week'], 'Weekday')\n",
    "    return pd.concat([df, weekday_df], axis=1)\n",
    "\n",
    "train_df = compute_received_day_of_week(train_df)\n",
    "train_df[train_df['Date_received_day_of_week'] > 0]['Date_received_day_of_week'].plot.hist(bins=range(1, 9))"
   ]
  },
  {
   "cell_type": "code",
   "execution_count": 12,
   "metadata": {},
   "outputs": [
    {
     "data": {
      "text/plain": [
       "<matplotlib.axes._subplots.AxesSubplot at 0x154db1f28>"
      ]
     },
     "execution_count": 12,
     "metadata": {},
     "output_type": "execute_result"
    },
    {
     "data": {
      "image/png": "[encoded data removed]",
      "text/plain": [
       "<Figure size 432x288 with 1 Axes>"
      ]
     },
     "metadata": {
      "needs_background": "light"
     },
     "output_type": "display_data"
    }
   ],
   "source": [
    "# 折扣率，原Discount_rate可能是小數(0.9)或比例(100:10 滿100減10,其實也等於九折)\n",
    "def cnvt_discount_rate(rate_obj):\n",
    "    rate_str = str(rate_obj)\n",
    "    if rate_str == 'nan':\n",
    "        return 1\n",
    "    elif ':' in rate_str:\n",
    "        _s = rate_str.split(':')\n",
    "        return 1.0 - float(_s[1])/float(_s[0])\n",
    "    else:\n",
    "        return float(rate_str)\n",
    "\n",
    "train_df['cnvt_discount_rate'] = train_df['Discount_rate'].apply(cnvt_discount_rate)\n",
    "train_df['cnvt_discount_rate'].plot.hist()"
   ]
  },
  {
   "cell_type": "markdown",
   "metadata": {},
   "source": [
    "### 產生標籤與訓練、驗證資料集"
   ]
  },
  {
   "cell_type": "code",
   "execution_count": 13,
   "metadata": {},
   "outputs": [
    {
     "data": {
      "text/plain": [
       " 0    710665\n",
       "-1    413773\n",
       " 1     36304\n",
       "Name: label, dtype: int64"
      ]
     },
     "execution_count": 13,
     "metadata": {},
     "output_type": "execute_result"
    }
   ],
   "source": [
    "# 產生label\n",
    "# 我們要學習的是：拿到優惠券的人，會不會在15天內使用，所以還要考慮Date與Date_received的差距\n",
    "# 在所有資料中，只保留有拿優惠券者進行學習 （捨棄label = -1者）\n",
    "#\n",
    "# Date 購買商品時間\n",
    "#   Date is null & Coupon_id is not null, 則該紀錄為有優惠券但未使用; label=0\n",
    "#   Date is null & Coupon_id is null, 則該紀錄為沒有優惠券也沒有使用;  label=-1\n",
    "#   Date is not null & Coupon_id is null, 則為普通消費日期;      label=-1\n",
    "#   Date is not null & Coupon_id is not null, 則表示優惠券消費日期\n",
    "#        Date - Date_received <= 15 , label=1\n",
    "#                             else  , label=0\n",
    "\n",
    "def compute_date_diff(date: str, date_received: str):\n",
    "    return (date_parser.isoparse(date) - date_parser.isoparse(date_received)).days\n",
    "    \n",
    "\n",
    "def compute_label(row):\n",
    "    if (np.isnan(row['Date_received'])):\n",
    "        return -1\n",
    "    if (~np.isnan(row['Date'])):\n",
    "        if compute_date_diff(str(int(row['Date'])), str(int(row['Date_received']))) <= 15:\n",
    "            return 1\n",
    "        else:\n",
    "            return 0\n",
    "    else:\n",
    "        return 0   \n",
    "                                     \n",
    "train_df['label'] = train_df.apply(compute_label, axis=1)\n",
    "train_df['label'] = train_df['label'].astype(int)\n",
    "\n",
    "train_df['label'].value_counts()\n",
    "      "
   ]
  },
  {
   "cell_type": "code",
   "execution_count": 14,
   "metadata": {},
   "outputs": [
    {
     "name": "stdout",
     "output_type": "stream",
     "text": [
      "1    36304\n",
      "0    36304\n",
      "Name: label, dtype: int64\n"
     ]
    }
   ],
   "source": [
    "# 產生訓練與驗證資料集，只取label = 0或1者\n",
    "\n",
    "weekday_features = ['Weekday_' + str(i) for i in range(1,8)]\n",
    "discount_type_features = ['discount_type_1', 'discount_type_2']\n",
    "\n",
    "features = ['cnvt_discount_rate','Distance', 'Date_received_day_of_week', 'merchant_count','discount_threshold']\n",
    "# features = ['cnvt_discount_rate','Distance', 'merchant_count','discount_threshold']\n",
    "features.extend(weekday_features)\n",
    "features.extend(discount_type_features)\n",
    "\n",
    "train_X = train_df[train_df['label'] >= 0][features].copy()\n",
    "train_y = train_df[train_df['label'] >= 0]['label'].copy()\n",
    "\n",
    "# 已知標籤裡，0 : 1 大約 20 : 1\n",
    "# 若換成 2 : 1 來做訓練，不知有何不同\n",
    "\n",
    "train_X_0 = train_df[train_df['label'] == 0][features].copy()\n",
    "train_X_1 = train_df[train_df['label'] == 1][features].copy()\n",
    "train_y_0 = train_df[train_df['label'] == 0]['label'].copy()\n",
    "train_y_1 = train_df[train_df['label'] == 1]['label'].copy()\n",
    "\n",
    "train_X_0 = train_X_0.sample(train_X_1.shape[0])\n",
    "train_y_0 = train_y_0.sample(train_y_1.shape[0])\n",
    "\n",
    "train_X = pd.concat([train_X_0, train_X_1], axis=0)\n",
    "train_y = pd.concat([train_y_0, train_y_1], axis=0)\n",
    "\n",
    "# scaler = StandardScaler()\n",
    "# train_X = scaler.fit_transform(train_X)\n",
    "\n",
    "train_train_X, test_train_X, train_train_y, test_train_y = train_test_split(train_X, train_y, \n",
    "                                                                            test_size=0.2, random_state = 42)\n",
    "\n",
    "print(train_y.value_counts())"
   ]
  },
  {
   "cell_type": "code",
   "execution_count": 15,
   "metadata": {},
   "outputs": [
    {
     "data": {
      "text/plain": [
       "<matplotlib.axes._subplots.AxesSubplot at 0x1249090b8>"
      ]
     },
     "execution_count": 15,
     "metadata": {},
     "output_type": "execute_result"
    },
    {
     "data": {
      "image/png": "[encoded data removed]",
      "text/plain": [
       "<Figure size 1008x864 with 2 Axes>"
      ]
     },
     "metadata": {
      "needs_background": "light"
     },
     "output_type": "display_data"
    }
   ],
   "source": [
    "colormap = plt.cm.RdBu\n",
    "plt.figure(figsize=(14,12))\n",
    "plt.title('Pearson Correlation of Features', y=1.05, size=15)\n",
    "sns.heatmap(train_X.astype(float).corr(),linewidths=0.1,vmax=1.0, \n",
    "            square=True, cmap=colormap, linecolor='white', annot=True)"
   ]
  },
  {
   "cell_type": "markdown",
   "metadata": {},
   "source": [
    "### 模型訓練與驗證"
   ]
  },
  {
   "cell_type": "code",
   "execution_count": 16,
   "metadata": {},
   "outputs": [
    {
     "data": {
      "text/plain": [
       "RandomForestClassifier(bootstrap=True, class_weight=None, criterion='gini',\n",
       "            max_depth=None, max_features='sqrt', max_leaf_nodes=None,\n",
       "            min_impurity_decrease=0.0, min_impurity_split=None,\n",
       "            min_samples_leaf=1, min_samples_split=2,\n",
       "            min_weight_fraction_leaf=0.0, n_estimators=100, n_jobs=None,\n",
       "            oob_score=False, random_state=None, verbose=0,\n",
       "            warm_start=False)"
      ]
     },
     "execution_count": 16,
     "metadata": {},
     "output_type": "execute_result"
    }
   ],
   "source": [
    "# 隨機森林\n",
    "rfc = RandomForestClassifier(max_features= 'sqrt' ,n_estimators=100)\n",
    "rfc.fit(train_train_X, train_train_y)\n",
    "# cross_val_score(rfc, train_train_X, train_train_y, cv=10)"
   ]
  },
  {
   "cell_type": "code",
   "execution_count": 17,
   "metadata": {},
   "outputs": [
    {
     "data": {
      "text/plain": [
       "GradientBoostingClassifier(criterion='friedman_mse', init=None,\n",
       "              learning_rate=0.1, loss='deviance', max_depth=3,\n",
       "              max_features=None, max_leaf_nodes=None,\n",
       "              min_impurity_decrease=0.0, min_impurity_split=None,\n",
       "              min_samples_leaf=1, min_samples_split=2,\n",
       "              min_weight_fraction_leaf=0.0, n_estimators=100,\n",
       "              n_iter_no_change=None, presort='auto', random_state=None,\n",
       "              subsample=1.0, tol=0.0001, validation_fraction=0.1,\n",
       "              verbose=0, warm_start=False)"
      ]
     },
     "execution_count": 17,
     "metadata": {},
     "output_type": "execute_result"
    }
   ],
   "source": [
    "# 梯度提升機\n",
    "gbm = GradientBoostingClassifier(loss = 'deviance', learning_rate = 0.1, n_estimators = 100)\n",
    "gbm.fit(train_train_X, train_train_y)"
   ]
  },
  {
   "cell_type": "code",
   "execution_count": 18,
   "metadata": {},
   "outputs": [
    {
     "data": {
      "text/plain": [
       "LogisticRegression(C=1.0, class_weight=None, dual=False, fit_intercept=True,\n",
       "          intercept_scaling=1, max_iter=100, multi_class='warn',\n",
       "          n_jobs=None, penalty='l2', random_state=None, solver='warn',\n",
       "          tol=0.0001, verbose=0, warm_start=False)"
      ]
     },
     "execution_count": 18,
     "metadata": {},
     "output_type": "execute_result"
    }
   ],
   "source": [
    "# 邏輯斯回歸\n",
    "lrc = LogisticRegression()\n",
    "lrc.fit(train_train_X, train_train_y)"
   ]
  },
  {
   "cell_type": "code",
   "execution_count": 19,
   "metadata": {},
   "outputs": [
    {
     "data": {
      "text/plain": [
       "VotingClassifier(estimators=[('gbm', GradientBoostingClassifier(criterion='friedman_mse', init=None,\n",
       "              learning_rate=0.1, loss='deviance', max_depth=3,\n",
       "              max_features=None, max_leaf_nodes=None,\n",
       "              min_impurity_decrease=0.0, min_impurity_split=None,\n",
       "              min_samples_leaf=1,...obs=None,\n",
       "            oob_score=False, random_state=None, verbose=0,\n",
       "            warm_start=False))],\n",
       "         flatten_transform=None, n_jobs=None, voting='soft', weights=None)"
      ]
     },
     "execution_count": 19,
     "metadata": {},
     "output_type": "execute_result"
    }
   ],
   "source": [
    "ve = VotingClassifier(estimators=[('gbm', gbm), ('lrv', lrc), ('rfc', rfc)], voting='soft')\n",
    "ve.fit(train_train_X, train_train_y)"
   ]
  },
  {
   "cell_type": "code",
   "execution_count": 26,
   "metadata": {},
   "outputs": [
    {
     "name": "stdout",
     "output_type": "stream",
     "text": [
      "AUC 0.8793006541318085\n",
      "Accuracy 0.8088417573337006\n"
     ]
    }
   ],
   "source": [
    "# 對測試集進行預測\n",
    "clf = gbm\n",
    "\n",
    "test_train_y_pred = clf.predict_proba(test_train_X)\n",
    "print('AUC', roc_auc_score(test_train_y, test_train_y_pred[:, 1]))\n",
    "print('Accuracy', accuracy_score(test_train_y, np.argmax(test_train_y_pred, axis=1)))"
   ]
  },
  {
   "cell_type": "markdown",
   "metadata": {},
   "source": [
    "### 處理與預測測試資料\n",
    "\n",
    "- 處理方式比對上述訓練資料\n",
    "- 填補缺失值\n",
    "- 轉換待徵\n",
    "- 產生測試樣本\n",
    "- 預期提交預測數是 304096\n",
    "- 提交時發現驗證失敗，才知道原來User_id + Date_received + Coupon_id會重複\n",
    "- 用df.drop_duplicate()解決上述問題，再次submit時又報錯：\n",
    "```\n",
    "ERROR: Unable to find 304096 required key values in the 'uid' column\n",
    "ERROR: Unable to find the required key value '1000020_2705_20160519' in the 'uid' column\n",
    "ERROR: Unable to find the required key value '1000020_8192_20160513' in the 'uid' column\n",
    "ERROR: Unable to find the required key value '1000065_1455_20160527' in the 'uid' column\n",
    "ERROR: Unable to find the required key value '1000085_8067_20160513' in the 'uid' column\n",
    "ERROR: Unable to find the required key value '1000086_2418_20160613' in the 'uid' column\n",
    "ERROR: Unable to find the required key value '1000140_8192_20160526' in the 'uid' column\n",
    "ERROR: Unable to find the required key value '1000169_2418_20160606' in the 'uid' column\n",
    "ERROR: Unable to find the required key value '1000297_13704_20160520' in the 'uid' column\n",
    "ERROR: Unable to find the required key value '1000324_13165_20160526' in the 'uid' column\n",
    "```"
   ]
  },
  {
   "cell_type": "code",
   "execution_count": 21,
   "metadata": {},
   "outputs": [],
   "source": [
    "def compute_merchant_id_count(merchant_id):\n",
    "    if merchant_id in merchant_id_counts:\n",
    "        return merchant_id_counts[merchant_id]\n",
    "    else:\n",
    "        return 0"
   ]
  },
  {
   "cell_type": "code",
   "execution_count": 22,
   "metadata": {},
   "outputs": [
    {
     "data": {
      "text/html": [
       "<div>\n",
       "<style scoped>\n",
       "    .dataframe tbody tr th:only-of-type {\n",
       "        vertical-align: middle;\n",
       "    }\n",
       "\n",
       "    .dataframe tbody tr th {\n",
       "        vertical-align: top;\n",
       "    }\n",
       "\n",
       "    .dataframe thead th {\n",
       "        text-align: right;\n",
       "    }\n",
       "</style>\n",
       "<table border=\"1\" class=\"dataframe\">\n",
       "  <thead>\n",
       "    <tr style=\"text-align: right;\">\n",
       "      <th></th>\n",
       "      <th>User_id</th>\n",
       "      <th>Merchant_id</th>\n",
       "      <th>Coupon_id</th>\n",
       "      <th>Discount_rate</th>\n",
       "      <th>Distance</th>\n",
       "      <th>Date_received</th>\n",
       "    </tr>\n",
       "  </thead>\n",
       "  <tbody>\n",
       "    <tr>\n",
       "      <th>356167</th>\n",
       "      <td>4815507</td>\n",
       "      <td>2174</td>\n",
       "      <td>NaN</td>\n",
       "      <td>NaN</td>\n",
       "      <td>1.0</td>\n",
       "      <td>NaN</td>\n",
       "    </tr>\n",
       "    <tr>\n",
       "      <th>390020</th>\n",
       "      <td>518441</td>\n",
       "      <td>6792</td>\n",
       "      <td>10403.0</td>\n",
       "      <td>30:1</td>\n",
       "      <td>0.0</td>\n",
       "      <td>20160615.0</td>\n",
       "    </tr>\n",
       "    <tr>\n",
       "      <th>517029</th>\n",
       "      <td>3988367</td>\n",
       "      <td>3447</td>\n",
       "      <td>6922.0</td>\n",
       "      <td>50:10</td>\n",
       "      <td>0.0</td>\n",
       "      <td>20160614.0</td>\n",
       "    </tr>\n",
       "    <tr>\n",
       "      <th>48212</th>\n",
       "      <td>973587</td>\n",
       "      <td>797</td>\n",
       "      <td>12331.0</td>\n",
       "      <td>30:5</td>\n",
       "      <td>NaN</td>\n",
       "      <td>20160513.0</td>\n",
       "    </tr>\n",
       "    <tr>\n",
       "      <th>432970</th>\n",
       "      <td>2486806</td>\n",
       "      <td>4123</td>\n",
       "      <td>7180.0</td>\n",
       "      <td>50:5</td>\n",
       "      <td>0.0</td>\n",
       "      <td>20160607.0</td>\n",
       "    </tr>\n",
       "    <tr>\n",
       "      <th>394930</th>\n",
       "      <td>1308336</td>\n",
       "      <td>3546</td>\n",
       "      <td>NaN</td>\n",
       "      <td>NaN</td>\n",
       "      <td>1.0</td>\n",
       "      <td>NaN</td>\n",
       "    </tr>\n",
       "    <tr>\n",
       "      <th>384353</th>\n",
       "      <td>1255062</td>\n",
       "      <td>7150</td>\n",
       "      <td>3309.0</td>\n",
       "      <td>30:1</td>\n",
       "      <td>NaN</td>\n",
       "      <td>20160504.0</td>\n",
       "    </tr>\n",
       "    <tr>\n",
       "      <th>191305</th>\n",
       "      <td>249428</td>\n",
       "      <td>4663</td>\n",
       "      <td>11002.0</td>\n",
       "      <td>150:20</td>\n",
       "      <td>NaN</td>\n",
       "      <td>20160528.0</td>\n",
       "    </tr>\n",
       "    <tr>\n",
       "      <th>377861</th>\n",
       "      <td>1362054</td>\n",
       "      <td>6468</td>\n",
       "      <td>9972.0</td>\n",
       "      <td>20:5</td>\n",
       "      <td>2.0</td>\n",
       "      <td>20160506.0</td>\n",
       "    </tr>\n",
       "    <tr>\n",
       "      <th>123569</th>\n",
       "      <td>4986734</td>\n",
       "      <td>6530</td>\n",
       "      <td>12461.0</td>\n",
       "      <td>20:1</td>\n",
       "      <td>2.0</td>\n",
       "      <td>20160503.0</td>\n",
       "    </tr>\n",
       "  </tbody>\n",
       "</table>\n",
       "</div>"
      ],
      "text/plain": [
       "        User_id  Merchant_id  Coupon_id Discount_rate  Distance  Date_received\n",
       "356167  4815507         2174        NaN           NaN       1.0            NaN\n",
       "390020   518441         6792    10403.0          30:1       0.0     20160615.0\n",
       "517029  3988367         3447     6922.0         50:10       0.0     20160614.0\n",
       "48212    973587          797    12331.0          30:5       NaN     20160513.0\n",
       "432970  2486806         4123     7180.0          50:5       0.0     20160607.0\n",
       "394930  1308336         3546        NaN           NaN       1.0            NaN\n",
       "384353  1255062         7150     3309.0          30:1       NaN     20160504.0\n",
       "191305   249428         4663    11002.0        150:20       NaN     20160528.0\n",
       "377861  1362054         6468     9972.0          20:5       2.0     20160506.0\n",
       "123569  4986734         6530    12461.0          20:1       2.0     20160503.0"
      ]
     },
     "execution_count": 22,
     "metadata": {},
     "output_type": "execute_result"
    }
   ],
   "source": [
    "test_df = pd.read_csv('data/midterm/test_offline.csv')\n",
    "test_df.sample(10)\n"
   ]
  },
  {
   "cell_type": "code",
   "execution_count": 23,
   "metadata": {},
   "outputs": [
    {
     "name": "stdout",
     "output_type": "stream",
     "text": [
      "(304096, 2)\n"
     ]
    }
   ],
   "source": [
    "# 載入測試資料\n",
    "test_df = pd.read_csv('data/midterm/test_offline.csv')\n",
    "\n",
    "# 保留有Coupon_id者\n",
    "test_df = test_df[~pd.isna(test_df['Coupon_id'])]\n",
    "test_df.reset_index(drop=True, inplace=True)\n",
    "\n",
    "\n",
    "# 轉換待徵:\n",
    "#     優惠券取得日期屬於星期幾\n",
    "test_df = compute_received_day_of_week(test_df)\n",
    "#     Merchant_id count\n",
    "test_df['merchant_count'] = test_df['Merchant_id'].apply(lambda m : compute_merchant_id_count(m))\n",
    "#     discount_type\n",
    "test_df = compute_discount_type(test_df)\n",
    "\n",
    "# 填補缺失值\n",
    "test_df['User_id'].fillna(0, inplace = True)\n",
    "test_df['Merchant_id'].fillna(0, inplace = True)\n",
    "test_df['merchant_count'].fillna(0, inplace = True)\n",
    "test_df['Discount_rate'].fillna(1.0, inplace=True)\n",
    "test_df['Distance'].fillna(test_df['Distance'].mean(), inplace=True)\n",
    "test_df['Date_received'].fillna(0, inplace=True)\n",
    "\n",
    "# 加上uid, 將 User_id - Date_received - Coupon_id 為一組計\n",
    "test_df['uid'] = test_df.apply(lambda row : '{}_{}_{}'.format(int(row['User_id']), int(row['Coupon_id']), int(row['Date_received'])), axis=1)\n",
    "\n",
    "# 折扣率\n",
    "test_df['cnvt_discount_rate'] = test_df['Discount_rate'].apply(cnvt_discount_rate)\n",
    "# 折扣門檻\n",
    "test_df['discount_threshold'] = test_df.apply(compute_discount_threshold, axis=1)   \n",
    "\n",
    "# 產生測試樣本\n",
    "test_X = test_df[features].copy()\n",
    "# scaler = StandardScaler()\n",
    "# test_X = scaler.fit_transform(test_X)\n",
    "\n",
    "# 進行預測\n",
    "test_y_pred = clf.predict_proba(test_X)\n",
    "submit_df = pd.DataFrame({'uid': test_df['uid'], 'label': test_y_pred[:, 1]})\n",
    "\n",
    "# DataFrame.drop_duplicates(subset=None, keep='first', inplace=False)[source]\n",
    "submit_df.drop_duplicates(subset='uid', keep='last', inplace = True)\n",
    "print(submit_df.shape)\n",
    "submit_df.to_csv('data/midterm/submit_{}.csv'.format(int(datetime.now().timestamp())), index = False)"
   ]
  },
  {
   "cell_type": "markdown",
   "metadata": {},
   "source": [
    "###  備用區"
   ]
  },
  {
   "cell_type": "code",
   "execution_count": null,
   "metadata": {},
   "outputs": [],
   "source": [
    "# 隨機森林\n",
    "rfc = RandomForestClassifier(n_jobs=-1,max_features= 'sqrt' ,n_estimators=50, oob_score = True) \n",
    "\n",
    "param_grid = { \n",
    "    'n_estimators': [100, 200],\n",
    "    'max_features': ['sqrt', 'log2']\n",
    "}\n",
    "grid_rfc = GridSearchCV(rfc, param_grid, cv= 5)\n",
    "grid_rfc.fit(train_train_X, train_train_y)\n",
    "print(grid_rfc.best_params_)"
   ]
  }
 ],
 "metadata": {
  "kernelspec": {
   "display_name": "Python 3",
   "language": "python",
   "name": "python3"
  },
  "language_info": {
   "codemirror_mode": {
    "name": "ipython",
    "version": 3
   },
   "file_extension": ".py",
   "mimetype": "text/x-python",
   "name": "python",
   "nbconvert_exporter": "python",
   "pygments_lexer": "ipython3",
   "version": "3.7.3"
  }
 },
 "nbformat": 4,
 "nbformat_minor": 2
}
