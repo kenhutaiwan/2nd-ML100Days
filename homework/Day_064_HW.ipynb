{
 "cells": [
  {
   "cell_type": "markdown",
   "metadata": {},
   "source": [
    "# 作業\n",
    "* 選擇迴歸資料集(右) - 交錯六群，在其他參數保持預設值的情況下，只允許調整隱藏層層數與神經元數量，且遵守下列限制   \n",
    "> * 隱藏層神經元總數最多 8 個 (即 : 可以單層 8 個，或兩層 5 個與 3 個)   \n",
    "> * 遞迴次數只允許跑到500次  \n",
    "* 在上述限制下，挑戰看看測試誤差 (Test Loss) 最低能到多少? 請回答你的神經元參數與 Test Loss 數"
   ]
  },
  {
   "cell_type": "markdown",
   "metadata": {
    "collapsed": true
   },
   "source": [
    "### Answer:\n",
    "\n",
    "\n",
    "| Layers | Neurons | Iteration | Test Loss|\n",
    "|--------|---------|-----------|----------|\n",
    "|1|(8)|507|0.016|\n",
    "|2|(2,6)|499|0.032|\n",
    "|2|(4,4)|500|0.019|\n",
    "|2|(5,3)|502|0.012|\n",
    "|2|(6,2)|502|0.015|\n",
    "|3|(2,3,3)|503|0.028|\n",
    "|3|(2,4,2)|499|0.031|\n",
    "|4|(2,2,2,2)|505|0.039|\n",
    "\n",
    "就結果來看，隱藏層以兩層為佳。Test Loss最低者為0.012"
   ]
  }
 ],
 "metadata": {
  "kernelspec": {
   "display_name": "Python 3",
   "language": "python",
   "name": "python3"
  },
  "language_info": {
   "codemirror_mode": {
    "name": "ipython",
    "version": 3
   },
   "file_extension": ".py",
   "mimetype": "text/x-python",
   "name": "python",
   "nbconvert_exporter": "python",
   "pygments_lexer": "ipython3",
   "version": "3.7.1"
  }
 },
 "nbformat": 4,
 "nbformat_minor": 2
}
